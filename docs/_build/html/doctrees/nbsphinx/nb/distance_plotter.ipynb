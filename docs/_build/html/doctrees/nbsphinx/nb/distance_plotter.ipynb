{
 "cells": [
  {
   "cell_type": "markdown",
   "id": "ffaa7959",
   "metadata": {},
   "source": [
    "# Body-part distance plots"
   ]
  },
  {
   "cell_type": "markdown",
   "id": "5ea06442",
   "metadata": {},
   "source": [
    "Visualize the distances between pose-estimated body-parts (e.g., two animals) through line charts. Results are saved as individual line charts, and/or a video of line charts.Uses multiprocessing."
   ]
  },
  {
   "cell_type": "code",
   "execution_count": 1,
   "id": "b96e515d",
   "metadata": {},
   "outputs": [],
   "source": [
    "from simba.plotting.distance_plotter_mp import DistancePlotterMultiCore"
   ]
  },
  {
   "cell_type": "code",
   "execution_count": 11,
   "id": "6a82b2a2",
   "metadata": {},
   "outputs": [],
   "source": [
    "#DEFINITIONS\n",
    "CONFIG_PATH = '/Users/simon/Desktop/envs/troubleshooting/Termites_5/project_folder/project_config.ini'\n",
    "STYLE_ATTRIBUTES = {'width': 640, \n",
    "                    'height': 480, \n",
    "                    'line width': 6, \n",
    "                    'font size': 8, \n",
    "                    'y_max': 'auto', \n",
    "                    'opacity': 0.9}\n",
    "LINE_ATTRIBUTES = {0: ['Termite_1_Head_1', 'Termite_4_Thorax_4', 'Dark-red'], 1: ['Termite_3_Head_3', 'Termite_4_Thorax_4', 'Orange']}\n",
    "DATA_PATHS = ['/Users/simon/Desktop/envs/troubleshooting/Termites_5/project_folder/csv/outlier_corrected_movement_location/termite_test.csv']\n",
    "VIDEO_SETTING = True\n",
    "FRAME_SETTING = False\n",
    "FINAL_IMAGE = True\n",
    "CORES = 5"
   ]
  },
  {
   "cell_type": "code",
   "execution_count": 12,
   "id": "93d6d4ce",
   "metadata": {},
   "outputs": [
    {
     "name": "stdout",
     "output_type": "stream",
     "text": [
      "Processing 1 videos...\n",
      "Creating distance plots, multiprocessing (chunksize: 1, cores: 5)...\n",
      "Image 196/978, Video 1/1...\n",
      "Image 392/978, Video 1/1...\n",
      "Image 588/978, Video 1/1...\n",
      "Image 784/978, Video 1/1...\n",
      "Image 980/978, Video 1/1...\n",
      "Joining termite_test multiprocessed video...\n",
      "SIMBA COMPLETE: Video concatenated (elapsed time: 1.597s) \tcomplete\n",
      "Distance line chart video termite_test complete (elapsed time: 32.7197s) ...\n",
      "SIMBA COMPLETE: Distance plot visualizations for 1 video(s) created in project_folder/frames/output/line_plot directory (elapsed time: 32.7403s) \tcomplete\n"
     ]
    }
   ],
   "source": [
    "plotter = DistancePlotterMultiCore(config_path=CONFIG_PATH,\n",
    "                                   frame_setting=FRAME_SETTING,\n",
    "                                   video_setting=VIDEO_SETTING,\n",
    "                                   style_attr=STYLE_ATTRIBUTES,\n",
    "                                   final_img=FINAL_IMAGE,\n",
    "                                   files_found=DATA_PATHS,\n",
    "                                   line_attr=LINE_ATTRIBUTES,\n",
    "                                   core_cnt=CORES)\n",
    "plotter.create_distance_plot()"
   ]
  },
  {
   "cell_type": "code",
   "execution_count": null,
   "id": "5c58ca01",
   "metadata": {},
   "outputs": [],
   "source": []
  }
 ],
 "metadata": {
  "kernelspec": {
   "display_name": "Python [conda env:simba_dev] *",
   "language": "python",
   "name": "conda-env-simba_dev-py"
  },
  "language_info": {
   "codemirror_mode": {
    "name": "ipython",
    "version": 3
   },
   "file_extension": ".py",
   "mimetype": "text/x-python",
   "name": "python",
   "nbconvert_exporter": "python",
   "pygments_lexer": "ipython3",
   "version": "3.6.13"
  }
 },
 "nbformat": 4,
 "nbformat_minor": 5
}
