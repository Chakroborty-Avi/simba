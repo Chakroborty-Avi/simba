{
 "cells": [
  {
   "cell_type": "markdown",
   "id": "6e3721a9",
   "metadata": {},
   "source": [
    "# Gantt plots"
   ]
  },
  {
   "cell_type": "markdown",
   "id": "f9880e71",
   "metadata": {},
   "source": [
    "Multiprocess creation of classifier gantt charts in video and/or image format."
   ]
  },
  {
   "cell_type": "code",
   "execution_count": 2,
   "id": "f8ce3da7",
   "metadata": {},
   "outputs": [],
   "source": [
    "from simba.plotting.gantt_creator_mp import GanttCreatorMultiprocess"
   ]
  },
  {
   "cell_type": "code",
   "execution_count": 9,
   "id": "a408e18a",
   "metadata": {},
   "outputs": [],
   "source": [
    "# DEFINITIONS\n",
    "CONFIG_PATH = '/Users/simon/Desktop/envs/troubleshooting/two_black_animals_14bp/project_folder/project_config.ini'\n",
    "STYLE_ATTRIBUTES = {'width': 640, \n",
    "                    'height': 480,\n",
    "                    'font size': 12,\n",
    "                    'font rotation': 45} # Attributes of gannt chart (size, font size, font rotation etc).\n",
    "FRAME_SETTING = False # If True, creates individual frames.\n",
    "VIDEO_SETTING = True # If True, creates videos\n",
    "LAST_FRAME_SETTING = True # If True, creates single .png image representing entire video.\n",
    "CORES = 5 # Number of cores to use.\n",
    "DATA_PATHS = ['/Users/simon/Desktop/envs/troubleshooting/two_black_animals_14bp/project_folder/csv/machine_results/Together_1.csv'] # File paths representing files with machine predictions."
   ]
  },
  {
   "cell_type": "code",
   "execution_count": 10,
   "id": "75f8ffcc",
   "metadata": {},
   "outputs": [
    {
     "name": "stdout",
     "output_type": "stream",
     "text": [
      "Processing 1 video(s)...\n",
      "Processing video Together_1, Frame count: 1738 (Video 1/1)...\n",
      "SIMBA COMPLETE: Final gantt frame for video Together_1 saved at /Users/simon/Desktop/envs/troubleshooting/two_black_animals_14bp/project_folder/frames/output/gantt_plots/Together_1_final_image.png (elapsed time: 0.0967s) \tcomplete\n",
      "Creating gantt, multiprocessing (chunksize: 1, cores: 5)...\n",
      "Image 348/1738, Video 1/1...\n",
      "Image 696/1738, Video 1/1...\n",
      "Image 1044/1738, Video 1/1...\n",
      "Image 1392/1738, Video 1/1...\n",
      "Image 1740/1738, Video 1/1...\n",
      "Joining Together_1 multiprocessed video...\n",
      "SIMBA COMPLETE: Video concatenated (elapsed time: 1.7143s) \tcomplete\n",
      "Gantt video Together_1 complete (elapsed time: 26.7731s) ...\n",
      "SIMBA COMPLETE: Gantt visualizations for 1 videos created in project_folder/frames/output/gantt_plots directory (elapsed time: 26.7921s) \tcomplete\n"
     ]
    }
   ],
   "source": [
    "gantt_creator = GanttCreatorMultiprocess(config_path=CONFIG_PATH,\n",
    "                                         frame_setting=FRAME_SETTING,\n",
    "                                         video_setting=VIDEO_SETTING,\n",
    "                                         last_frm_setting=LAST_FRAME_SETTING,\n",
    "                                         style_attr=STYLE_ATTRIBUTES,\n",
    "                                         cores=CORES,\n",
    "                                         files_found=DATA_PATHS)\n",
    "gantt_creator.run()\n"
   ]
  },
  {
   "cell_type": "code",
   "execution_count": null,
   "id": "d555f5df",
   "metadata": {},
   "outputs": [],
   "source": []
  }
 ],
 "metadata": {
  "kernelspec": {
   "display_name": "Python [conda env:simba_dev] *",
   "language": "python",
   "name": "conda-env-simba_dev-py"
  },
  "language_info": {
   "codemirror_mode": {
    "name": "ipython",
    "version": 3
   },
   "file_extension": ".py",
   "mimetype": "text/x-python",
   "name": "python",
   "nbconvert_exporter": "python",
   "pygments_lexer": "ipython3",
   "version": "3.6.13"
  }
 },
 "nbformat": 4,
 "nbformat_minor": 5
}
