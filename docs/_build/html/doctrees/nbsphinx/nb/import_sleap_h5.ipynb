{
 "cells": [
  {
   "cell_type": "markdown",
   "id": "b9ca18fc",
   "metadata": {},
   "source": [
    "#### Import SLEAP H5 files "
   ]
  },
  {
   "cell_type": "markdown",
   "id": "aa326dda",
   "metadata": {},
   "source": [
    "Importing a directory of .SLP files into a SimBA project. The .SLP files has been created by joining several .SLP files.\n",
    "\n",
    "> NOTE I: Use simba-uw-tf-dev version >=1.70.5\n",
    "\n",
    "> NOTE II: The .SLP files has to have been joined in the same order. E.g., all .SLP files has to have been left joined on `Dam`. There should not be some files which has been left joined on `Nest`, and some on `Dam`. "
   ]
  },
  {
   "cell_type": "code",
   "execution_count": 3,
   "id": "0980ef83",
   "metadata": {},
   "outputs": [],
   "source": [
    "import os\n",
    "from simba.mixins.config_reader import ConfigReader\n",
    "from simba.utils.read_write import find_files_of_filetypes_in_directory, write_df\n",
    "from simba.utils.data import slp_to_df_convert\n",
    "from simba.utils.read_write import get_fn_ext\n",
    "from simba.data_processors.interpolation_smoothing import Smooth, Interpolate"
   ]
  },
  {
   "cell_type": "code",
   "execution_count": 4,
   "id": "df59619d",
   "metadata": {},
   "outputs": [],
   "source": [
    "# DEFINE THE DIRECTORY CONTAINING YOUR SLEAP DATA IN H5 FORMAT AND THE PATH TO YOUR SIMBA PROJECT CONFIG\n",
    "DATA_DIR = '/Users/simon/Desktop/envs/troubleshooting/sleap_dam_roi/data'\n",
    "CONFIG_PATH = '/Users/simon/Desktop/envs/troubleshooting/sleap_dam_roi/project_folder/project_config.ini'"
   ]
  },
  {
   "cell_type": "code",
   "execution_count": 5,
   "id": "fbfd1b2f",
   "metadata": {},
   "outputs": [],
   "source": [
    "#SPECIFY SMOOTHING AND INTERPOLATION SETTINGS\n",
    "interpolation_method = 'Body-parts: Nearest' # Set to \"None\" if interpolation should be skipped\n",
    "smoothing_method = {'Method': 'Savitzky Golay', 'Parameters': {'Time_window': '200'}}"
   ]
  },
  {
   "cell_type": "code",
   "execution_count": 8,
   "id": "f122c47a",
   "metadata": {},
   "outputs": [],
   "source": [
    "# READ IN THE SIMBA PROJECT CONFIG AND FIND THE H5 PATHS INSIDE THE DATA_DIR\n",
    "config = ConfigReader(config_path=CONFIG_PATH, read_video_info=False)\n",
    "data_files = find_files_of_filetypes_in_directory(directory=DATA_DIR, extensions=['.h5'], raise_error=True)"
   ]
  },
  {
   "cell_type": "markdown",
   "id": "3f6333cc",
   "metadata": {},
   "source": [
    "FOR EVERY H5 FILE FOUND IN THE DATA_DIR, WE (i) CONVERT IT TO A DATAFRAME AND APPEND THE HEADERS AS DEFINED IN THE SIMBA PROJECT, AND (ii) SAVE THE DATAFRAME IN THE SIMBA PROJECT `project_folder/csv/input_csv` directory.\n",
    "\n",
    "> Note: We pass `joined_tracks=True` to ``slp_to_df_convert`` to specify that the .SLP files has been created by joining several .SLP files."
   ]
  },
  {
   "cell_type": "code",
   "execution_count": 9,
   "id": "97eb4f62",
   "metadata": {},
   "outputs": [
    {
     "name": "stdout",
     "output_type": "stream",
     "text": [
      "Importing LBNL4b_LBN_P05_3_2022-01-17_19-48-06c...\n",
      "Interpolating 50597 Dam_Nose_1 body-parts for animal Dam in video LBNL4b_LBN_P05_3_2022-01-17_19-48-06c...\n",
      "Interpolating 1653 Dam_Head_1 body-parts for animal Dam in video LBNL4b_LBN_P05_3_2022-01-17_19-48-06c...\n",
      "Interpolating 298 Dam_Body_1 body-parts for animal Dam in video LBNL4b_LBN_P05_3_2022-01-17_19-48-06c...\n",
      "Interpolating 34014 Dam_Tail_1 body-parts for animal Dam in video LBNL4b_LBN_P05_3_2022-01-17_19-48-06c...\n",
      "Interpolating 251 Nest_First_corner_2 body-parts for animal Nest in video LBNL4b_LBN_P05_3_2022-01-17_19-48-06c...\n",
      "Interpolating 8 Nest_Second_corner_2 body-parts for animal Nest in video LBNL4b_LBN_P05_3_2022-01-17_19-48-06c...\n",
      "Interpolating 139 Nest_Third_corner_2 body-parts for animal Nest in video LBNL4b_LBN_P05_3_2022-01-17_19-48-06c...\n",
      "Interpolating 177 Nest_Fourth_corner_2 body-parts for animal Nest in video LBNL4b_LBN_P05_3_2022-01-17_19-48-06c...\n",
      "Interpolating 1551 Nest_Fifth_corner_2 body-parts for animal Nest in video LBNL4b_LBN_P05_3_2022-01-17_19-48-06c...\n",
      "Interpolating 1056 Nest_Sixth_corner_2 body-parts for animal Nest in video LBNL4b_LBN_P05_3_2022-01-17_19-48-06c...\n",
      "Interpolating 23041 Nest_Sevent_corner_2 body-parts for animal Nest in video LBNL4b_LBN_P05_3_2022-01-17_19-48-06c...\n",
      "Video LBNL4b_LBN_P05_3_2022-01-17_19-48-06c interpolated (elapsed time 5.4641) ...\n",
      "SIMBA COMPLETE: 1 data file(s) interpolated) (elapsed time: 5.47s) \tcomplete\n",
      "Video LBNL4b_LBN_P05_3_2022-01-17_19-48-06c smoothed (Savitzky Golay: 200ms) (elapsed time 4.3516)...\n",
      "SIMBA COMPLETE: 1 data file(s) smoothened (elapsed time: 4.3593s) \tcomplete\n",
      "Complete: LBNL4b_LBN_P05_3_2022-01-17_19-48-06c...\n"
     ]
    }
   ],
   "source": [
    "for file_path in data_files:\n",
    "    _, video_name, _ = get_fn_ext(filepath=file_path)\n",
    "    print(f'Importing {video_name}...')\n",
    "    df = slp_to_df_convert(file_path=file_path, headers=config.bp_col_names, joined_tracks=True)\n",
    "    save_path = os.path.join(config.input_csv_dir, f'{video_name}.csv')\n",
    "    write_df(df=df, file_type='csv', save_path=save_path, multi_idx_header=True)\n",
    "\n",
    "    #Run interpolation if `interpolation_method` is not \"None\"\n",
    "    if interpolation_method != 'None':\n",
    "        Interpolate(input_path=save_path,\n",
    "                    config_path=CONFIG_PATH,\n",
    "                    method=interpolation_method,\n",
    "                    initial_import_multi_index=True)\n",
    "\n",
    "    # Run smoothing if `smoothing_method['Method']` is not \"None\"\n",
    "    if smoothing_method['Method'] != 'None':\n",
    "        Smooth(config_path=CONFIG_PATH,\n",
    "               input_path=save_path,\n",
    "               time_window=int(smoothing_method['Parameters']['Time_window']),\n",
    "               smoothing_method=smoothing_method['Method'],\n",
    "               initial_import_multi_index=True)\n",
    "\n",
    "    print(f'Complete: {video_name}...')"
   ]
  },
  {
   "cell_type": "code",
   "execution_count": null,
   "id": "d5fcfeb1",
   "metadata": {},
   "outputs": [],
   "source": []
  }
 ],
 "metadata": {
  "kernelspec": {
   "display_name": "Python [conda env:.conda-simba_dev]",
   "language": "python",
   "name": "conda-env-.conda-simba_dev-py"
  },
  "language_info": {
   "codemirror_mode": {
    "name": "ipython",
    "version": 3
   },
   "file_extension": ".py",
   "mimetype": "text/x-python",
   "name": "python",
   "nbconvert_exporter": "python",
   "pygments_lexer": "ipython3",
   "version": "3.6.13"
  }
 },
 "nbformat": 4,
 "nbformat_minor": 5
}
