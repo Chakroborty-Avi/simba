{
 "cells": [
  {
   "cell_type": "markdown",
   "id": "c10556a4",
   "metadata": {},
   "source": [
    "# Append third-party annotations"
   ]
  },
  {
   "cell_type": "markdown",
   "id": "3ec4cf4b",
   "metadata": {},
   "source": [
    "Here we append annotations to already-featurized datasets as documented [HERE](https://github.com/sgoldenlab/simba/blob/master/docs/third_party_annot_new.md)"
   ]
  },
  {
   "cell_type": "code",
   "execution_count": 1,
   "id": "e6134c0d",
   "metadata": {},
   "outputs": [],
   "source": [
    "from simba.third_party_label_appenders.third_party_appender import ThirdPartyLabelAppender"
   ]
  },
  {
   "cell_type": "code",
   "execution_count": 2,
   "id": "226fc3f9",
   "metadata": {},
   "outputs": [],
   "source": [
    "# DEFINITIONS\n",
    "# For details on the settings options, see the markdown tutorial - https://github.com/sgoldenlab/simba/blob/master/docs/third_party_annot_new.md\n",
    "\n",
    "# Note: change the fole format to represent the data type of your annotations.\n",
    "CONFIG_PATH = '/Users/simon/Desktop/envs/simba_dev/tests/data/test_projects/two_c57/project_folder/project_config.ini'\n",
    "SETTINGS = {'log': True,\n",
    "            'errors': {'INVALID annotations file data format': 'WARNING',\n",
    "                       'ADDITIONAL third-party behavior detected': 'WARNING',\n",
    "                       'Annotations EVENT COUNT conflict': 'WARNING',\n",
    "                       'Annotations OVERLAP inaccuracy': 'WARNING',\n",
    "                       'ZERO third-party video behavior annotations found': 'WARNING',\n",
    "                       'Annotations and pose FRAME COUNT conflict': 'WARNING',\n",
    "                       'Annotations data file NOT FOUND': 'WARNING'}}\n"
   ]
  },
  {
   "cell_type": "code",
   "execution_count": 3,
   "id": "21a7caf5",
   "metadata": {},
   "outputs": [
    {
     "name": "stdout",
     "output_type": "stream",
     "text": [
      "Processing 1 ETHOVISION file(s)...\n",
      "Reading in 1 ETHOVISION annotation files...\n",
      "Reading ETHOVISION annotation file (1 / 1) ...\n",
      "Processing annotations for Together_1 video...\n",
      "SIMBA WARNING: SIMBA THIRD-PARTY ANNOTATION WARNING: Annotations file for video Together_1 has annotations for the following behaviors ['attacking', 'carry', 'groom', 'digging', 'aggressive groom', 'Sniff'] that are NOT classifiers named in the SimBA project. SimBA will OMIT appending the data for these 6 classifiers. \twarning\n",
      "SIMBA WARNING: SIMBA THIRD-PARTY ANNOTATION WARNING: No annotations detected for SimBA classifier(s) named ['Attack', 'Sniffing'] for video Together_1. All frame annotations will be set to behavior absent (0). \twarning\n",
      "SIMBA WARNING: SIMBA THIRD-PARTY ANNOTATION WARNING: No annotations detected for SimBA classifier(s) named ['Attack', 'Sniffing'] for video Together_1. All frame annotations will be set to behavior absent (0). \twarning\n",
      "Saved ETHOVISION annotations for video Together_1...\n",
      "SIMBA COMPLETE: ETHOVISION annotations appended to dataset and saved in project_folder/csv/targets_inserted directory (elapsed time: 22.2962s) \tcomplete\n"
     ]
    }
   ],
   "source": [
    "#ETHOVISION\n",
    "DATA_DIR = '/Users/simon/Desktop/envs/simba_dev/tests/data/test_projects/two_c57/ethovision_annotations'\n",
    "SETTINGS['file_format'] = 'xlsx'\n",
    "test = ThirdPartyLabelAppender(config_path=CONFIG_PATH,\n",
    "                               data_dir=DATA_DIR,\n",
    "                               settings=SETTINGS,\n",
    "                               app='ETHOVISION')\n",
    "test.run()"
   ]
  },
  {
   "cell_type": "code",
   "execution_count": 4,
   "id": "fcdbbd91",
   "metadata": {},
   "outputs": [
    {
     "name": "stdout",
     "output_type": "stream",
     "text": [
      "Processing 1 BORIS file(s)...\n",
      "Reading in 1 BORIS annotation files...\n",
      "Processing annotations for Together_1 video...\n",
      "SIMBA WARNING: SIMBA THIRD-PARTY ANNOTATION WARNING: Annotations file for video Together_1 has annotations for the following behaviors ['walking', 'grooming', 'still outside nest', 'digging', 'still inside nest', 'nesting', 'drinking', 'undetermined'] that are NOT classifiers named in the SimBA project. SimBA will OMIT appending the data for these 8 classifiers. \twarning\n",
      "SIMBA WARNING: SIMBA THIRD-PARTY ANNOTATION WARNING: SimBA found THIRD-PARTY annotations for behavior Attack in video Together_1 that are annotated to occur at times which is not present in the video data you imported into SIMBA. The video you imported to SimBA has 1737 frames. However, in BORIS, you have annotated Attack to happen at frame number 1738. These ambiguous annotations occur in 144444 different frames for video Together_1 that SimBA will **remove** by default. Please make sure you imported the same video as you annotated in BORIS into SimBA and the video is registered with the correct frame rate. SimBA will only append annotations made to the frames present in the pose estimation data. \twarning\n",
      "SIMBA WARNING: SIMBA THIRD-PARTY ANNOTATION WARNING: No annotations detected for SimBA classifier(s) named ['Attack', 'Sniffing'] for video Together_1. All frame annotations will be set to behavior absent (0). \twarning\n",
      "Saved BORIS annotations for video Together_1...\n",
      "SIMBA COMPLETE: BORIS annotations appended to dataset and saved in project_folder/csv/targets_inserted directory (elapsed time: 111.2231s) \tcomplete\n"
     ]
    }
   ],
   "source": [
    "#BORIS\n",
    "DATA_DIR = '/Users/simon/Desktop/envs/simba_dev/tests/data/test_projects/two_c57/boris_annotations'\n",
    "SETTINGS['file_format'] = 'csv'\n",
    "_ = ThirdPartyLabelAppender(config_path=CONFIG_PATH,\n",
    "                            data_dir=DATA_DIR,\n",
    "                            settings=SETTINGS,\n",
    "                            app='BORIS').run()"
   ]
  },
  {
   "cell_type": "code",
   "execution_count": 5,
   "id": "8cb21a91",
   "metadata": {},
   "outputs": [
    {
     "name": "stdout",
     "output_type": "stream",
     "text": [
      "Processing 1 DEEPETHOGRAM file(s)...\n",
      "Reading in 1 DEEPETHOGRAM annotation files...\n",
      "Processing annotations for Together_1 video...\n",
      "Saved DEEPETHOGRAM annotations for video Together_1...\n",
      "SIMBA COMPLETE: DEEPETHOGRAM annotations appended to dataset and saved in project_folder/csv/targets_inserted directory (elapsed time: 0.0969s) \tcomplete\n"
     ]
    }
   ],
   "source": [
    "#DEEPETHOGRAM\n",
    "DATA_DIR = '/Users/simon/Desktop/envs/simba_dev/tests/data/test_projects/two_c57/deepethogram_annotations'\n",
    "SETTINGS['file_format'] = 'csv'\n",
    "_ = ThirdPartyLabelAppender(config_path=CONFIG_PATH,\n",
    "                            data_dir=DATA_DIR,\n",
    "                            settings=SETTINGS,\n",
    "                            app='DEEPETHOGRAM').run()"
   ]
  },
  {
   "cell_type": "code",
   "execution_count": 6,
   "id": "a196b0ce",
   "metadata": {},
   "outputs": [
    {
     "name": "stdout",
     "output_type": "stream",
     "text": [
      "Processing 1 OBSERVER file(s)...\n",
      "Reading in 1 OBSERVER annotation files...\n",
      "Processing annotations for Together_1 video...\n",
      "SIMBA WARNING: SIMBA THIRD-PARTY ANNOTATION WARNING: Annotations file for video Together_1 has annotations for the following behaviors ['following', 'anogenital Sniffing', 'grooming'] that are NOT classifiers named in the SimBA project. SimBA will OMIT appending the data for these 3 classifiers. \twarning\n",
      "SIMBA WARNING: SIMBA THIRD-PARTY ANNOTATION WARNING: SimBA found THIRD-PARTY annotations for behavior Attack in video Together_1 that are annotated to occur at times which is not present in the video data you imported into SIMBA. The video you imported to SimBA has 1737 frames. However, in BORIS, you have annotated Attack to happen at frame number 14336. These ambiguous annotations occur in 480 different frames for video Together_1 that SimBA will **remove** by default. Please make sure you imported the same video as you annotated in BORIS into SimBA and the video is registered with the correct frame rate. SimBA will only append annotations made to the frames present in the pose estimation data. \twarning\n",
      "SIMBA WARNING: SIMBA THIRD-PARTY ANNOTATION WARNING: The annotations for behavior Sniffing in video Together_1 contains 83 start events and 82 stop events. SimBA requires the number of stop and start event counts to be equal. SimBA will try to find and delete the odd event stamps. \twarning\n",
      "SIMBA WARNING: SIMBA THIRD-PARTY ANNOTATION WARNING: SimBA found THIRD-PARTY annotations for behavior Sniffing in video Together_1 that are annotated to occur at times which is not present in the video data you imported into SIMBA. The video you imported to SimBA has 1737 frames. However, in BORIS, you have annotated Sniffing to happen at frame number 1738. These ambiguous annotations occur in 10897 different frames for video Together_1 that SimBA will **remove** by default. Please make sure you imported the same video as you annotated in BORIS into SimBA and the video is registered with the correct frame rate. SimBA will only append annotations made to the frames present in the pose estimation data. \twarning\n",
      "Saved OBSERVER annotations for video Together_1...\n",
      "SIMBA COMPLETE: OBSERVER annotations appended to dataset and saved in project_folder/csv/targets_inserted directory (elapsed time: 0.7935s) \tcomplete\n"
     ]
    }
   ],
   "source": [
    "#NOLDUS OBSERVER\n",
    "DATA_DIR = '/Users/simon/Desktop/envs/simba_dev/tests/data/test_projects/two_c57/observer_annotations'\n",
    "SETTINGS['file_format'] = 'xlsx'\n",
    "_ = ThirdPartyLabelAppender(config_path=CONFIG_PATH,\n",
    "                               data_dir=DATA_DIR,\n",
    "                               settings=SETTINGS,\n",
    "                               app='OBSERVER').run()"
   ]
  },
  {
   "cell_type": "code",
   "execution_count": 7,
   "id": "166beaf7",
   "metadata": {},
   "outputs": [
    {
     "name": "stdout",
     "output_type": "stream",
     "text": [
      "Processing 1 SOLOMON file(s)...\n",
      "Reading in 1 SOLOMON annotation files...\n",
      "Processing annotations for Together_1 video...\n",
      "SIMBA WARNING: SIMBA THIRD-PARTY ANNOTATION WARNING: Annotations file for video Together_1 has annotations for the following behaviors ['Climbing', 'Rearing', 'Biting the grid', 'Stop', 'Retreat', 'Flight', 'Freezing', 'Grooming'] that are NOT classifiers named in the SimBA project. SimBA will OMIT appending the data for these 8 classifiers. \twarning\n",
      "SIMBA WARNING: SIMBA THIRD-PARTY ANNOTATION WARNING: SimBA found THIRD-PARTY annotations for behavior Attack in video Together_1 that are annotated to occur at times which is not present in the video data you imported into SIMBA. The video you imported to SimBA has 1737 frames. However, in BORIS, you have annotated Attack to happen at frame number 11072. These ambiguous annotations occur in 3579 different frames for video Together_1 that SimBA will **remove** by default. Please make sure you imported the same video as you annotated in BORIS into SimBA and the video is registered with the correct frame rate. SimBA will only append annotations made to the frames present in the pose estimation data. \twarning\n",
      "SIMBA WARNING: SIMBA THIRD-PARTY ANNOTATION WARNING: SimBA found THIRD-PARTY annotations for behavior Sniffing in video Together_1 that are annotated to occur at times which is not present in the video data you imported into SIMBA. The video you imported to SimBA has 1737 frames. However, in BORIS, you have annotated Sniffing to happen at frame number 8192. These ambiguous annotations occur in 3452 different frames for video Together_1 that SimBA will **remove** by default. Please make sure you imported the same video as you annotated in BORIS into SimBA and the video is registered with the correct frame rate. SimBA will only append annotations made to the frames present in the pose estimation data. \twarning\n",
      "Saved SOLOMON annotations for video Together_1...\n",
      "SIMBA COMPLETE: SOLOMON annotations appended to dataset and saved in project_folder/csv/targets_inserted directory (elapsed time: 0.6953s) \tcomplete\n"
     ]
    }
   ],
   "source": [
    "#SOLOMON CODER\n",
    "DATA_DIR = '/Users/simon/Desktop/envs/simba_dev/tests/data/test_projects/two_c57/solomon_annotations'\n",
    "SETTINGS['file_format'] = 'csv'\n",
    "_ = ThirdPartyLabelAppender(config_path=CONFIG_PATH,\n",
    "                               data_dir=DATA_DIR,\n",
    "                               settings=SETTINGS,\n",
    "                               app='SOLOMON').run()"
   ]
  },
  {
   "cell_type": "code",
   "execution_count": null,
   "id": "774c4fbb",
   "metadata": {},
   "outputs": [],
   "source": []
  }
 ],
 "metadata": {
  "kernelspec": {
   "display_name": "Python [conda env:simba_dev] *",
   "language": "python",
   "name": "conda-env-simba_dev-py"
  },
  "language_info": {
   "codemirror_mode": {
    "name": "ipython",
    "version": 3
   },
   "file_extension": ".py",
   "mimetype": "text/x-python",
   "name": "python",
   "nbconvert_exporter": "python",
   "pygments_lexer": "ipython3",
   "version": "3.6.13"
  }
 },
 "nbformat": 4,
 "nbformat_minor": 5
}
