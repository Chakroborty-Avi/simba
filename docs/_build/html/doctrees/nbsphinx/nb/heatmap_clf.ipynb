{
 "cells": [
  {
   "cell_type": "markdown",
   "id": "de747378",
   "metadata": {},
   "source": [
    "# Heatmap classification locations"
   ]
  },
  {
   "cell_type": "markdown",
   "id": "2472810f",
   "metadata": {},
   "source": [
    "Create heatmaps representing the locations of the classified behavior"
   ]
  },
  {
   "cell_type": "code",
   "execution_count": 2,
   "id": "5bff1e8d",
   "metadata": {},
   "outputs": [],
   "source": [
    "from simba.plotting.heat_mapper_clf_mp import HeatMapperClfMultiprocess"
   ]
  },
  {
   "cell_type": "code",
   "execution_count": 10,
   "id": "d4760957",
   "metadata": {},
   "outputs": [],
   "source": [
    "#DEFINITIONS\n",
    "CONFIG_PATH = '/Users/simon/Desktop/envs/troubleshooting/two_black_animals_14bp/project_folder/project_config.ini'\n",
    "FRAME_SETTING = False\n",
    "VIDEO_SETTING = True\n",
    "FINAL_IMAGE_SETTING = True\n",
    "BODY_PART = 'Nose_1'\n",
    "CLASSIFIER_NAME = 'Attack'\n",
    "CORES = 5\n",
    "STYLE_ATTRIBUTES = {'palette': 'jet', \n",
    "                    'shading': 'gouraud', \n",
    "                    'bin_size': 100, \n",
    "                    'max_scale': 'auto'}\n",
    "DATA_PATHS = ['/Users/simon/Desktop/envs/troubleshooting/two_black_animals_14bp/project_folder/csv/machine_results/Together_1.csv']"
   ]
  },
  {
   "cell_type": "code",
   "execution_count": 11,
   "id": "c4cd6786",
   "metadata": {},
   "outputs": [
    {
     "name": "stdout",
     "output_type": "stream",
     "text": [
      "Processing 1 video(s)...\n",
      "SIMBA COMPLETE: Final classifier heatmap image saved at at /Users/simon/Desktop/envs/troubleshooting/two_black_animals_14bp/project_folder/frames/output/heatmaps_classifier_locations/Together_1_final_frm.png \tcomplete\n",
      "Creating heatmaps, multiprocessing (chunksize: 1, cores: 5)...\n",
      "Image 348/1738, Video 1/1...\n",
      "Image 696/1738, Video 1/1...\n",
      "Image 1044/1738, Video 1/1...\n",
      "Image 1392/1738, Video 1/1...\n",
      "Image 1740/1738, Video 1/1...\n",
      "Joining Together_1 multiprocessed video...\n",
      "SIMBA COMPLETE: Video concatenated (elapsed time: 11.2593s) \tcomplete\n",
      "Heatmap video Together_1 complete (elapsed time: 101.2183s) ...\n",
      "SIMBA COMPLETE: heatmap visualizations for {} videos created in project_folder/frames/output/heatmap_classifier locations directory (elapsed time: 101.2478s) \tcomplete\n"
     ]
    }
   ],
   "source": [
    "plotter = HeatMapperClfMultiprocess(config_path=CONFIG_PATH,\n",
    "                                    style_attr = STYLE_ATTRIBUTES,\n",
    "                                    final_img_setting=FINAL_IMAGE_SETTING,\n",
    "                                    video_setting=VIDEO_SETTING,\n",
    "                                    frame_setting=FRAME_SETTING,\n",
    "                                    bodypart=BODY_PART,\n",
    "                                    clf_name=CLASSIFIER_NAME,\n",
    "                                    core_cnt=CORES,\n",
    "                                    files_found=DATA_PATHS)\n",
    "plotter.run()"
   ]
  },
  {
   "cell_type": "code",
   "execution_count": null,
   "id": "502de16c",
   "metadata": {},
   "outputs": [],
   "source": []
  },
  {
   "cell_type": "code",
   "execution_count": null,
   "id": "d0fdf17b",
   "metadata": {},
   "outputs": [],
   "source": []
  }
 ],
 "metadata": {
  "kernelspec": {
   "display_name": "Python [conda env:simba_dev] *",
   "language": "python",
   "name": "conda-env-simba_dev-py"
  },
  "language_info": {
   "codemirror_mode": {
    "name": "ipython",
    "version": 3
   },
   "file_extension": ".py",
   "mimetype": "text/x-python",
   "name": "python",
   "nbconvert_exporter": "python",
   "pygments_lexer": "ipython3",
   "version": "3.6.13"
  }
 },
 "nbformat": 4,
 "nbformat_minor": 5
}
