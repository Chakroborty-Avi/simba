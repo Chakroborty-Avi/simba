{
 "cells": [
  {
   "cell_type": "markdown",
   "id": "4bfe3432-d256-4916-8791-b131425b4993",
   "metadata": {
    "scrolled": true
   },
   "source": [
    "# YOLO bounding boxes: Example 1"
   ]
  },
  {
   "cell_type": "markdown",
   "id": "5f2f7bf8-c15f-4a31-a2ff-318a77cbc165",
   "metadata": {},
   "source": [
    "In this notebook, we train a YOLO model to reconize objects defined as [ROIs](https://github.com/sgoldenlab/simba/blob/master/docs/ROI_tutorial_new.md) in SimBA.\n",
    "\n",
    "Specifically, we train an ROI model to recognize two different objects in a rat novel-object recognition task. \n",
    "\n"
   ]
  },
  {
   "cell_type": "code",
   "execution_count": 12,
   "id": "bc9da7e5-69c4-4359-b71b-c345b72c52ca",
   "metadata": {},
   "outputs": [
    {
     "name": "stdout",
     "output_type": "stream",
     "text": [
      "Name: ultralytics\n",
      "Version: 8.3.19\n",
      "Summary: Ultralytics YOLO 🚀 for SOTA object detection, multi-object tracking, instance segmentation, pose estimation and image classification.\n",
      "Home-page: https://ultralytics.com\n",
      "Author: \n",
      "Author-email: Glenn Jocher <glenn.jocher@ultralytics.com>, Jing Qiu <jing.qiu@ultralytics.com>\n",
      "License: AGPL-3.0\n",
      "Location: /home/simon/miniconda3/envs/simba_310/lib/python3.10/site-packages\n",
      "Requires: matplotlib, numpy, opencv-python, pandas, pillow, psutil, py-cpuinfo, pyyaml, requests, scipy, seaborn, torch, torchvision, tqdm, ultralytics-thop\n",
      "Required-by: \n"
     ]
    }
   ],
   "source": [
    "!pip show ultralytics"
   ]
  },
  {
   "cell_type": "code",
   "execution_count": 2,
   "id": "7aa043b0-a6a9-40a1-96e2-14bb3f2b98d8",
   "metadata": {},
   "outputs": [
    {
     "name": "stdout",
     "output_type": "stream",
     "text": [
      "Name: Simba-UW-tf-dev\n",
      "Version: 2.3.4\n",
      "Summary: Toolkit for computer classification and analysis of behaviors in experimental animals\n",
      "Home-page: https://github.com/sgoldenlab/simba\n",
      "Author: Simon Nilsson, Jia Jie Choong, Sophia Hwang\n",
      "Author-email: sronilsson@gmail.com\n",
      "License: GNU General Public License v3 (GPLv3)\n",
      "Location: /home/simon/miniconda3/envs/simba_310/lib/python3.10/site-packages\n",
      "Requires: cefpython3, dash, dash-color-picker, dash-colorscales, dash-core-components, dash-html-components, dtreeviz, eli5, ffmpeg-python, geos, graphviz, h5py, imbalanced-learn, imgaug, imutils, joblib, kaleido, matplotlib, numba, numexpr, numpy, opencv-python, pandas, Pillow, plotly, psutil, pyarrow, pyglet, pyyaml, scikit-image, scikit-learn, scipy, seaborn, shap, shapely, statsmodels, tables, tabulate, tqdm, trafaret, xgboost, xlrd, yellowbrick\n",
      "Required-by: \n"
     ]
    }
   ],
   "source": [
    "!pip show simba-uw-tf-dev"
   ]
  },
  {
   "cell_type": "code",
   "execution_count": 9,
   "id": "22267b35-54dc-4ddf-86c0-48acfde6921c",
   "metadata": {},
   "outputs": [],
   "source": [
    "import os\n",
    "from simba.bounding_box_tools.yolo.model import fit_yolo, inference_yolo\n",
    "from simba.bounding_box_tools.yolo.visualize import YOLOVisualizer\n",
    "from simba.third_party_label_appenders.converters import simba_rois_to_yolo, split_yolo_train_test_val\n",
    "from ipywidgets import Video\n",
    "from IPython.display import HTML"
   ]
  },
  {
   "cell_type": "code",
   "execution_count": 4,
   "id": "db9311fe-135b-4dc8-bfe7-c68a9be6aa84",
   "metadata": {},
   "outputs": [
    {
     "name": "stdout",
     "output_type": "stream",
     "text": [
      "Reading in ROI geometries...\n",
      "Reading ROI geometries for video 03152021_NOB_IOT_8... (1/3)\n",
      "Reading ROI geometries for video 08092021_DOT_Rat9_10(2)... (2/3)\n",
      "Reading ROI geometries for video 08102021_DOT_Rat7_8(2)... (3/3)\n",
      "Reading ROI coordinates ...\n",
      "Reading ROI coordinates for video 03152021_NOB_IOT_8... (1/3)\n",
      "Reading ROI coordinates for video 08092021_DOT_Rat9_10(2)... (2/3)\n",
      "Reading ROI coordinates for video 08102021_DOT_Rat7_8(2)... (3/3)\n",
      "Reading ROI images ...\n",
      "Reading ROI images for video 03152021_NOB_IOT_8... (1/3)\n",
      "Reading ROI images for video 08092021_DOT_Rat9_10(2)... (2/3)\n",
      "Reading ROI images for video 08102021_DOT_Rat7_8(2)... (3/3)\n",
      "SIMBA COMPLETE: yolo ROI data saved in /mnt/c/troubleshooting/yolo_data (elapsed time: 28.9579s) \tcomplete\n"
     ]
    }
   ],
   "source": [
    "# FIRST WE CREATE SOME YOLO FORMATED DATA LABELS AND EXTRACT THEIR ASSOCIATED IMAGES FROM THE VIDEOS AND SIMBA ROI DEFINITIONS\n",
    "ROI_PATH = r\"/mnt/c/troubleshooting/RAT_NOR/project_folder/logs/measures/ROI_definitions.h5\"\n",
    "VIDEO_DIR = r'/mnt/c/troubleshooting/RAT_NOR/project_folder/videos' #DIRECTORY HOLDING THE VIDEOS WITH DEFINED ROI'S\n",
    "YOLO_SAVE_DIR = r\"/mnt/c/troubleshooting/yolo_data\" # DIRECTORY WHICH SHOULD STORE THE YOLO FORMATED DATA\n",
    "VIDEO_FRAME_COUNT = 200 # THE NUMBER OF LABELS WE SHOULD CREATE FROM EACH VIDEO\n",
    "GREYSCALE = False #IF THE VIDEOS ARE IN COLOR, CONVERT  THE YOLO IMAGES TO GREYSCALE OR NOT\n",
    "\n",
    "#WE CREATE THE YOLO DATASET BASED ON THE ABOVE DEFINITIONS\n",
    "simba_rois_to_yolo(roi_path=ROI_PATH, video_dir=VIDEO_DIR, save_dir=YOLO_SAVE_DIR, roi_frm_cnt=VIDEO_FRAME_COUNT, greyscale=GREYSCALE, verbose=True, obb=True)"
   ]
  },
  {
   "cell_type": "code",
   "execution_count": 5,
   "id": "c6466f6b-d455-40d1-a158-aa8d48670542",
   "metadata": {},
   "outputs": [],
   "source": [
    "#NEXT, WE SPLIT THE DATA CREATED IN THE PRIOR CELL INTO DATA FOR TRAINING, TESTING AND VALIDATION.\n",
    "YOLO_TRAINING_DIR = r\"/mnt/c/troubleshooting/yolo_data_split\" # DIRECTORY WHERE WE SHOULD STORE THE SLIP DATA.\n",
    "\n",
    "#WE SPLIT THE DATA BASED ON ABOVE DEFINITIONS\n",
    "split_yolo_train_test_val(data_dir=YOLO_SAVE_DIR, save_dir=YOLO_TRAINING_DIR, verbose=False)"
   ]
  },
  {
   "cell_type": "code",
   "execution_count": 6,
   "id": "6d1ab43c-5baf-4251-b5d8-129c1db5b16c",
   "metadata": {},
   "outputs": [
    {
     "name": "stdout",
     "output_type": "stream",
     "text": [
      "New https://pypi.org/project/ultralytics/8.3.31 available 😃 Update with 'pip install -U ultralytics'\n",
      "Ultralytics 8.3.19 🚀 Python-3.10.15 torch-2.5.0+cu124 CUDA:0 (NVIDIA GeForce RTX 4070, 12282MiB)\n",
      "\u001b[34m\u001b[1mengine/trainer: \u001b[0mtask=obb, mode=train, model=/mnt/c/troubleshooting/coco_data/weights/yolov8n-obb.pt, data=/mnt/c/troubleshooting/yolo_data_split/map.yaml, epochs=25, time=None, patience=100, batch=16, imgsz=1024, save=True, save_period=-1, cache=False, device=None, workers=8, project=/mnt/c/troubleshooting/yolo_mdl, name=train, exist_ok=False, pretrained=True, optimizer=auto, verbose=True, seed=0, deterministic=True, single_cls=False, rect=False, cos_lr=False, close_mosaic=10, resume=False, amp=True, fraction=1.0, profile=False, freeze=None, multi_scale=False, overlap_mask=True, mask_ratio=4, dropout=0.0, val=True, split=val, save_json=False, save_hybrid=False, conf=None, iou=0.7, max_det=300, half=False, dnn=False, plots=True, source=None, vid_stride=1, stream_buffer=False, visualize=False, augment=False, agnostic_nms=False, classes=None, retina_masks=False, embed=None, show=False, save_frames=False, save_txt=False, save_conf=False, save_crop=False, show_labels=True, show_conf=True, show_boxes=True, line_width=None, format=torchscript, keras=False, optimize=False, int8=False, dynamic=False, simplify=True, opset=None, workspace=4, nms=False, lr0=0.01, lrf=0.01, momentum=0.937, weight_decay=0.0005, warmup_epochs=3.0, warmup_momentum=0.8, warmup_bias_lr=0.1, box=7.5, cls=0.5, dfl=1.5, pose=12.0, kobj=1.0, label_smoothing=0.0, nbs=64, hsv_h=0.015, hsv_s=0.7, hsv_v=0.4, degrees=0.0, translate=0.1, scale=0.5, shear=0.0, perspective=0.0, flipud=0.0, fliplr=0.5, bgr=0.0, mosaic=1.0, mixup=0.0, copy_paste=0.0, copy_paste_mode=flip, auto_augment=randaugment, erasing=0.4, crop_fraction=1.0, cfg=None, tracker=botsort.yaml, save_dir=/mnt/c/troubleshooting/yolo_mdl/train\n",
      "Overriding model.yaml nc=15 with nc=2\n",
      "\n",
      "                   from  n    params  module                                       arguments                     \n",
      "  0                  -1  1       464  ultralytics.nn.modules.conv.Conv             [3, 16, 3, 2]                 \n",
      "  1                  -1  1      4672  ultralytics.nn.modules.conv.Conv             [16, 32, 3, 2]                \n",
      "  2                  -1  1      7360  ultralytics.nn.modules.block.C2f             [32, 32, 1, True]             \n",
      "  3                  -1  1     18560  ultralytics.nn.modules.conv.Conv             [32, 64, 3, 2]                \n",
      "  4                  -1  2     49664  ultralytics.nn.modules.block.C2f             [64, 64, 2, True]             \n",
      "  5                  -1  1     73984  ultralytics.nn.modules.conv.Conv             [64, 128, 3, 2]               \n",
      "  6                  -1  2    197632  ultralytics.nn.modules.block.C2f             [128, 128, 2, True]           \n",
      "  7                  -1  1    295424  ultralytics.nn.modules.conv.Conv             [128, 256, 3, 2]              \n",
      "  8                  -1  1    460288  ultralytics.nn.modules.block.C2f             [256, 256, 1, True]           \n",
      "  9                  -1  1    164608  ultralytics.nn.modules.block.SPPF            [256, 256, 5]                 \n",
      " 10                  -1  1         0  torch.nn.modules.upsampling.Upsample         [None, 2, 'nearest']          \n",
      " 11             [-1, 6]  1         0  ultralytics.nn.modules.conv.Concat           [1]                           \n",
      " 12                  -1  1    148224  ultralytics.nn.modules.block.C2f             [384, 128, 1]                 \n",
      " 13                  -1  1         0  torch.nn.modules.upsampling.Upsample         [None, 2, 'nearest']          \n",
      " 14             [-1, 4]  1         0  ultralytics.nn.modules.conv.Concat           [1]                           \n",
      " 15                  -1  1     37248  ultralytics.nn.modules.block.C2f             [192, 64, 1]                  \n",
      " 16                  -1  1     36992  ultralytics.nn.modules.conv.Conv             [64, 64, 3, 2]                \n",
      " 17            [-1, 12]  1         0  ultralytics.nn.modules.conv.Concat           [1]                           \n",
      " 18                  -1  1    123648  ultralytics.nn.modules.block.C2f             [192, 128, 1]                 \n",
      " 19                  -1  1    147712  ultralytics.nn.modules.conv.Conv             [128, 128, 3, 2]              \n",
      " 20             [-1, 9]  1         0  ultralytics.nn.modules.conv.Concat           [1]                           \n",
      " 21                  -1  1    493056  ultralytics.nn.modules.block.C2f             [384, 256, 1]                 \n",
      " 22        [15, 18, 21]  1    823369  ultralytics.nn.modules.head.OBB              [2, 1, [64, 128, 256]]        \n",
      "YOLOv8n-obb summary: 250 layers, 3,082,905 parameters, 3,082,889 gradients, 8.4 GFLOPs\n",
      "\n",
      "Transferred 391/397 items from pretrained weights\n",
      "Freezing layer 'model.22.dfl.conv.weight'\n",
      "\u001b[34m\u001b[1mAMP: \u001b[0mrunning Automatic Mixed Precision (AMP) checks...\n",
      "\u001b[34m\u001b[1mAMP: \u001b[0mchecks passed ✅\n"
     ]
    },
    {
     "name": "stderr",
     "output_type": "stream",
     "text": [
      "\u001b[34m\u001b[1mtrain: \u001b[0mScanning /mnt/c/troubleshooting/yolo_data_split/labels/train... 420 images, 0 backgrounds, 0 corrupt: 100%|██████████| 420/420 [00:01<00:00, 266.70it/s]\u001b[0m\n"
     ]
    },
    {
     "name": "stdout",
     "output_type": "stream",
     "text": [
      "\u001b[34m\u001b[1mtrain: \u001b[0mNew cache created: /mnt/c/troubleshooting/yolo_data_split/labels/train.cache\n"
     ]
    },
    {
     "name": "stderr",
     "output_type": "stream",
     "text": [
      "\u001b[34m\u001b[1mval: \u001b[0mScanning /mnt/c/troubleshooting/yolo_data_split/labels/val... 60 images, 0 backgrounds, 0 corrupt: 100%|██████████| 60/60 [00:00<00:00, 189.84it/s]\u001b[0m\n"
     ]
    },
    {
     "name": "stdout",
     "output_type": "stream",
     "text": [
      "\u001b[34m\u001b[1mval: \u001b[0mNew cache created: /mnt/c/troubleshooting/yolo_data_split/labels/val.cache\n",
      "Plotting labels to /mnt/c/troubleshooting/yolo_mdl/train/labels.jpg... \n",
      "\u001b[34m\u001b[1moptimizer:\u001b[0m 'optimizer=auto' found, ignoring 'lr0=0.01' and 'momentum=0.937' and determining best 'optimizer', 'lr0' and 'momentum' automatically... \n",
      "\u001b[34m\u001b[1moptimizer:\u001b[0m AdamW(lr=0.001667, momentum=0.9) with parameter groups 63 weight(decay=0.0), 73 weight(decay=0.0005), 72 bias(decay=0.0)\n",
      "Image sizes 1024 train, 1024 val\n",
      "Using 8 dataloader workers\n",
      "Logging results to \u001b[1m/mnt/c/troubleshooting/yolo_mdl/train\u001b[0m\n",
      "Starting training for 25 epochs...\n",
      "\n",
      "      Epoch    GPU_mem   box_loss   cls_loss   dfl_loss  Instances       Size\n"
     ]
    },
    {
     "name": "stderr",
     "output_type": "stream",
     "text": [
      "       1/25      5.25G      0.899      2.696      1.367          5       1024: 100%|██████████| 27/27 [00:05<00:00,  4.77it/s]\n",
      "                 Class     Images  Instances      Box(P          R      mAP50  mAP50-95):  25%|██▌       | 1/4 [00:00<00:01,  1.79it/s]"
     ]
    },
    {
     "name": "stdout",
     "output_type": "stream",
     "text": [
      "WARNING ⚠️ NMS time limit 2.800s exceeded\n"
     ]
    },
    {
     "name": "stderr",
     "output_type": "stream",
     "text": [
      "                 Class     Images  Instances      Box(P          R      mAP50  mAP50-95):  50%|█████     | 2/4 [00:04<00:04,  2.43s/it]"
     ]
    },
    {
     "name": "stdout",
     "output_type": "stream",
     "text": [
      "WARNING ⚠️ NMS time limit 2.800s exceeded\n"
     ]
    },
    {
     "name": "stderr",
     "output_type": "stream",
     "text": [
      "                 Class     Images  Instances      Box(P          R      mAP50  mAP50-95): 100%|██████████| 4/4 [00:12<00:00,  3.14s/it]"
     ]
    },
    {
     "name": "stdout",
     "output_type": "stream",
     "text": [
      "                   all         60        120      0.969      0.633      0.636      0.546\n"
     ]
    },
    {
     "name": "stderr",
     "output_type": "stream",
     "text": [
      "\n"
     ]
    },
    {
     "name": "stdout",
     "output_type": "stream",
     "text": [
      "\n",
      "      Epoch    GPU_mem   box_loss   cls_loss   dfl_loss  Instances       Size\n"
     ]
    },
    {
     "name": "stderr",
     "output_type": "stream",
     "text": [
      "       2/25      5.23G      0.476      1.001      1.069          5       1024: 100%|██████████| 27/27 [00:05<00:00,  5.33it/s]\n",
      "                 Class     Images  Instances      Box(P          R      mAP50  mAP50-95): 100%|██████████| 4/4 [00:01<00:00,  2.12it/s]"
     ]
    },
    {
     "name": "stdout",
     "output_type": "stream",
     "text": [
      "                   all         60        120      0.999          1      0.995      0.932\n"
     ]
    },
    {
     "name": "stderr",
     "output_type": "stream",
     "text": [
      "\n"
     ]
    },
    {
     "name": "stdout",
     "output_type": "stream",
     "text": [
      "\n",
      "      Epoch    GPU_mem   box_loss   cls_loss   dfl_loss  Instances       Size\n"
     ]
    },
    {
     "name": "stderr",
     "output_type": "stream",
     "text": [
      "       3/25      5.23G     0.4266     0.6343      1.064         14       1024: 100%|██████████| 27/27 [00:04<00:00,  5.76it/s]\n",
      "                 Class     Images  Instances      Box(P          R      mAP50  mAP50-95): 100%|██████████| 4/4 [00:00<00:00,  7.78it/s]"
     ]
    },
    {
     "name": "stdout",
     "output_type": "stream",
     "text": [
      "                   all         60        120      0.995          1      0.995      0.946\n"
     ]
    },
    {
     "name": "stderr",
     "output_type": "stream",
     "text": [
      "\n"
     ]
    },
    {
     "name": "stdout",
     "output_type": "stream",
     "text": [
      "\n",
      "      Epoch    GPU_mem   box_loss   cls_loss   dfl_loss  Instances       Size\n"
     ]
    },
    {
     "name": "stderr",
     "output_type": "stream",
     "text": [
      "       4/25      5.23G     0.3595     0.4666      1.046         15       1024: 100%|██████████| 27/27 [00:04<00:00,  6.13it/s]\n",
      "                 Class     Images  Instances      Box(P          R      mAP50  mAP50-95): 100%|██████████| 4/4 [00:00<00:00,  7.96it/s]"
     ]
    },
    {
     "name": "stdout",
     "output_type": "stream",
     "text": [
      "                   all         60        120      0.999          1      0.995      0.977\n"
     ]
    },
    {
     "name": "stderr",
     "output_type": "stream",
     "text": [
      "\n"
     ]
    },
    {
     "name": "stdout",
     "output_type": "stream",
     "text": [
      "\n",
      "      Epoch    GPU_mem   box_loss   cls_loss   dfl_loss  Instances       Size\n"
     ]
    },
    {
     "name": "stderr",
     "output_type": "stream",
     "text": [
      "       5/25      5.24G     0.3487     0.4051      1.062         17       1024: 100%|██████████| 27/27 [00:03<00:00,  6.98it/s]\n",
      "                 Class     Images  Instances      Box(P          R      mAP50  mAP50-95): 100%|██████████| 4/4 [00:00<00:00, 10.19it/s]"
     ]
    },
    {
     "name": "stdout",
     "output_type": "stream",
     "text": [
      "                   all         60        120      0.998          1      0.995      0.989\n"
     ]
    },
    {
     "name": "stderr",
     "output_type": "stream",
     "text": [
      "\n"
     ]
    },
    {
     "name": "stdout",
     "output_type": "stream",
     "text": [
      "\n",
      "      Epoch    GPU_mem   box_loss   cls_loss   dfl_loss  Instances       Size\n"
     ]
    },
    {
     "name": "stderr",
     "output_type": "stream",
     "text": [
      "       6/25      5.23G     0.3117     0.3458      1.059         11       1024: 100%|██████████| 27/27 [00:04<00:00,  6.55it/s]\n",
      "                 Class     Images  Instances      Box(P          R      mAP50  mAP50-95): 100%|██████████| 4/4 [00:00<00:00, 10.34it/s]"
     ]
    },
    {
     "name": "stdout",
     "output_type": "stream",
     "text": [
      "                   all         60        120      0.999          1      0.995      0.994\n"
     ]
    },
    {
     "name": "stderr",
     "output_type": "stream",
     "text": [
      "\n"
     ]
    },
    {
     "name": "stdout",
     "output_type": "stream",
     "text": [
      "\n",
      "      Epoch    GPU_mem   box_loss   cls_loss   dfl_loss  Instances       Size\n"
     ]
    },
    {
     "name": "stderr",
     "output_type": "stream",
     "text": [
      "       7/25      5.23G     0.2955      0.322      1.074         18       1024: 100%|██████████| 27/27 [00:04<00:00,  5.92it/s]\n",
      "                 Class     Images  Instances      Box(P          R      mAP50  mAP50-95): 100%|██████████| 4/4 [00:00<00:00,  9.79it/s]\n"
     ]
    },
    {
     "name": "stdout",
     "output_type": "stream",
     "text": [
      "                   all         60        120      0.999          1      0.995      0.994\n",
      "\n",
      "      Epoch    GPU_mem   box_loss   cls_loss   dfl_loss  Instances       Size\n"
     ]
    },
    {
     "name": "stderr",
     "output_type": "stream",
     "text": [
      "       8/25      5.24G     0.2756     0.2925      1.072         17       1024: 100%|██████████| 27/27 [00:04<00:00,  6.16it/s]\n",
      "                 Class     Images  Instances      Box(P          R      mAP50  mAP50-95): 100%|██████████| 4/4 [00:00<00:00,  9.30it/s]"
     ]
    },
    {
     "name": "stdout",
     "output_type": "stream",
     "text": [
      "                   all         60        120      0.999          1      0.995      0.995\n"
     ]
    },
    {
     "name": "stderr",
     "output_type": "stream",
     "text": [
      "\n"
     ]
    },
    {
     "name": "stdout",
     "output_type": "stream",
     "text": [
      "\n",
      "      Epoch    GPU_mem   box_loss   cls_loss   dfl_loss  Instances       Size\n"
     ]
    },
    {
     "name": "stderr",
     "output_type": "stream",
     "text": [
      "       9/25      5.24G     0.2503     0.2662      1.057         12       1024: 100%|██████████| 27/27 [00:04<00:00,  6.41it/s]\n",
      "                 Class     Images  Instances      Box(P          R      mAP50  mAP50-95): 100%|██████████| 4/4 [00:00<00:00,  9.34it/s]"
     ]
    },
    {
     "name": "stdout",
     "output_type": "stream",
     "text": [
      "                   all         60        120      0.999          1      0.995      0.995\n"
     ]
    },
    {
     "name": "stderr",
     "output_type": "stream",
     "text": [
      "\n"
     ]
    },
    {
     "name": "stdout",
     "output_type": "stream",
     "text": [
      "\n",
      "      Epoch    GPU_mem   box_loss   cls_loss   dfl_loss  Instances       Size\n"
     ]
    },
    {
     "name": "stderr",
     "output_type": "stream",
     "text": [
      "      10/25      5.23G       0.26     0.2644      1.086          8       1024: 100%|██████████| 27/27 [00:04<00:00,  6.42it/s]\n",
      "                 Class     Images  Instances      Box(P          R      mAP50  mAP50-95): 100%|██████████| 4/4 [00:00<00:00, 10.05it/s]"
     ]
    },
    {
     "name": "stdout",
     "output_type": "stream",
     "text": [
      "                   all         60        120      0.999          1      0.995      0.995\n"
     ]
    },
    {
     "name": "stderr",
     "output_type": "stream",
     "text": [
      "\n"
     ]
    },
    {
     "name": "stdout",
     "output_type": "stream",
     "text": [
      "\n",
      "      Epoch    GPU_mem   box_loss   cls_loss   dfl_loss  Instances       Size\n"
     ]
    },
    {
     "name": "stderr",
     "output_type": "stream",
     "text": [
      "      11/25      5.23G     0.2421     0.2467      1.063         14       1024: 100%|██████████| 27/27 [00:03<00:00,  7.54it/s]\n",
      "                 Class     Images  Instances      Box(P          R      mAP50  mAP50-95): 100%|██████████| 4/4 [00:00<00:00, 10.08it/s]"
     ]
    },
    {
     "name": "stdout",
     "output_type": "stream",
     "text": [
      "                   all         60        120      0.999          1      0.995      0.995\n"
     ]
    },
    {
     "name": "stderr",
     "output_type": "stream",
     "text": [
      "\n"
     ]
    },
    {
     "name": "stdout",
     "output_type": "stream",
     "text": [
      "\n",
      "      Epoch    GPU_mem   box_loss   cls_loss   dfl_loss  Instances       Size\n"
     ]
    },
    {
     "name": "stderr",
     "output_type": "stream",
     "text": [
      "      12/25      5.24G     0.2085     0.2286      1.041         17       1024: 100%|██████████| 27/27 [00:04<00:00,  6.56it/s]\n",
      "                 Class     Images  Instances      Box(P          R      mAP50  mAP50-95): 100%|██████████| 4/4 [00:00<00:00, 10.46it/s]"
     ]
    },
    {
     "name": "stdout",
     "output_type": "stream",
     "text": [
      "                   all         60        120      0.999          1      0.995      0.995\n"
     ]
    },
    {
     "name": "stderr",
     "output_type": "stream",
     "text": [
      "\n"
     ]
    },
    {
     "name": "stdout",
     "output_type": "stream",
     "text": [
      "\n",
      "      Epoch    GPU_mem   box_loss   cls_loss   dfl_loss  Instances       Size\n"
     ]
    },
    {
     "name": "stderr",
     "output_type": "stream",
     "text": [
      "      13/25      5.24G     0.2218     0.2307      1.086         13       1024: 100%|██████████| 27/27 [00:04<00:00,  6.44it/s]\n",
      "                 Class     Images  Instances      Box(P          R      mAP50  mAP50-95): 100%|██████████| 4/4 [00:00<00:00,  9.67it/s]"
     ]
    },
    {
     "name": "stdout",
     "output_type": "stream",
     "text": [
      "                   all         60        120      0.999          1      0.995      0.995\n"
     ]
    },
    {
     "name": "stderr",
     "output_type": "stream",
     "text": [
      "\n"
     ]
    },
    {
     "name": "stdout",
     "output_type": "stream",
     "text": [
      "\n",
      "      Epoch    GPU_mem   box_loss   cls_loss   dfl_loss  Instances       Size\n"
     ]
    },
    {
     "name": "stderr",
     "output_type": "stream",
     "text": [
      "      14/25      5.24G     0.2142     0.2227      1.066         14       1024: 100%|██████████| 27/27 [00:04<00:00,  6.31it/s]\n",
      "                 Class     Images  Instances      Box(P          R      mAP50  mAP50-95): 100%|██████████| 4/4 [00:00<00:00, 11.00it/s]"
     ]
    },
    {
     "name": "stdout",
     "output_type": "stream",
     "text": [
      "                   all         60        120      0.999          1      0.995      0.995\n"
     ]
    },
    {
     "name": "stderr",
     "output_type": "stream",
     "text": [
      "\n"
     ]
    },
    {
     "name": "stdout",
     "output_type": "stream",
     "text": [
      "\n",
      "      Epoch    GPU_mem   box_loss   cls_loss   dfl_loss  Instances       Size\n"
     ]
    },
    {
     "name": "stderr",
     "output_type": "stream",
     "text": [
      "      15/25      5.23G     0.2082      0.218      1.065         12       1024: 100%|██████████| 27/27 [00:04<00:00,  6.30it/s]\n",
      "                 Class     Images  Instances      Box(P          R      mAP50  mAP50-95): 100%|██████████| 4/4 [00:00<00:00, 10.49it/s]"
     ]
    },
    {
     "name": "stdout",
     "output_type": "stream",
     "text": [
      "                   all         60        120      0.999          1      0.995      0.995\n"
     ]
    },
    {
     "name": "stderr",
     "output_type": "stream",
     "text": [
      "\n"
     ]
    },
    {
     "name": "stdout",
     "output_type": "stream",
     "text": [
      "Closing dataloader mosaic\n",
      "\n",
      "      Epoch    GPU_mem   box_loss   cls_loss   dfl_loss  Instances       Size\n"
     ]
    },
    {
     "name": "stderr",
     "output_type": "stream",
     "text": [
      "      16/25      5.24G       0.16     0.1793     0.9481          8       1024: 100%|██████████| 27/27 [00:04<00:00,  5.46it/s]\n",
      "                 Class     Images  Instances      Box(P          R      mAP50  mAP50-95): 100%|██████████| 4/4 [00:00<00:00, 10.77it/s]"
     ]
    },
    {
     "name": "stdout",
     "output_type": "stream",
     "text": [
      "                   all         60        120      0.999          1      0.995      0.995\n"
     ]
    },
    {
     "name": "stderr",
     "output_type": "stream",
     "text": [
      "\n"
     ]
    },
    {
     "name": "stdout",
     "output_type": "stream",
     "text": [
      "\n",
      "      Epoch    GPU_mem   box_loss   cls_loss   dfl_loss  Instances       Size\n"
     ]
    },
    {
     "name": "stderr",
     "output_type": "stream",
     "text": [
      "      17/25      5.23G     0.1533     0.1753     0.9531          8       1024: 100%|██████████| 27/27 [00:04<00:00,  6.35it/s]\n",
      "                 Class     Images  Instances      Box(P          R      mAP50  mAP50-95): 100%|██████████| 4/4 [00:00<00:00, 10.08it/s]"
     ]
    },
    {
     "name": "stdout",
     "output_type": "stream",
     "text": [
      "                   all         60        120      0.999          1      0.995      0.995\n"
     ]
    },
    {
     "name": "stderr",
     "output_type": "stream",
     "text": [
      "\n"
     ]
    },
    {
     "name": "stdout",
     "output_type": "stream",
     "text": [
      "\n",
      "      Epoch    GPU_mem   box_loss   cls_loss   dfl_loss  Instances       Size\n"
     ]
    },
    {
     "name": "stderr",
     "output_type": "stream",
     "text": [
      "      18/25      5.23G     0.1379     0.1591     0.9468          8       1024: 100%|██████████| 27/27 [00:04<00:00,  6.30it/s]\n",
      "                 Class     Images  Instances      Box(P          R      mAP50  mAP50-95): 100%|██████████| 4/4 [00:00<00:00,  9.98it/s]"
     ]
    },
    {
     "name": "stdout",
     "output_type": "stream",
     "text": [
      "                   all         60        120      0.999          1      0.995      0.995\n"
     ]
    },
    {
     "name": "stderr",
     "output_type": "stream",
     "text": [
      "\n"
     ]
    },
    {
     "name": "stdout",
     "output_type": "stream",
     "text": [
      "\n",
      "      Epoch    GPU_mem   box_loss   cls_loss   dfl_loss  Instances       Size\n"
     ]
    },
    {
     "name": "stderr",
     "output_type": "stream",
     "text": [
      "      19/25      5.22G      0.123     0.1515     0.9423          8       1024: 100%|██████████| 27/27 [00:04<00:00,  6.42it/s]\n",
      "                 Class     Images  Instances      Box(P          R      mAP50  mAP50-95): 100%|██████████| 4/4 [00:00<00:00,  9.64it/s]"
     ]
    },
    {
     "name": "stdout",
     "output_type": "stream",
     "text": [
      "                   all         60        120      0.999          1      0.995      0.995\n"
     ]
    },
    {
     "name": "stderr",
     "output_type": "stream",
     "text": [
      "\n"
     ]
    },
    {
     "name": "stdout",
     "output_type": "stream",
     "text": [
      "\n",
      "      Epoch    GPU_mem   box_loss   cls_loss   dfl_loss  Instances       Size\n"
     ]
    },
    {
     "name": "stderr",
     "output_type": "stream",
     "text": [
      "      20/25      5.24G      0.125     0.1491     0.9485          8       1024: 100%|██████████| 27/27 [00:04<00:00,  6.10it/s]\n",
      "                 Class     Images  Instances      Box(P          R      mAP50  mAP50-95): 100%|██████████| 4/4 [00:00<00:00, 10.58it/s]"
     ]
    },
    {
     "name": "stdout",
     "output_type": "stream",
     "text": [
      "                   all         60        120      0.999          1      0.995      0.995\n"
     ]
    },
    {
     "name": "stderr",
     "output_type": "stream",
     "text": [
      "\n"
     ]
    },
    {
     "name": "stdout",
     "output_type": "stream",
     "text": [
      "\n",
      "      Epoch    GPU_mem   box_loss   cls_loss   dfl_loss  Instances       Size\n"
     ]
    },
    {
     "name": "stderr",
     "output_type": "stream",
     "text": [
      "      21/25      5.23G     0.1214     0.1463     0.9302          8       1024: 100%|██████████| 27/27 [00:04<00:00,  6.36it/s]\n",
      "                 Class     Images  Instances      Box(P          R      mAP50  mAP50-95): 100%|██████████| 4/4 [00:00<00:00, 10.63it/s]"
     ]
    },
    {
     "name": "stdout",
     "output_type": "stream",
     "text": [
      "                   all         60        120      0.999          1      0.995      0.995\n"
     ]
    },
    {
     "name": "stderr",
     "output_type": "stream",
     "text": [
      "\n"
     ]
    },
    {
     "name": "stdout",
     "output_type": "stream",
     "text": [
      "\n",
      "      Epoch    GPU_mem   box_loss   cls_loss   dfl_loss  Instances       Size\n"
     ]
    },
    {
     "name": "stderr",
     "output_type": "stream",
     "text": [
      "      22/25      5.23G     0.1212     0.1419     0.9371          8       1024: 100%|██████████| 27/27 [00:04<00:00,  6.49it/s]\n",
      "                 Class     Images  Instances      Box(P          R      mAP50  mAP50-95): 100%|██████████| 4/4 [00:00<00:00, 11.06it/s]"
     ]
    },
    {
     "name": "stdout",
     "output_type": "stream",
     "text": [
      "                   all         60        120      0.999          1      0.995      0.995\n"
     ]
    },
    {
     "name": "stderr",
     "output_type": "stream",
     "text": [
      "\n"
     ]
    },
    {
     "name": "stdout",
     "output_type": "stream",
     "text": [
      "\n",
      "      Epoch    GPU_mem   box_loss   cls_loss   dfl_loss  Instances       Size\n"
     ]
    },
    {
     "name": "stderr",
     "output_type": "stream",
     "text": [
      "      23/25      5.22G     0.1078     0.1364     0.9303          8       1024: 100%|██████████| 27/27 [00:04<00:00,  6.43it/s]\n",
      "                 Class     Images  Instances      Box(P          R      mAP50  mAP50-95): 100%|██████████| 4/4 [00:00<00:00, 10.28it/s]"
     ]
    },
    {
     "name": "stdout",
     "output_type": "stream",
     "text": [
      "                   all         60        120      0.999          1      0.995      0.995\n"
     ]
    },
    {
     "name": "stderr",
     "output_type": "stream",
     "text": [
      "\n"
     ]
    },
    {
     "name": "stdout",
     "output_type": "stream",
     "text": [
      "\n",
      "      Epoch    GPU_mem   box_loss   cls_loss   dfl_loss  Instances       Size\n"
     ]
    },
    {
     "name": "stderr",
     "output_type": "stream",
     "text": [
      "      24/25      5.24G     0.1057     0.1351       0.95          8       1024: 100%|██████████| 27/27 [00:03<00:00,  7.58it/s]\n",
      "                 Class     Images  Instances      Box(P          R      mAP50  mAP50-95): 100%|██████████| 4/4 [00:00<00:00, 10.71it/s]"
     ]
    },
    {
     "name": "stdout",
     "output_type": "stream",
     "text": [
      "                   all         60        120      0.999          1      0.995      0.995\n"
     ]
    },
    {
     "name": "stderr",
     "output_type": "stream",
     "text": [
      "\n"
     ]
    },
    {
     "name": "stdout",
     "output_type": "stream",
     "text": [
      "\n",
      "      Epoch    GPU_mem   box_loss   cls_loss   dfl_loss  Instances       Size\n"
     ]
    },
    {
     "name": "stderr",
     "output_type": "stream",
     "text": [
      "      25/25      5.23G    0.09872     0.1321     0.9384          8       1024: 100%|██████████| 27/27 [00:04<00:00,  6.40it/s]\n",
      "                 Class     Images  Instances      Box(P          R      mAP50  mAP50-95): 100%|██████████| 4/4 [00:00<00:00, 10.21it/s]"
     ]
    },
    {
     "name": "stdout",
     "output_type": "stream",
     "text": [
      "                   all         60        120      0.999          1      0.995      0.995\n"
     ]
    },
    {
     "name": "stderr",
     "output_type": "stream",
     "text": [
      "\n"
     ]
    },
    {
     "name": "stdout",
     "output_type": "stream",
     "text": [
      "\n",
      "25 epochs completed in 0.040 hours.\n",
      "Optimizer stripped from /mnt/c/troubleshooting/yolo_mdl/train/weights/last.pt, 7.0MB\n",
      "Optimizer stripped from /mnt/c/troubleshooting/yolo_mdl/train/weights/best.pt, 7.0MB\n",
      "\n",
      "Validating /mnt/c/troubleshooting/yolo_mdl/train/weights/best.pt...\n",
      "Ultralytics 8.3.19 🚀 Python-3.10.15 torch-2.5.0+cu124 CUDA:0 (NVIDIA GeForce RTX 4070, 12282MiB)\n",
      "YOLOv8n-obb summary (fused): 187 layers, 3,077,609 parameters, 0 gradients, 8.3 GFLOPs\n"
     ]
    },
    {
     "name": "stderr",
     "output_type": "stream",
     "text": [
      "                 Class     Images  Instances      Box(P          R      mAP50  mAP50-95): 100%|██████████| 4/4 [00:00<00:00,  4.72it/s]\n"
     ]
    },
    {
     "name": "stdout",
     "output_type": "stream",
     "text": [
      "                   all         60        120      0.999          1      0.995      0.995\n",
      "         RED_RECTANGLE         60         60      0.999          1      0.995      0.995\n",
      "      YELLOW_RECTANGLE         60         60      0.999          1      0.995      0.995\n",
      "Speed: 0.4ms preprocess, 4.5ms inference, 0.0ms loss, 2.4ms postprocess per image\n",
      "Results saved to \u001b[1m/mnt/c/troubleshooting/yolo_mdl/train\u001b[0m\n"
     ]
    }
   ],
   "source": [
    "#NEXT, WE TRAIN A YOLO MODEL BASED ON THE SPLIT DATA\n",
    "INITIAL_WEIGHTS_PATH = r'/mnt/c/troubleshooting/coco_data/weights/yolov8n-obb.pt' #SOME INITIAL WEIGHTS TO START WITH, THEY CAN BE DOWNLOADED AT https://huggingface.co/Ultralytics\n",
    "MODEL_SAVE_DIR = \"/mnt/c/troubleshooting/yolo_mdl\" #DIRECTORY WHERE TO SAVE THE TRAINED MODEL AND PERFORMANCE STATISTICS\n",
    "EPOCHS = 25 # HOW MANY EPOCHS TO TRAIN THE MODEL FOR\n",
    "BATCH = 16 # THE NUMBER OF OBSERVATIONS IN EACH ITERATION\n",
    "\n",
    "#WE TRAIN THE MODEL BASED ON ABOVE DEFINITIONS\n",
    "fit_yolo(initial_weights=INITIAL_WEIGHTS_PATH, model_yaml=os.path.join(YOLO_TRAINING_DIR, 'map.yaml'), save_path=MODEL_SAVE_DIR, epochs=EPOCHS, batch=BATCH, plots=True)"
   ]
  },
  {
   "cell_type": "code",
   "execution_count": 7,
   "id": "76007feb-d772-4386-9363-d87932d89465",
   "metadata": {},
   "outputs": [
    {
     "name": "stdout",
     "output_type": "stream",
     "text": [
      "\n",
      "video 1/1 (frame 1/600) /mnt/c/troubleshooting/RAT_NOR/project_folder/videos/clipped/03152021_NOB_IOT_8_clipped.mp4: 576x1024 3.6ms\n",
      "video 1/1 (frame 2/600) /mnt/c/troubleshooting/RAT_NOR/project_folder/videos/clipped/03152021_NOB_IOT_8_clipped.mp4: 576x1024 3.6ms\n",
      "video 1/1 (frame 3/600) /mnt/c/troubleshooting/RAT_NOR/project_folder/videos/clipped/03152021_NOB_IOT_8_clipped.mp4: 576x1024 3.6ms\n",
      "video 1/1 (frame 4/600) /mnt/c/troubleshooting/RAT_NOR/project_folder/videos/clipped/03152021_NOB_IOT_8_clipped.mp4: 576x1024 3.6ms\n",
      "video 1/1 (frame 5/600) /mnt/c/troubleshooting/RAT_NOR/project_folder/videos/clipped/03152021_NOB_IOT_8_clipped.mp4: 576x1024 3.6ms\n",
      "video 1/1 (frame 6/600) /mnt/c/troubleshooting/RAT_NOR/project_folder/videos/clipped/03152021_NOB_IOT_8_clipped.mp4: 576x1024 3.6ms\n",
      "video 1/1 (frame 7/600) /mnt/c/troubleshooting/RAT_NOR/project_folder/videos/clipped/03152021_NOB_IOT_8_clipped.mp4: 576x1024 3.6ms\n",
      "video 1/1 (frame 8/600) /mnt/c/troubleshooting/RAT_NOR/project_folder/videos/clipped/03152021_NOB_IOT_8_clipped.mp4: 576x1024 3.6ms\n",
      "video 1/1 (frame 9/600) /mnt/c/troubleshooting/RAT_NOR/project_folder/videos/clipped/03152021_NOB_IOT_8_clipped.mp4: 576x1024 3.6ms\n",
      "video 1/1 (frame 10/600) /mnt/c/troubleshooting/RAT_NOR/project_folder/videos/clipped/03152021_NOB_IOT_8_clipped.mp4: 576x1024 3.6ms\n",
      "video 1/1 (frame 11/600) /mnt/c/troubleshooting/RAT_NOR/project_folder/videos/clipped/03152021_NOB_IOT_8_clipped.mp4: 576x1024 3.6ms\n",
      "video 1/1 (frame 12/600) /mnt/c/troubleshooting/RAT_NOR/project_folder/videos/clipped/03152021_NOB_IOT_8_clipped.mp4: 576x1024 3.6ms\n",
      "video 1/1 (frame 13/600) /mnt/c/troubleshooting/RAT_NOR/project_folder/videos/clipped/03152021_NOB_IOT_8_clipped.mp4: 576x1024 3.6ms\n",
      "video 1/1 (frame 14/600) /mnt/c/troubleshooting/RAT_NOR/project_folder/videos/clipped/03152021_NOB_IOT_8_clipped.mp4: 576x1024 3.6ms\n",
      "video 1/1 (frame 15/600) /mnt/c/troubleshooting/RAT_NOR/project_folder/videos/clipped/03152021_NOB_IOT_8_clipped.mp4: 576x1024 3.6ms\n",
      "video 1/1 (frame 16/600) /mnt/c/troubleshooting/RAT_NOR/project_folder/videos/clipped/03152021_NOB_IOT_8_clipped.mp4: 576x1024 3.6ms\n",
      "video 1/1 (frame 17/600) /mnt/c/troubleshooting/RAT_NOR/project_folder/videos/clipped/03152021_NOB_IOT_8_clipped.mp4: 576x1024 3.3ms\n",
      "video 1/1 (frame 18/600) /mnt/c/troubleshooting/RAT_NOR/project_folder/videos/clipped/03152021_NOB_IOT_8_clipped.mp4: 576x1024 3.3ms\n",
      "video 1/1 (frame 19/600) /mnt/c/troubleshooting/RAT_NOR/project_folder/videos/clipped/03152021_NOB_IOT_8_clipped.mp4: 576x1024 3.3ms\n",
      "video 1/1 (frame 20/600) /mnt/c/troubleshooting/RAT_NOR/project_folder/videos/clipped/03152021_NOB_IOT_8_clipped.mp4: 576x1024 3.3ms\n",
      "video 1/1 (frame 21/600) /mnt/c/troubleshooting/RAT_NOR/project_folder/videos/clipped/03152021_NOB_IOT_8_clipped.mp4: 576x1024 3.3ms\n",
      "video 1/1 (frame 22/600) /mnt/c/troubleshooting/RAT_NOR/project_folder/videos/clipped/03152021_NOB_IOT_8_clipped.mp4: 576x1024 3.3ms\n",
      "video 1/1 (frame 23/600) /mnt/c/troubleshooting/RAT_NOR/project_folder/videos/clipped/03152021_NOB_IOT_8_clipped.mp4: 576x1024 3.3ms\n",
      "video 1/1 (frame 24/600) /mnt/c/troubleshooting/RAT_NOR/project_folder/videos/clipped/03152021_NOB_IOT_8_clipped.mp4: 576x1024 3.3ms\n",
      "video 1/1 (frame 25/600) /mnt/c/troubleshooting/RAT_NOR/project_folder/videos/clipped/03152021_NOB_IOT_8_clipped.mp4: 576x1024 3.3ms\n",
      "video 1/1 (frame 26/600) /mnt/c/troubleshooting/RAT_NOR/project_folder/videos/clipped/03152021_NOB_IOT_8_clipped.mp4: 576x1024 3.3ms\n",
      "video 1/1 (frame 27/600) /mnt/c/troubleshooting/RAT_NOR/project_folder/videos/clipped/03152021_NOB_IOT_8_clipped.mp4: 576x1024 3.3ms\n",
      "video 1/1 (frame 28/600) /mnt/c/troubleshooting/RAT_NOR/project_folder/videos/clipped/03152021_NOB_IOT_8_clipped.mp4: 576x1024 3.3ms\n",
      "video 1/1 (frame 29/600) /mnt/c/troubleshooting/RAT_NOR/project_folder/videos/clipped/03152021_NOB_IOT_8_clipped.mp4: 576x1024 3.3ms\n",
      "video 1/1 (frame 30/600) /mnt/c/troubleshooting/RAT_NOR/project_folder/videos/clipped/03152021_NOB_IOT_8_clipped.mp4: 576x1024 3.3ms\n",
      "video 1/1 (frame 31/600) /mnt/c/troubleshooting/RAT_NOR/project_folder/videos/clipped/03152021_NOB_IOT_8_clipped.mp4: 576x1024 3.3ms\n",
      "video 1/1 (frame 32/600) /mnt/c/troubleshooting/RAT_NOR/project_folder/videos/clipped/03152021_NOB_IOT_8_clipped.mp4: 576x1024 3.3ms\n",
      "video 1/1 (frame 33/600) /mnt/c/troubleshooting/RAT_NOR/project_folder/videos/clipped/03152021_NOB_IOT_8_clipped.mp4: 576x1024 2.8ms\n",
      "video 1/1 (frame 34/600) /mnt/c/troubleshooting/RAT_NOR/project_folder/videos/clipped/03152021_NOB_IOT_8_clipped.mp4: 576x1024 2.8ms\n",
      "video 1/1 (frame 35/600) /mnt/c/troubleshooting/RAT_NOR/project_folder/videos/clipped/03152021_NOB_IOT_8_clipped.mp4: 576x1024 2.8ms\n",
      "video 1/1 (frame 36/600) /mnt/c/troubleshooting/RAT_NOR/project_folder/videos/clipped/03152021_NOB_IOT_8_clipped.mp4: 576x1024 2.8ms\n",
      "video 1/1 (frame 37/600) /mnt/c/troubleshooting/RAT_NOR/project_folder/videos/clipped/03152021_NOB_IOT_8_clipped.mp4: 576x1024 2.8ms\n",
      "video 1/1 (frame 38/600) /mnt/c/troubleshooting/RAT_NOR/project_folder/videos/clipped/03152021_NOB_IOT_8_clipped.mp4: 576x1024 2.8ms\n",
      "video 1/1 (frame 39/600) /mnt/c/troubleshooting/RAT_NOR/project_folder/videos/clipped/03152021_NOB_IOT_8_clipped.mp4: 576x1024 2.8ms\n",
      "video 1/1 (frame 40/600) /mnt/c/troubleshooting/RAT_NOR/project_folder/videos/clipped/03152021_NOB_IOT_8_clipped.mp4: 576x1024 2.8ms\n",
      "video 1/1 (frame 41/600) /mnt/c/troubleshooting/RAT_NOR/project_folder/videos/clipped/03152021_NOB_IOT_8_clipped.mp4: 576x1024 2.8ms\n",
      "video 1/1 (frame 42/600) /mnt/c/troubleshooting/RAT_NOR/project_folder/videos/clipped/03152021_NOB_IOT_8_clipped.mp4: 576x1024 2.8ms\n",
      "video 1/1 (frame 43/600) /mnt/c/troubleshooting/RAT_NOR/project_folder/videos/clipped/03152021_NOB_IOT_8_clipped.mp4: 576x1024 2.8ms\n",
      "video 1/1 (frame 44/600) /mnt/c/troubleshooting/RAT_NOR/project_folder/videos/clipped/03152021_NOB_IOT_8_clipped.mp4: 576x1024 2.8ms\n",
      "video 1/1 (frame 45/600) /mnt/c/troubleshooting/RAT_NOR/project_folder/videos/clipped/03152021_NOB_IOT_8_clipped.mp4: 576x1024 2.8ms\n",
      "video 1/1 (frame 46/600) /mnt/c/troubleshooting/RAT_NOR/project_folder/videos/clipped/03152021_NOB_IOT_8_clipped.mp4: 576x1024 2.8ms\n",
      "video 1/1 (frame 47/600) /mnt/c/troubleshooting/RAT_NOR/project_folder/videos/clipped/03152021_NOB_IOT_8_clipped.mp4: 576x1024 2.8ms\n",
      "video 1/1 (frame 48/600) /mnt/c/troubleshooting/RAT_NOR/project_folder/videos/clipped/03152021_NOB_IOT_8_clipped.mp4: 576x1024 2.8ms\n",
      "video 1/1 (frame 49/600) /mnt/c/troubleshooting/RAT_NOR/project_folder/videos/clipped/03152021_NOB_IOT_8_clipped.mp4: 576x1024 2.9ms\n",
      "video 1/1 (frame 50/600) /mnt/c/troubleshooting/RAT_NOR/project_folder/videos/clipped/03152021_NOB_IOT_8_clipped.mp4: 576x1024 2.9ms\n",
      "video 1/1 (frame 51/600) /mnt/c/troubleshooting/RAT_NOR/project_folder/videos/clipped/03152021_NOB_IOT_8_clipped.mp4: 576x1024 2.9ms\n",
      "video 1/1 (frame 52/600) /mnt/c/troubleshooting/RAT_NOR/project_folder/videos/clipped/03152021_NOB_IOT_8_clipped.mp4: 576x1024 2.9ms\n",
      "video 1/1 (frame 53/600) /mnt/c/troubleshooting/RAT_NOR/project_folder/videos/clipped/03152021_NOB_IOT_8_clipped.mp4: 576x1024 2.9ms\n",
      "video 1/1 (frame 54/600) /mnt/c/troubleshooting/RAT_NOR/project_folder/videos/clipped/03152021_NOB_IOT_8_clipped.mp4: 576x1024 2.9ms\n",
      "video 1/1 (frame 55/600) /mnt/c/troubleshooting/RAT_NOR/project_folder/videos/clipped/03152021_NOB_IOT_8_clipped.mp4: 576x1024 2.9ms\n",
      "video 1/1 (frame 56/600) /mnt/c/troubleshooting/RAT_NOR/project_folder/videos/clipped/03152021_NOB_IOT_8_clipped.mp4: 576x1024 2.9ms\n",
      "video 1/1 (frame 57/600) /mnt/c/troubleshooting/RAT_NOR/project_folder/videos/clipped/03152021_NOB_IOT_8_clipped.mp4: 576x1024 2.9ms\n",
      "video 1/1 (frame 58/600) /mnt/c/troubleshooting/RAT_NOR/project_folder/videos/clipped/03152021_NOB_IOT_8_clipped.mp4: 576x1024 2.9ms\n",
      "video 1/1 (frame 59/600) /mnt/c/troubleshooting/RAT_NOR/project_folder/videos/clipped/03152021_NOB_IOT_8_clipped.mp4: 576x1024 2.9ms\n",
      "video 1/1 (frame 60/600) /mnt/c/troubleshooting/RAT_NOR/project_folder/videos/clipped/03152021_NOB_IOT_8_clipped.mp4: 576x1024 2.9ms\n",
      "video 1/1 (frame 61/600) /mnt/c/troubleshooting/RAT_NOR/project_folder/videos/clipped/03152021_NOB_IOT_8_clipped.mp4: 576x1024 2.9ms\n",
      "video 1/1 (frame 62/600) /mnt/c/troubleshooting/RAT_NOR/project_folder/videos/clipped/03152021_NOB_IOT_8_clipped.mp4: 576x1024 2.9ms\n",
      "video 1/1 (frame 63/600) /mnt/c/troubleshooting/RAT_NOR/project_folder/videos/clipped/03152021_NOB_IOT_8_clipped.mp4: 576x1024 2.9ms\n",
      "video 1/1 (frame 64/600) /mnt/c/troubleshooting/RAT_NOR/project_folder/videos/clipped/03152021_NOB_IOT_8_clipped.mp4: 576x1024 2.9ms\n",
      "video 1/1 (frame 65/600) /mnt/c/troubleshooting/RAT_NOR/project_folder/videos/clipped/03152021_NOB_IOT_8_clipped.mp4: 576x1024 2.5ms\n",
      "video 1/1 (frame 66/600) /mnt/c/troubleshooting/RAT_NOR/project_folder/videos/clipped/03152021_NOB_IOT_8_clipped.mp4: 576x1024 2.5ms\n",
      "video 1/1 (frame 67/600) /mnt/c/troubleshooting/RAT_NOR/project_folder/videos/clipped/03152021_NOB_IOT_8_clipped.mp4: 576x1024 2.5ms\n",
      "video 1/1 (frame 68/600) /mnt/c/troubleshooting/RAT_NOR/project_folder/videos/clipped/03152021_NOB_IOT_8_clipped.mp4: 576x1024 2.5ms\n",
      "video 1/1 (frame 69/600) /mnt/c/troubleshooting/RAT_NOR/project_folder/videos/clipped/03152021_NOB_IOT_8_clipped.mp4: 576x1024 2.5ms\n",
      "video 1/1 (frame 70/600) /mnt/c/troubleshooting/RAT_NOR/project_folder/videos/clipped/03152021_NOB_IOT_8_clipped.mp4: 576x1024 2.5ms\n",
      "video 1/1 (frame 71/600) /mnt/c/troubleshooting/RAT_NOR/project_folder/videos/clipped/03152021_NOB_IOT_8_clipped.mp4: 576x1024 2.5ms\n",
      "video 1/1 (frame 72/600) /mnt/c/troubleshooting/RAT_NOR/project_folder/videos/clipped/03152021_NOB_IOT_8_clipped.mp4: 576x1024 2.5ms\n",
      "video 1/1 (frame 73/600) /mnt/c/troubleshooting/RAT_NOR/project_folder/videos/clipped/03152021_NOB_IOT_8_clipped.mp4: 576x1024 2.5ms\n",
      "video 1/1 (frame 74/600) /mnt/c/troubleshooting/RAT_NOR/project_folder/videos/clipped/03152021_NOB_IOT_8_clipped.mp4: 576x1024 2.5ms\n",
      "video 1/1 (frame 75/600) /mnt/c/troubleshooting/RAT_NOR/project_folder/videos/clipped/03152021_NOB_IOT_8_clipped.mp4: 576x1024 2.5ms\n",
      "video 1/1 (frame 76/600) /mnt/c/troubleshooting/RAT_NOR/project_folder/videos/clipped/03152021_NOB_IOT_8_clipped.mp4: 576x1024 2.5ms\n",
      "video 1/1 (frame 77/600) /mnt/c/troubleshooting/RAT_NOR/project_folder/videos/clipped/03152021_NOB_IOT_8_clipped.mp4: 576x1024 2.5ms\n",
      "video 1/1 (frame 78/600) /mnt/c/troubleshooting/RAT_NOR/project_folder/videos/clipped/03152021_NOB_IOT_8_clipped.mp4: 576x1024 2.5ms\n",
      "video 1/1 (frame 79/600) /mnt/c/troubleshooting/RAT_NOR/project_folder/videos/clipped/03152021_NOB_IOT_8_clipped.mp4: 576x1024 2.5ms\n",
      "video 1/1 (frame 80/600) /mnt/c/troubleshooting/RAT_NOR/project_folder/videos/clipped/03152021_NOB_IOT_8_clipped.mp4: 576x1024 2.5ms\n",
      "video 1/1 (frame 81/600) /mnt/c/troubleshooting/RAT_NOR/project_folder/videos/clipped/03152021_NOB_IOT_8_clipped.mp4: 576x1024 2.3ms\n",
      "video 1/1 (frame 82/600) /mnt/c/troubleshooting/RAT_NOR/project_folder/videos/clipped/03152021_NOB_IOT_8_clipped.mp4: 576x1024 2.3ms\n",
      "video 1/1 (frame 83/600) /mnt/c/troubleshooting/RAT_NOR/project_folder/videos/clipped/03152021_NOB_IOT_8_clipped.mp4: 576x1024 2.3ms\n",
      "video 1/1 (frame 84/600) /mnt/c/troubleshooting/RAT_NOR/project_folder/videos/clipped/03152021_NOB_IOT_8_clipped.mp4: 576x1024 2.3ms\n",
      "video 1/1 (frame 85/600) /mnt/c/troubleshooting/RAT_NOR/project_folder/videos/clipped/03152021_NOB_IOT_8_clipped.mp4: 576x1024 2.3ms\n",
      "video 1/1 (frame 86/600) /mnt/c/troubleshooting/RAT_NOR/project_folder/videos/clipped/03152021_NOB_IOT_8_clipped.mp4: 576x1024 2.3ms\n",
      "video 1/1 (frame 87/600) /mnt/c/troubleshooting/RAT_NOR/project_folder/videos/clipped/03152021_NOB_IOT_8_clipped.mp4: 576x1024 2.3ms\n",
      "video 1/1 (frame 88/600) /mnt/c/troubleshooting/RAT_NOR/project_folder/videos/clipped/03152021_NOB_IOT_8_clipped.mp4: 576x1024 2.3ms\n",
      "video 1/1 (frame 89/600) /mnt/c/troubleshooting/RAT_NOR/project_folder/videos/clipped/03152021_NOB_IOT_8_clipped.mp4: 576x1024 2.3ms\n",
      "video 1/1 (frame 90/600) /mnt/c/troubleshooting/RAT_NOR/project_folder/videos/clipped/03152021_NOB_IOT_8_clipped.mp4: 576x1024 2.3ms\n",
      "video 1/1 (frame 91/600) /mnt/c/troubleshooting/RAT_NOR/project_folder/videos/clipped/03152021_NOB_IOT_8_clipped.mp4: 576x1024 2.3ms\n",
      "video 1/1 (frame 92/600) /mnt/c/troubleshooting/RAT_NOR/project_folder/videos/clipped/03152021_NOB_IOT_8_clipped.mp4: 576x1024 2.3ms\n",
      "video 1/1 (frame 93/600) /mnt/c/troubleshooting/RAT_NOR/project_folder/videos/clipped/03152021_NOB_IOT_8_clipped.mp4: 576x1024 2.3ms\n",
      "video 1/1 (frame 94/600) /mnt/c/troubleshooting/RAT_NOR/project_folder/videos/clipped/03152021_NOB_IOT_8_clipped.mp4: 576x1024 2.3ms\n",
      "video 1/1 (frame 95/600) /mnt/c/troubleshooting/RAT_NOR/project_folder/videos/clipped/03152021_NOB_IOT_8_clipped.mp4: 576x1024 2.3ms\n",
      "video 1/1 (frame 96/600) /mnt/c/troubleshooting/RAT_NOR/project_folder/videos/clipped/03152021_NOB_IOT_8_clipped.mp4: 576x1024 2.3ms\n",
      "video 1/1 (frame 97/600) /mnt/c/troubleshooting/RAT_NOR/project_folder/videos/clipped/03152021_NOB_IOT_8_clipped.mp4: 576x1024 2.3ms\n",
      "video 1/1 (frame 98/600) /mnt/c/troubleshooting/RAT_NOR/project_folder/videos/clipped/03152021_NOB_IOT_8_clipped.mp4: 576x1024 2.3ms\n",
      "video 1/1 (frame 99/600) /mnt/c/troubleshooting/RAT_NOR/project_folder/videos/clipped/03152021_NOB_IOT_8_clipped.mp4: 576x1024 2.3ms\n",
      "video 1/1 (frame 100/600) /mnt/c/troubleshooting/RAT_NOR/project_folder/videos/clipped/03152021_NOB_IOT_8_clipped.mp4: 576x1024 2.3ms\n",
      "video 1/1 (frame 101/600) /mnt/c/troubleshooting/RAT_NOR/project_folder/videos/clipped/03152021_NOB_IOT_8_clipped.mp4: 576x1024 2.3ms\n",
      "video 1/1 (frame 102/600) /mnt/c/troubleshooting/RAT_NOR/project_folder/videos/clipped/03152021_NOB_IOT_8_clipped.mp4: 576x1024 2.3ms\n",
      "video 1/1 (frame 103/600) /mnt/c/troubleshooting/RAT_NOR/project_folder/videos/clipped/03152021_NOB_IOT_8_clipped.mp4: 576x1024 2.3ms\n",
      "video 1/1 (frame 104/600) /mnt/c/troubleshooting/RAT_NOR/project_folder/videos/clipped/03152021_NOB_IOT_8_clipped.mp4: 576x1024 2.3ms\n",
      "video 1/1 (frame 105/600) /mnt/c/troubleshooting/RAT_NOR/project_folder/videos/clipped/03152021_NOB_IOT_8_clipped.mp4: 576x1024 2.3ms\n",
      "video 1/1 (frame 106/600) /mnt/c/troubleshooting/RAT_NOR/project_folder/videos/clipped/03152021_NOB_IOT_8_clipped.mp4: 576x1024 2.3ms\n",
      "video 1/1 (frame 107/600) /mnt/c/troubleshooting/RAT_NOR/project_folder/videos/clipped/03152021_NOB_IOT_8_clipped.mp4: 576x1024 2.3ms\n",
      "video 1/1 (frame 108/600) /mnt/c/troubleshooting/RAT_NOR/project_folder/videos/clipped/03152021_NOB_IOT_8_clipped.mp4: 576x1024 2.3ms\n",
      "video 1/1 (frame 109/600) /mnt/c/troubleshooting/RAT_NOR/project_folder/videos/clipped/03152021_NOB_IOT_8_clipped.mp4: 576x1024 2.3ms\n",
      "video 1/1 (frame 110/600) /mnt/c/troubleshooting/RAT_NOR/project_folder/videos/clipped/03152021_NOB_IOT_8_clipped.mp4: 576x1024 2.3ms\n",
      "video 1/1 (frame 111/600) /mnt/c/troubleshooting/RAT_NOR/project_folder/videos/clipped/03152021_NOB_IOT_8_clipped.mp4: 576x1024 2.3ms\n",
      "video 1/1 (frame 112/600) /mnt/c/troubleshooting/RAT_NOR/project_folder/videos/clipped/03152021_NOB_IOT_8_clipped.mp4: 576x1024 2.3ms\n",
      "video 1/1 (frame 113/600) /mnt/c/troubleshooting/RAT_NOR/project_folder/videos/clipped/03152021_NOB_IOT_8_clipped.mp4: 576x1024 1.9ms\n",
      "video 1/1 (frame 114/600) /mnt/c/troubleshooting/RAT_NOR/project_folder/videos/clipped/03152021_NOB_IOT_8_clipped.mp4: 576x1024 1.9ms\n",
      "video 1/1 (frame 115/600) /mnt/c/troubleshooting/RAT_NOR/project_folder/videos/clipped/03152021_NOB_IOT_8_clipped.mp4: 576x1024 1.9ms\n",
      "video 1/1 (frame 116/600) /mnt/c/troubleshooting/RAT_NOR/project_folder/videos/clipped/03152021_NOB_IOT_8_clipped.mp4: 576x1024 1.9ms\n",
      "video 1/1 (frame 117/600) /mnt/c/troubleshooting/RAT_NOR/project_folder/videos/clipped/03152021_NOB_IOT_8_clipped.mp4: 576x1024 1.9ms\n",
      "video 1/1 (frame 118/600) /mnt/c/troubleshooting/RAT_NOR/project_folder/videos/clipped/03152021_NOB_IOT_8_clipped.mp4: 576x1024 1.9ms\n",
      "video 1/1 (frame 119/600) /mnt/c/troubleshooting/RAT_NOR/project_folder/videos/clipped/03152021_NOB_IOT_8_clipped.mp4: 576x1024 1.9ms\n",
      "video 1/1 (frame 120/600) /mnt/c/troubleshooting/RAT_NOR/project_folder/videos/clipped/03152021_NOB_IOT_8_clipped.mp4: 576x1024 1.9ms\n",
      "video 1/1 (frame 121/600) /mnt/c/troubleshooting/RAT_NOR/project_folder/videos/clipped/03152021_NOB_IOT_8_clipped.mp4: 576x1024 1.9ms\n",
      "video 1/1 (frame 122/600) /mnt/c/troubleshooting/RAT_NOR/project_folder/videos/clipped/03152021_NOB_IOT_8_clipped.mp4: 576x1024 1.9ms\n",
      "video 1/1 (frame 123/600) /mnt/c/troubleshooting/RAT_NOR/project_folder/videos/clipped/03152021_NOB_IOT_8_clipped.mp4: 576x1024 1.9ms\n",
      "video 1/1 (frame 124/600) /mnt/c/troubleshooting/RAT_NOR/project_folder/videos/clipped/03152021_NOB_IOT_8_clipped.mp4: 576x1024 1.9ms\n",
      "video 1/1 (frame 125/600) /mnt/c/troubleshooting/RAT_NOR/project_folder/videos/clipped/03152021_NOB_IOT_8_clipped.mp4: 576x1024 1.9ms\n",
      "video 1/1 (frame 126/600) /mnt/c/troubleshooting/RAT_NOR/project_folder/videos/clipped/03152021_NOB_IOT_8_clipped.mp4: 576x1024 1.9ms\n",
      "video 1/1 (frame 127/600) /mnt/c/troubleshooting/RAT_NOR/project_folder/videos/clipped/03152021_NOB_IOT_8_clipped.mp4: 576x1024 1.9ms\n",
      "video 1/1 (frame 128/600) /mnt/c/troubleshooting/RAT_NOR/project_folder/videos/clipped/03152021_NOB_IOT_8_clipped.mp4: 576x1024 1.9ms\n",
      "video 1/1 (frame 129/600) /mnt/c/troubleshooting/RAT_NOR/project_folder/videos/clipped/03152021_NOB_IOT_8_clipped.mp4: 576x1024 2.0ms\n",
      "video 1/1 (frame 130/600) /mnt/c/troubleshooting/RAT_NOR/project_folder/videos/clipped/03152021_NOB_IOT_8_clipped.mp4: 576x1024 2.0ms\n",
      "video 1/1 (frame 131/600) /mnt/c/troubleshooting/RAT_NOR/project_folder/videos/clipped/03152021_NOB_IOT_8_clipped.mp4: 576x1024 2.0ms\n",
      "video 1/1 (frame 132/600) /mnt/c/troubleshooting/RAT_NOR/project_folder/videos/clipped/03152021_NOB_IOT_8_clipped.mp4: 576x1024 2.0ms\n",
      "video 1/1 (frame 133/600) /mnt/c/troubleshooting/RAT_NOR/project_folder/videos/clipped/03152021_NOB_IOT_8_clipped.mp4: 576x1024 2.0ms\n",
      "video 1/1 (frame 134/600) /mnt/c/troubleshooting/RAT_NOR/project_folder/videos/clipped/03152021_NOB_IOT_8_clipped.mp4: 576x1024 2.0ms\n",
      "video 1/1 (frame 135/600) /mnt/c/troubleshooting/RAT_NOR/project_folder/videos/clipped/03152021_NOB_IOT_8_clipped.mp4: 576x1024 2.0ms\n",
      "video 1/1 (frame 136/600) /mnt/c/troubleshooting/RAT_NOR/project_folder/videos/clipped/03152021_NOB_IOT_8_clipped.mp4: 576x1024 2.0ms\n",
      "video 1/1 (frame 137/600) /mnt/c/troubleshooting/RAT_NOR/project_folder/videos/clipped/03152021_NOB_IOT_8_clipped.mp4: 576x1024 2.0ms\n",
      "video 1/1 (frame 138/600) /mnt/c/troubleshooting/RAT_NOR/project_folder/videos/clipped/03152021_NOB_IOT_8_clipped.mp4: 576x1024 2.0ms\n",
      "video 1/1 (frame 139/600) /mnt/c/troubleshooting/RAT_NOR/project_folder/videos/clipped/03152021_NOB_IOT_8_clipped.mp4: 576x1024 2.0ms\n",
      "video 1/1 (frame 140/600) /mnt/c/troubleshooting/RAT_NOR/project_folder/videos/clipped/03152021_NOB_IOT_8_clipped.mp4: 576x1024 2.0ms\n",
      "video 1/1 (frame 141/600) /mnt/c/troubleshooting/RAT_NOR/project_folder/videos/clipped/03152021_NOB_IOT_8_clipped.mp4: 576x1024 2.0ms\n",
      "video 1/1 (frame 142/600) /mnt/c/troubleshooting/RAT_NOR/project_folder/videos/clipped/03152021_NOB_IOT_8_clipped.mp4: 576x1024 2.0ms\n",
      "video 1/1 (frame 143/600) /mnt/c/troubleshooting/RAT_NOR/project_folder/videos/clipped/03152021_NOB_IOT_8_clipped.mp4: 576x1024 2.0ms\n",
      "video 1/1 (frame 144/600) /mnt/c/troubleshooting/RAT_NOR/project_folder/videos/clipped/03152021_NOB_IOT_8_clipped.mp4: 576x1024 2.0ms\n",
      "video 1/1 (frame 145/600) /mnt/c/troubleshooting/RAT_NOR/project_folder/videos/clipped/03152021_NOB_IOT_8_clipped.mp4: 576x1024 1.9ms\n",
      "video 1/1 (frame 146/600) /mnt/c/troubleshooting/RAT_NOR/project_folder/videos/clipped/03152021_NOB_IOT_8_clipped.mp4: 576x1024 1.9ms\n",
      "video 1/1 (frame 147/600) /mnt/c/troubleshooting/RAT_NOR/project_folder/videos/clipped/03152021_NOB_IOT_8_clipped.mp4: 576x1024 1.9ms\n",
      "video 1/1 (frame 148/600) /mnt/c/troubleshooting/RAT_NOR/project_folder/videos/clipped/03152021_NOB_IOT_8_clipped.mp4: 576x1024 1.9ms\n",
      "video 1/1 (frame 149/600) /mnt/c/troubleshooting/RAT_NOR/project_folder/videos/clipped/03152021_NOB_IOT_8_clipped.mp4: 576x1024 1.9ms\n",
      "video 1/1 (frame 150/600) /mnt/c/troubleshooting/RAT_NOR/project_folder/videos/clipped/03152021_NOB_IOT_8_clipped.mp4: 576x1024 1.9ms\n",
      "video 1/1 (frame 151/600) /mnt/c/troubleshooting/RAT_NOR/project_folder/videos/clipped/03152021_NOB_IOT_8_clipped.mp4: 576x1024 1.9ms\n",
      "video 1/1 (frame 152/600) /mnt/c/troubleshooting/RAT_NOR/project_folder/videos/clipped/03152021_NOB_IOT_8_clipped.mp4: 576x1024 1.9ms\n",
      "video 1/1 (frame 153/600) /mnt/c/troubleshooting/RAT_NOR/project_folder/videos/clipped/03152021_NOB_IOT_8_clipped.mp4: 576x1024 1.9ms\n",
      "video 1/1 (frame 154/600) /mnt/c/troubleshooting/RAT_NOR/project_folder/videos/clipped/03152021_NOB_IOT_8_clipped.mp4: 576x1024 1.9ms\n",
      "video 1/1 (frame 155/600) /mnt/c/troubleshooting/RAT_NOR/project_folder/videos/clipped/03152021_NOB_IOT_8_clipped.mp4: 576x1024 1.9ms\n",
      "video 1/1 (frame 156/600) /mnt/c/troubleshooting/RAT_NOR/project_folder/videos/clipped/03152021_NOB_IOT_8_clipped.mp4: 576x1024 1.9ms\n",
      "video 1/1 (frame 157/600) /mnt/c/troubleshooting/RAT_NOR/project_folder/videos/clipped/03152021_NOB_IOT_8_clipped.mp4: 576x1024 1.9ms\n",
      "video 1/1 (frame 158/600) /mnt/c/troubleshooting/RAT_NOR/project_folder/videos/clipped/03152021_NOB_IOT_8_clipped.mp4: 576x1024 1.9ms\n",
      "video 1/1 (frame 159/600) /mnt/c/troubleshooting/RAT_NOR/project_folder/videos/clipped/03152021_NOB_IOT_8_clipped.mp4: 576x1024 1.9ms\n",
      "video 1/1 (frame 160/600) /mnt/c/troubleshooting/RAT_NOR/project_folder/videos/clipped/03152021_NOB_IOT_8_clipped.mp4: 576x1024 1.9ms\n",
      "video 1/1 (frame 161/600) /mnt/c/troubleshooting/RAT_NOR/project_folder/videos/clipped/03152021_NOB_IOT_8_clipped.mp4: 576x1024 1.8ms\n",
      "video 1/1 (frame 162/600) /mnt/c/troubleshooting/RAT_NOR/project_folder/videos/clipped/03152021_NOB_IOT_8_clipped.mp4: 576x1024 1.8ms\n",
      "video 1/1 (frame 163/600) /mnt/c/troubleshooting/RAT_NOR/project_folder/videos/clipped/03152021_NOB_IOT_8_clipped.mp4: 576x1024 1.8ms\n",
      "video 1/1 (frame 164/600) /mnt/c/troubleshooting/RAT_NOR/project_folder/videos/clipped/03152021_NOB_IOT_8_clipped.mp4: 576x1024 1.8ms\n",
      "video 1/1 (frame 165/600) /mnt/c/troubleshooting/RAT_NOR/project_folder/videos/clipped/03152021_NOB_IOT_8_clipped.mp4: 576x1024 1.8ms\n",
      "video 1/1 (frame 166/600) /mnt/c/troubleshooting/RAT_NOR/project_folder/videos/clipped/03152021_NOB_IOT_8_clipped.mp4: 576x1024 1.8ms\n",
      "video 1/1 (frame 167/600) /mnt/c/troubleshooting/RAT_NOR/project_folder/videos/clipped/03152021_NOB_IOT_8_clipped.mp4: 576x1024 1.8ms\n",
      "video 1/1 (frame 168/600) /mnt/c/troubleshooting/RAT_NOR/project_folder/videos/clipped/03152021_NOB_IOT_8_clipped.mp4: 576x1024 1.8ms\n",
      "video 1/1 (frame 169/600) /mnt/c/troubleshooting/RAT_NOR/project_folder/videos/clipped/03152021_NOB_IOT_8_clipped.mp4: 576x1024 1.8ms\n",
      "video 1/1 (frame 170/600) /mnt/c/troubleshooting/RAT_NOR/project_folder/videos/clipped/03152021_NOB_IOT_8_clipped.mp4: 576x1024 1.8ms\n",
      "video 1/1 (frame 171/600) /mnt/c/troubleshooting/RAT_NOR/project_folder/videos/clipped/03152021_NOB_IOT_8_clipped.mp4: 576x1024 1.8ms\n",
      "video 1/1 (frame 172/600) /mnt/c/troubleshooting/RAT_NOR/project_folder/videos/clipped/03152021_NOB_IOT_8_clipped.mp4: 576x1024 1.8ms\n",
      "video 1/1 (frame 173/600) /mnt/c/troubleshooting/RAT_NOR/project_folder/videos/clipped/03152021_NOB_IOT_8_clipped.mp4: 576x1024 1.8ms\n",
      "video 1/1 (frame 174/600) /mnt/c/troubleshooting/RAT_NOR/project_folder/videos/clipped/03152021_NOB_IOT_8_clipped.mp4: 576x1024 1.8ms\n",
      "video 1/1 (frame 175/600) /mnt/c/troubleshooting/RAT_NOR/project_folder/videos/clipped/03152021_NOB_IOT_8_clipped.mp4: 576x1024 1.8ms\n",
      "video 1/1 (frame 176/600) /mnt/c/troubleshooting/RAT_NOR/project_folder/videos/clipped/03152021_NOB_IOT_8_clipped.mp4: 576x1024 1.8ms\n",
      "video 1/1 (frame 177/600) /mnt/c/troubleshooting/RAT_NOR/project_folder/videos/clipped/03152021_NOB_IOT_8_clipped.mp4: 576x1024 1.8ms\n",
      "video 1/1 (frame 178/600) /mnt/c/troubleshooting/RAT_NOR/project_folder/videos/clipped/03152021_NOB_IOT_8_clipped.mp4: 576x1024 1.8ms\n",
      "video 1/1 (frame 179/600) /mnt/c/troubleshooting/RAT_NOR/project_folder/videos/clipped/03152021_NOB_IOT_8_clipped.mp4: 576x1024 1.8ms\n",
      "video 1/1 (frame 180/600) /mnt/c/troubleshooting/RAT_NOR/project_folder/videos/clipped/03152021_NOB_IOT_8_clipped.mp4: 576x1024 1.8ms\n",
      "video 1/1 (frame 181/600) /mnt/c/troubleshooting/RAT_NOR/project_folder/videos/clipped/03152021_NOB_IOT_8_clipped.mp4: 576x1024 1.8ms\n",
      "video 1/1 (frame 182/600) /mnt/c/troubleshooting/RAT_NOR/project_folder/videos/clipped/03152021_NOB_IOT_8_clipped.mp4: 576x1024 1.8ms\n",
      "video 1/1 (frame 183/600) /mnt/c/troubleshooting/RAT_NOR/project_folder/videos/clipped/03152021_NOB_IOT_8_clipped.mp4: 576x1024 1.8ms\n",
      "video 1/1 (frame 184/600) /mnt/c/troubleshooting/RAT_NOR/project_folder/videos/clipped/03152021_NOB_IOT_8_clipped.mp4: 576x1024 1.8ms\n",
      "video 1/1 (frame 185/600) /mnt/c/troubleshooting/RAT_NOR/project_folder/videos/clipped/03152021_NOB_IOT_8_clipped.mp4: 576x1024 1.8ms\n",
      "video 1/1 (frame 186/600) /mnt/c/troubleshooting/RAT_NOR/project_folder/videos/clipped/03152021_NOB_IOT_8_clipped.mp4: 576x1024 1.8ms\n",
      "video 1/1 (frame 187/600) /mnt/c/troubleshooting/RAT_NOR/project_folder/videos/clipped/03152021_NOB_IOT_8_clipped.mp4: 576x1024 1.8ms\n",
      "video 1/1 (frame 188/600) /mnt/c/troubleshooting/RAT_NOR/project_folder/videos/clipped/03152021_NOB_IOT_8_clipped.mp4: 576x1024 1.8ms\n",
      "video 1/1 (frame 189/600) /mnt/c/troubleshooting/RAT_NOR/project_folder/videos/clipped/03152021_NOB_IOT_8_clipped.mp4: 576x1024 1.8ms\n",
      "video 1/1 (frame 190/600) /mnt/c/troubleshooting/RAT_NOR/project_folder/videos/clipped/03152021_NOB_IOT_8_clipped.mp4: 576x1024 1.8ms\n",
      "video 1/1 (frame 191/600) /mnt/c/troubleshooting/RAT_NOR/project_folder/videos/clipped/03152021_NOB_IOT_8_clipped.mp4: 576x1024 1.8ms\n",
      "video 1/1 (frame 192/600) /mnt/c/troubleshooting/RAT_NOR/project_folder/videos/clipped/03152021_NOB_IOT_8_clipped.mp4: 576x1024 1.8ms\n",
      "video 1/1 (frame 193/600) /mnt/c/troubleshooting/RAT_NOR/project_folder/videos/clipped/03152021_NOB_IOT_8_clipped.mp4: 576x1024 1.8ms\n",
      "video 1/1 (frame 194/600) /mnt/c/troubleshooting/RAT_NOR/project_folder/videos/clipped/03152021_NOB_IOT_8_clipped.mp4: 576x1024 1.8ms\n",
      "video 1/1 (frame 195/600) /mnt/c/troubleshooting/RAT_NOR/project_folder/videos/clipped/03152021_NOB_IOT_8_clipped.mp4: 576x1024 1.8ms\n",
      "video 1/1 (frame 196/600) /mnt/c/troubleshooting/RAT_NOR/project_folder/videos/clipped/03152021_NOB_IOT_8_clipped.mp4: 576x1024 1.8ms\n",
      "video 1/1 (frame 197/600) /mnt/c/troubleshooting/RAT_NOR/project_folder/videos/clipped/03152021_NOB_IOT_8_clipped.mp4: 576x1024 1.8ms\n",
      "video 1/1 (frame 198/600) /mnt/c/troubleshooting/RAT_NOR/project_folder/videos/clipped/03152021_NOB_IOT_8_clipped.mp4: 576x1024 1.8ms\n",
      "video 1/1 (frame 199/600) /mnt/c/troubleshooting/RAT_NOR/project_folder/videos/clipped/03152021_NOB_IOT_8_clipped.mp4: 576x1024 1.8ms\n",
      "video 1/1 (frame 200/600) /mnt/c/troubleshooting/RAT_NOR/project_folder/videos/clipped/03152021_NOB_IOT_8_clipped.mp4: 576x1024 1.8ms\n",
      "video 1/1 (frame 201/600) /mnt/c/troubleshooting/RAT_NOR/project_folder/videos/clipped/03152021_NOB_IOT_8_clipped.mp4: 576x1024 1.8ms\n",
      "video 1/1 (frame 202/600) /mnt/c/troubleshooting/RAT_NOR/project_folder/videos/clipped/03152021_NOB_IOT_8_clipped.mp4: 576x1024 1.8ms\n",
      "video 1/1 (frame 203/600) /mnt/c/troubleshooting/RAT_NOR/project_folder/videos/clipped/03152021_NOB_IOT_8_clipped.mp4: 576x1024 1.8ms\n",
      "video 1/1 (frame 204/600) /mnt/c/troubleshooting/RAT_NOR/project_folder/videos/clipped/03152021_NOB_IOT_8_clipped.mp4: 576x1024 1.8ms\n",
      "video 1/1 (frame 205/600) /mnt/c/troubleshooting/RAT_NOR/project_folder/videos/clipped/03152021_NOB_IOT_8_clipped.mp4: 576x1024 1.8ms\n",
      "video 1/1 (frame 206/600) /mnt/c/troubleshooting/RAT_NOR/project_folder/videos/clipped/03152021_NOB_IOT_8_clipped.mp4: 576x1024 1.8ms\n",
      "video 1/1 (frame 207/600) /mnt/c/troubleshooting/RAT_NOR/project_folder/videos/clipped/03152021_NOB_IOT_8_clipped.mp4: 576x1024 1.8ms\n",
      "video 1/1 (frame 208/600) /mnt/c/troubleshooting/RAT_NOR/project_folder/videos/clipped/03152021_NOB_IOT_8_clipped.mp4: 576x1024 1.8ms\n",
      "video 1/1 (frame 209/600) /mnt/c/troubleshooting/RAT_NOR/project_folder/videos/clipped/03152021_NOB_IOT_8_clipped.mp4: 576x1024 1.8ms\n",
      "video 1/1 (frame 210/600) /mnt/c/troubleshooting/RAT_NOR/project_folder/videos/clipped/03152021_NOB_IOT_8_clipped.mp4: 576x1024 1.8ms\n",
      "video 1/1 (frame 211/600) /mnt/c/troubleshooting/RAT_NOR/project_folder/videos/clipped/03152021_NOB_IOT_8_clipped.mp4: 576x1024 1.8ms\n",
      "video 1/1 (frame 212/600) /mnt/c/troubleshooting/RAT_NOR/project_folder/videos/clipped/03152021_NOB_IOT_8_clipped.mp4: 576x1024 1.8ms\n",
      "video 1/1 (frame 213/600) /mnt/c/troubleshooting/RAT_NOR/project_folder/videos/clipped/03152021_NOB_IOT_8_clipped.mp4: 576x1024 1.8ms\n",
      "video 1/1 (frame 214/600) /mnt/c/troubleshooting/RAT_NOR/project_folder/videos/clipped/03152021_NOB_IOT_8_clipped.mp4: 576x1024 1.8ms\n",
      "video 1/1 (frame 215/600) /mnt/c/troubleshooting/RAT_NOR/project_folder/videos/clipped/03152021_NOB_IOT_8_clipped.mp4: 576x1024 1.8ms\n",
      "video 1/1 (frame 216/600) /mnt/c/troubleshooting/RAT_NOR/project_folder/videos/clipped/03152021_NOB_IOT_8_clipped.mp4: 576x1024 1.8ms\n",
      "video 1/1 (frame 217/600) /mnt/c/troubleshooting/RAT_NOR/project_folder/videos/clipped/03152021_NOB_IOT_8_clipped.mp4: 576x1024 1.8ms\n",
      "video 1/1 (frame 218/600) /mnt/c/troubleshooting/RAT_NOR/project_folder/videos/clipped/03152021_NOB_IOT_8_clipped.mp4: 576x1024 1.8ms\n",
      "video 1/1 (frame 219/600) /mnt/c/troubleshooting/RAT_NOR/project_folder/videos/clipped/03152021_NOB_IOT_8_clipped.mp4: 576x1024 1.8ms\n",
      "video 1/1 (frame 220/600) /mnt/c/troubleshooting/RAT_NOR/project_folder/videos/clipped/03152021_NOB_IOT_8_clipped.mp4: 576x1024 1.8ms\n",
      "video 1/1 (frame 221/600) /mnt/c/troubleshooting/RAT_NOR/project_folder/videos/clipped/03152021_NOB_IOT_8_clipped.mp4: 576x1024 1.8ms\n",
      "video 1/1 (frame 222/600) /mnt/c/troubleshooting/RAT_NOR/project_folder/videos/clipped/03152021_NOB_IOT_8_clipped.mp4: 576x1024 1.8ms\n",
      "video 1/1 (frame 223/600) /mnt/c/troubleshooting/RAT_NOR/project_folder/videos/clipped/03152021_NOB_IOT_8_clipped.mp4: 576x1024 1.8ms\n",
      "video 1/1 (frame 224/600) /mnt/c/troubleshooting/RAT_NOR/project_folder/videos/clipped/03152021_NOB_IOT_8_clipped.mp4: 576x1024 1.8ms\n",
      "video 1/1 (frame 225/600) /mnt/c/troubleshooting/RAT_NOR/project_folder/videos/clipped/03152021_NOB_IOT_8_clipped.mp4: 576x1024 1.8ms\n",
      "video 1/1 (frame 226/600) /mnt/c/troubleshooting/RAT_NOR/project_folder/videos/clipped/03152021_NOB_IOT_8_clipped.mp4: 576x1024 1.8ms\n",
      "video 1/1 (frame 227/600) /mnt/c/troubleshooting/RAT_NOR/project_folder/videos/clipped/03152021_NOB_IOT_8_clipped.mp4: 576x1024 1.8ms\n",
      "video 1/1 (frame 228/600) /mnt/c/troubleshooting/RAT_NOR/project_folder/videos/clipped/03152021_NOB_IOT_8_clipped.mp4: 576x1024 1.8ms\n",
      "video 1/1 (frame 229/600) /mnt/c/troubleshooting/RAT_NOR/project_folder/videos/clipped/03152021_NOB_IOT_8_clipped.mp4: 576x1024 1.8ms\n",
      "video 1/1 (frame 230/600) /mnt/c/troubleshooting/RAT_NOR/project_folder/videos/clipped/03152021_NOB_IOT_8_clipped.mp4: 576x1024 1.8ms\n",
      "video 1/1 (frame 231/600) /mnt/c/troubleshooting/RAT_NOR/project_folder/videos/clipped/03152021_NOB_IOT_8_clipped.mp4: 576x1024 1.8ms\n",
      "video 1/1 (frame 232/600) /mnt/c/troubleshooting/RAT_NOR/project_folder/videos/clipped/03152021_NOB_IOT_8_clipped.mp4: 576x1024 1.8ms\n",
      "video 1/1 (frame 233/600) /mnt/c/troubleshooting/RAT_NOR/project_folder/videos/clipped/03152021_NOB_IOT_8_clipped.mp4: 576x1024 1.8ms\n",
      "video 1/1 (frame 234/600) /mnt/c/troubleshooting/RAT_NOR/project_folder/videos/clipped/03152021_NOB_IOT_8_clipped.mp4: 576x1024 1.8ms\n",
      "video 1/1 (frame 235/600) /mnt/c/troubleshooting/RAT_NOR/project_folder/videos/clipped/03152021_NOB_IOT_8_clipped.mp4: 576x1024 1.8ms\n",
      "video 1/1 (frame 236/600) /mnt/c/troubleshooting/RAT_NOR/project_folder/videos/clipped/03152021_NOB_IOT_8_clipped.mp4: 576x1024 1.8ms\n",
      "video 1/1 (frame 237/600) /mnt/c/troubleshooting/RAT_NOR/project_folder/videos/clipped/03152021_NOB_IOT_8_clipped.mp4: 576x1024 1.8ms\n",
      "video 1/1 (frame 238/600) /mnt/c/troubleshooting/RAT_NOR/project_folder/videos/clipped/03152021_NOB_IOT_8_clipped.mp4: 576x1024 1.8ms\n",
      "video 1/1 (frame 239/600) /mnt/c/troubleshooting/RAT_NOR/project_folder/videos/clipped/03152021_NOB_IOT_8_clipped.mp4: 576x1024 1.8ms\n",
      "video 1/1 (frame 240/600) /mnt/c/troubleshooting/RAT_NOR/project_folder/videos/clipped/03152021_NOB_IOT_8_clipped.mp4: 576x1024 1.8ms\n",
      "video 1/1 (frame 241/600) /mnt/c/troubleshooting/RAT_NOR/project_folder/videos/clipped/03152021_NOB_IOT_8_clipped.mp4: 576x1024 1.8ms\n",
      "video 1/1 (frame 242/600) /mnt/c/troubleshooting/RAT_NOR/project_folder/videos/clipped/03152021_NOB_IOT_8_clipped.mp4: 576x1024 1.8ms\n",
      "video 1/1 (frame 243/600) /mnt/c/troubleshooting/RAT_NOR/project_folder/videos/clipped/03152021_NOB_IOT_8_clipped.mp4: 576x1024 1.8ms\n",
      "video 1/1 (frame 244/600) /mnt/c/troubleshooting/RAT_NOR/project_folder/videos/clipped/03152021_NOB_IOT_8_clipped.mp4: 576x1024 1.8ms\n",
      "video 1/1 (frame 245/600) /mnt/c/troubleshooting/RAT_NOR/project_folder/videos/clipped/03152021_NOB_IOT_8_clipped.mp4: 576x1024 1.8ms\n",
      "video 1/1 (frame 246/600) /mnt/c/troubleshooting/RAT_NOR/project_folder/videos/clipped/03152021_NOB_IOT_8_clipped.mp4: 576x1024 1.8ms\n",
      "video 1/1 (frame 247/600) /mnt/c/troubleshooting/RAT_NOR/project_folder/videos/clipped/03152021_NOB_IOT_8_clipped.mp4: 576x1024 1.8ms\n",
      "video 1/1 (frame 248/600) /mnt/c/troubleshooting/RAT_NOR/project_folder/videos/clipped/03152021_NOB_IOT_8_clipped.mp4: 576x1024 1.8ms\n",
      "video 1/1 (frame 249/600) /mnt/c/troubleshooting/RAT_NOR/project_folder/videos/clipped/03152021_NOB_IOT_8_clipped.mp4: 576x1024 1.8ms\n",
      "video 1/1 (frame 250/600) /mnt/c/troubleshooting/RAT_NOR/project_folder/videos/clipped/03152021_NOB_IOT_8_clipped.mp4: 576x1024 1.8ms\n",
      "video 1/1 (frame 251/600) /mnt/c/troubleshooting/RAT_NOR/project_folder/videos/clipped/03152021_NOB_IOT_8_clipped.mp4: 576x1024 1.8ms\n",
      "video 1/1 (frame 252/600) /mnt/c/troubleshooting/RAT_NOR/project_folder/videos/clipped/03152021_NOB_IOT_8_clipped.mp4: 576x1024 1.8ms\n",
      "video 1/1 (frame 253/600) /mnt/c/troubleshooting/RAT_NOR/project_folder/videos/clipped/03152021_NOB_IOT_8_clipped.mp4: 576x1024 1.8ms\n",
      "video 1/1 (frame 254/600) /mnt/c/troubleshooting/RAT_NOR/project_folder/videos/clipped/03152021_NOB_IOT_8_clipped.mp4: 576x1024 1.8ms\n",
      "video 1/1 (frame 255/600) /mnt/c/troubleshooting/RAT_NOR/project_folder/videos/clipped/03152021_NOB_IOT_8_clipped.mp4: 576x1024 1.8ms\n",
      "video 1/1 (frame 256/600) /mnt/c/troubleshooting/RAT_NOR/project_folder/videos/clipped/03152021_NOB_IOT_8_clipped.mp4: 576x1024 1.8ms\n",
      "video 1/1 (frame 257/600) /mnt/c/troubleshooting/RAT_NOR/project_folder/videos/clipped/03152021_NOB_IOT_8_clipped.mp4: 576x1024 1.8ms\n",
      "video 1/1 (frame 258/600) /mnt/c/troubleshooting/RAT_NOR/project_folder/videos/clipped/03152021_NOB_IOT_8_clipped.mp4: 576x1024 1.8ms\n",
      "video 1/1 (frame 259/600) /mnt/c/troubleshooting/RAT_NOR/project_folder/videos/clipped/03152021_NOB_IOT_8_clipped.mp4: 576x1024 1.8ms\n",
      "video 1/1 (frame 260/600) /mnt/c/troubleshooting/RAT_NOR/project_folder/videos/clipped/03152021_NOB_IOT_8_clipped.mp4: 576x1024 1.8ms\n",
      "video 1/1 (frame 261/600) /mnt/c/troubleshooting/RAT_NOR/project_folder/videos/clipped/03152021_NOB_IOT_8_clipped.mp4: 576x1024 1.8ms\n",
      "video 1/1 (frame 262/600) /mnt/c/troubleshooting/RAT_NOR/project_folder/videos/clipped/03152021_NOB_IOT_8_clipped.mp4: 576x1024 1.8ms\n",
      "video 1/1 (frame 263/600) /mnt/c/troubleshooting/RAT_NOR/project_folder/videos/clipped/03152021_NOB_IOT_8_clipped.mp4: 576x1024 1.8ms\n",
      "video 1/1 (frame 264/600) /mnt/c/troubleshooting/RAT_NOR/project_folder/videos/clipped/03152021_NOB_IOT_8_clipped.mp4: 576x1024 1.8ms\n",
      "video 1/1 (frame 265/600) /mnt/c/troubleshooting/RAT_NOR/project_folder/videos/clipped/03152021_NOB_IOT_8_clipped.mp4: 576x1024 1.8ms\n",
      "video 1/1 (frame 266/600) /mnt/c/troubleshooting/RAT_NOR/project_folder/videos/clipped/03152021_NOB_IOT_8_clipped.mp4: 576x1024 1.8ms\n",
      "video 1/1 (frame 267/600) /mnt/c/troubleshooting/RAT_NOR/project_folder/videos/clipped/03152021_NOB_IOT_8_clipped.mp4: 576x1024 1.8ms\n",
      "video 1/1 (frame 268/600) /mnt/c/troubleshooting/RAT_NOR/project_folder/videos/clipped/03152021_NOB_IOT_8_clipped.mp4: 576x1024 1.8ms\n",
      "video 1/1 (frame 269/600) /mnt/c/troubleshooting/RAT_NOR/project_folder/videos/clipped/03152021_NOB_IOT_8_clipped.mp4: 576x1024 1.8ms\n",
      "video 1/1 (frame 270/600) /mnt/c/troubleshooting/RAT_NOR/project_folder/videos/clipped/03152021_NOB_IOT_8_clipped.mp4: 576x1024 1.8ms\n",
      "video 1/1 (frame 271/600) /mnt/c/troubleshooting/RAT_NOR/project_folder/videos/clipped/03152021_NOB_IOT_8_clipped.mp4: 576x1024 1.8ms\n",
      "video 1/1 (frame 272/600) /mnt/c/troubleshooting/RAT_NOR/project_folder/videos/clipped/03152021_NOB_IOT_8_clipped.mp4: 576x1024 1.8ms\n",
      "video 1/1 (frame 273/600) /mnt/c/troubleshooting/RAT_NOR/project_folder/videos/clipped/03152021_NOB_IOT_8_clipped.mp4: 576x1024 1.8ms\n",
      "video 1/1 (frame 274/600) /mnt/c/troubleshooting/RAT_NOR/project_folder/videos/clipped/03152021_NOB_IOT_8_clipped.mp4: 576x1024 1.8ms\n",
      "video 1/1 (frame 275/600) /mnt/c/troubleshooting/RAT_NOR/project_folder/videos/clipped/03152021_NOB_IOT_8_clipped.mp4: 576x1024 1.8ms\n",
      "video 1/1 (frame 276/600) /mnt/c/troubleshooting/RAT_NOR/project_folder/videos/clipped/03152021_NOB_IOT_8_clipped.mp4: 576x1024 1.8ms\n",
      "video 1/1 (frame 277/600) /mnt/c/troubleshooting/RAT_NOR/project_folder/videos/clipped/03152021_NOB_IOT_8_clipped.mp4: 576x1024 1.8ms\n",
      "video 1/1 (frame 278/600) /mnt/c/troubleshooting/RAT_NOR/project_folder/videos/clipped/03152021_NOB_IOT_8_clipped.mp4: 576x1024 1.8ms\n",
      "video 1/1 (frame 279/600) /mnt/c/troubleshooting/RAT_NOR/project_folder/videos/clipped/03152021_NOB_IOT_8_clipped.mp4: 576x1024 1.8ms\n",
      "video 1/1 (frame 280/600) /mnt/c/troubleshooting/RAT_NOR/project_folder/videos/clipped/03152021_NOB_IOT_8_clipped.mp4: 576x1024 1.8ms\n",
      "video 1/1 (frame 281/600) /mnt/c/troubleshooting/RAT_NOR/project_folder/videos/clipped/03152021_NOB_IOT_8_clipped.mp4: 576x1024 1.8ms\n",
      "video 1/1 (frame 282/600) /mnt/c/troubleshooting/RAT_NOR/project_folder/videos/clipped/03152021_NOB_IOT_8_clipped.mp4: 576x1024 1.8ms\n",
      "video 1/1 (frame 283/600) /mnt/c/troubleshooting/RAT_NOR/project_folder/videos/clipped/03152021_NOB_IOT_8_clipped.mp4: 576x1024 1.8ms\n",
      "video 1/1 (frame 284/600) /mnt/c/troubleshooting/RAT_NOR/project_folder/videos/clipped/03152021_NOB_IOT_8_clipped.mp4: 576x1024 1.8ms\n",
      "video 1/1 (frame 285/600) /mnt/c/troubleshooting/RAT_NOR/project_folder/videos/clipped/03152021_NOB_IOT_8_clipped.mp4: 576x1024 1.8ms\n",
      "video 1/1 (frame 286/600) /mnt/c/troubleshooting/RAT_NOR/project_folder/videos/clipped/03152021_NOB_IOT_8_clipped.mp4: 576x1024 1.8ms\n",
      "video 1/1 (frame 287/600) /mnt/c/troubleshooting/RAT_NOR/project_folder/videos/clipped/03152021_NOB_IOT_8_clipped.mp4: 576x1024 1.8ms\n",
      "video 1/1 (frame 288/600) /mnt/c/troubleshooting/RAT_NOR/project_folder/videos/clipped/03152021_NOB_IOT_8_clipped.mp4: 576x1024 1.8ms\n",
      "video 1/1 (frame 289/600) /mnt/c/troubleshooting/RAT_NOR/project_folder/videos/clipped/03152021_NOB_IOT_8_clipped.mp4: 576x1024 1.8ms\n",
      "video 1/1 (frame 290/600) /mnt/c/troubleshooting/RAT_NOR/project_folder/videos/clipped/03152021_NOB_IOT_8_clipped.mp4: 576x1024 1.8ms\n",
      "video 1/1 (frame 291/600) /mnt/c/troubleshooting/RAT_NOR/project_folder/videos/clipped/03152021_NOB_IOT_8_clipped.mp4: 576x1024 1.8ms\n",
      "video 1/1 (frame 292/600) /mnt/c/troubleshooting/RAT_NOR/project_folder/videos/clipped/03152021_NOB_IOT_8_clipped.mp4: 576x1024 1.8ms\n",
      "video 1/1 (frame 293/600) /mnt/c/troubleshooting/RAT_NOR/project_folder/videos/clipped/03152021_NOB_IOT_8_clipped.mp4: 576x1024 1.8ms\n",
      "video 1/1 (frame 294/600) /mnt/c/troubleshooting/RAT_NOR/project_folder/videos/clipped/03152021_NOB_IOT_8_clipped.mp4: 576x1024 1.8ms\n",
      "video 1/1 (frame 295/600) /mnt/c/troubleshooting/RAT_NOR/project_folder/videos/clipped/03152021_NOB_IOT_8_clipped.mp4: 576x1024 1.8ms\n",
      "video 1/1 (frame 296/600) /mnt/c/troubleshooting/RAT_NOR/project_folder/videos/clipped/03152021_NOB_IOT_8_clipped.mp4: 576x1024 1.8ms\n",
      "video 1/1 (frame 297/600) /mnt/c/troubleshooting/RAT_NOR/project_folder/videos/clipped/03152021_NOB_IOT_8_clipped.mp4: 576x1024 1.8ms\n",
      "video 1/1 (frame 298/600) /mnt/c/troubleshooting/RAT_NOR/project_folder/videos/clipped/03152021_NOB_IOT_8_clipped.mp4: 576x1024 1.8ms\n",
      "video 1/1 (frame 299/600) /mnt/c/troubleshooting/RAT_NOR/project_folder/videos/clipped/03152021_NOB_IOT_8_clipped.mp4: 576x1024 1.8ms\n",
      "video 1/1 (frame 300/600) /mnt/c/troubleshooting/RAT_NOR/project_folder/videos/clipped/03152021_NOB_IOT_8_clipped.mp4: 576x1024 1.8ms\n",
      "video 1/1 (frame 301/600) /mnt/c/troubleshooting/RAT_NOR/project_folder/videos/clipped/03152021_NOB_IOT_8_clipped.mp4: 576x1024 1.8ms\n",
      "video 1/1 (frame 302/600) /mnt/c/troubleshooting/RAT_NOR/project_folder/videos/clipped/03152021_NOB_IOT_8_clipped.mp4: 576x1024 1.8ms\n",
      "video 1/1 (frame 303/600) /mnt/c/troubleshooting/RAT_NOR/project_folder/videos/clipped/03152021_NOB_IOT_8_clipped.mp4: 576x1024 1.8ms\n",
      "video 1/1 (frame 304/600) /mnt/c/troubleshooting/RAT_NOR/project_folder/videos/clipped/03152021_NOB_IOT_8_clipped.mp4: 576x1024 1.8ms\n",
      "video 1/1 (frame 305/600) /mnt/c/troubleshooting/RAT_NOR/project_folder/videos/clipped/03152021_NOB_IOT_8_clipped.mp4: 576x1024 1.8ms\n",
      "video 1/1 (frame 306/600) /mnt/c/troubleshooting/RAT_NOR/project_folder/videos/clipped/03152021_NOB_IOT_8_clipped.mp4: 576x1024 1.8ms\n",
      "video 1/1 (frame 307/600) /mnt/c/troubleshooting/RAT_NOR/project_folder/videos/clipped/03152021_NOB_IOT_8_clipped.mp4: 576x1024 1.8ms\n",
      "video 1/1 (frame 308/600) /mnt/c/troubleshooting/RAT_NOR/project_folder/videos/clipped/03152021_NOB_IOT_8_clipped.mp4: 576x1024 1.8ms\n",
      "video 1/1 (frame 309/600) /mnt/c/troubleshooting/RAT_NOR/project_folder/videos/clipped/03152021_NOB_IOT_8_clipped.mp4: 576x1024 1.8ms\n",
      "video 1/1 (frame 310/600) /mnt/c/troubleshooting/RAT_NOR/project_folder/videos/clipped/03152021_NOB_IOT_8_clipped.mp4: 576x1024 1.8ms\n",
      "video 1/1 (frame 311/600) /mnt/c/troubleshooting/RAT_NOR/project_folder/videos/clipped/03152021_NOB_IOT_8_clipped.mp4: 576x1024 1.8ms\n",
      "video 1/1 (frame 312/600) /mnt/c/troubleshooting/RAT_NOR/project_folder/videos/clipped/03152021_NOB_IOT_8_clipped.mp4: 576x1024 1.8ms\n",
      "video 1/1 (frame 313/600) /mnt/c/troubleshooting/RAT_NOR/project_folder/videos/clipped/03152021_NOB_IOT_8_clipped.mp4: 576x1024 1.8ms\n",
      "video 1/1 (frame 314/600) /mnt/c/troubleshooting/RAT_NOR/project_folder/videos/clipped/03152021_NOB_IOT_8_clipped.mp4: 576x1024 1.8ms\n",
      "video 1/1 (frame 315/600) /mnt/c/troubleshooting/RAT_NOR/project_folder/videos/clipped/03152021_NOB_IOT_8_clipped.mp4: 576x1024 1.8ms\n",
      "video 1/1 (frame 316/600) /mnt/c/troubleshooting/RAT_NOR/project_folder/videos/clipped/03152021_NOB_IOT_8_clipped.mp4: 576x1024 1.8ms\n",
      "video 1/1 (frame 317/600) /mnt/c/troubleshooting/RAT_NOR/project_folder/videos/clipped/03152021_NOB_IOT_8_clipped.mp4: 576x1024 1.8ms\n",
      "video 1/1 (frame 318/600) /mnt/c/troubleshooting/RAT_NOR/project_folder/videos/clipped/03152021_NOB_IOT_8_clipped.mp4: 576x1024 1.8ms\n",
      "video 1/1 (frame 319/600) /mnt/c/troubleshooting/RAT_NOR/project_folder/videos/clipped/03152021_NOB_IOT_8_clipped.mp4: 576x1024 1.8ms\n",
      "video 1/1 (frame 320/600) /mnt/c/troubleshooting/RAT_NOR/project_folder/videos/clipped/03152021_NOB_IOT_8_clipped.mp4: 576x1024 1.8ms\n",
      "video 1/1 (frame 321/600) /mnt/c/troubleshooting/RAT_NOR/project_folder/videos/clipped/03152021_NOB_IOT_8_clipped.mp4: 576x1024 1.8ms\n",
      "video 1/1 (frame 322/600) /mnt/c/troubleshooting/RAT_NOR/project_folder/videos/clipped/03152021_NOB_IOT_8_clipped.mp4: 576x1024 1.8ms\n",
      "video 1/1 (frame 323/600) /mnt/c/troubleshooting/RAT_NOR/project_folder/videos/clipped/03152021_NOB_IOT_8_clipped.mp4: 576x1024 1.8ms\n",
      "video 1/1 (frame 324/600) /mnt/c/troubleshooting/RAT_NOR/project_folder/videos/clipped/03152021_NOB_IOT_8_clipped.mp4: 576x1024 1.8ms\n",
      "video 1/1 (frame 325/600) /mnt/c/troubleshooting/RAT_NOR/project_folder/videos/clipped/03152021_NOB_IOT_8_clipped.mp4: 576x1024 1.8ms\n",
      "video 1/1 (frame 326/600) /mnt/c/troubleshooting/RAT_NOR/project_folder/videos/clipped/03152021_NOB_IOT_8_clipped.mp4: 576x1024 1.8ms\n",
      "video 1/1 (frame 327/600) /mnt/c/troubleshooting/RAT_NOR/project_folder/videos/clipped/03152021_NOB_IOT_8_clipped.mp4: 576x1024 1.8ms\n",
      "video 1/1 (frame 328/600) /mnt/c/troubleshooting/RAT_NOR/project_folder/videos/clipped/03152021_NOB_IOT_8_clipped.mp4: 576x1024 1.8ms\n",
      "video 1/1 (frame 329/600) /mnt/c/troubleshooting/RAT_NOR/project_folder/videos/clipped/03152021_NOB_IOT_8_clipped.mp4: 576x1024 1.8ms\n",
      "video 1/1 (frame 330/600) /mnt/c/troubleshooting/RAT_NOR/project_folder/videos/clipped/03152021_NOB_IOT_8_clipped.mp4: 576x1024 1.8ms\n",
      "video 1/1 (frame 331/600) /mnt/c/troubleshooting/RAT_NOR/project_folder/videos/clipped/03152021_NOB_IOT_8_clipped.mp4: 576x1024 1.8ms\n",
      "video 1/1 (frame 332/600) /mnt/c/troubleshooting/RAT_NOR/project_folder/videos/clipped/03152021_NOB_IOT_8_clipped.mp4: 576x1024 1.8ms\n",
      "video 1/1 (frame 333/600) /mnt/c/troubleshooting/RAT_NOR/project_folder/videos/clipped/03152021_NOB_IOT_8_clipped.mp4: 576x1024 1.8ms\n",
      "video 1/1 (frame 334/600) /mnt/c/troubleshooting/RAT_NOR/project_folder/videos/clipped/03152021_NOB_IOT_8_clipped.mp4: 576x1024 1.8ms\n",
      "video 1/1 (frame 335/600) /mnt/c/troubleshooting/RAT_NOR/project_folder/videos/clipped/03152021_NOB_IOT_8_clipped.mp4: 576x1024 1.8ms\n",
      "video 1/1 (frame 336/600) /mnt/c/troubleshooting/RAT_NOR/project_folder/videos/clipped/03152021_NOB_IOT_8_clipped.mp4: 576x1024 1.8ms\n",
      "video 1/1 (frame 337/600) /mnt/c/troubleshooting/RAT_NOR/project_folder/videos/clipped/03152021_NOB_IOT_8_clipped.mp4: 576x1024 1.8ms\n",
      "video 1/1 (frame 338/600) /mnt/c/troubleshooting/RAT_NOR/project_folder/videos/clipped/03152021_NOB_IOT_8_clipped.mp4: 576x1024 1.8ms\n",
      "video 1/1 (frame 339/600) /mnt/c/troubleshooting/RAT_NOR/project_folder/videos/clipped/03152021_NOB_IOT_8_clipped.mp4: 576x1024 1.8ms\n",
      "video 1/1 (frame 340/600) /mnt/c/troubleshooting/RAT_NOR/project_folder/videos/clipped/03152021_NOB_IOT_8_clipped.mp4: 576x1024 1.8ms\n",
      "video 1/1 (frame 341/600) /mnt/c/troubleshooting/RAT_NOR/project_folder/videos/clipped/03152021_NOB_IOT_8_clipped.mp4: 576x1024 1.8ms\n",
      "video 1/1 (frame 342/600) /mnt/c/troubleshooting/RAT_NOR/project_folder/videos/clipped/03152021_NOB_IOT_8_clipped.mp4: 576x1024 1.8ms\n",
      "video 1/1 (frame 343/600) /mnt/c/troubleshooting/RAT_NOR/project_folder/videos/clipped/03152021_NOB_IOT_8_clipped.mp4: 576x1024 1.8ms\n",
      "video 1/1 (frame 344/600) /mnt/c/troubleshooting/RAT_NOR/project_folder/videos/clipped/03152021_NOB_IOT_8_clipped.mp4: 576x1024 1.8ms\n",
      "video 1/1 (frame 345/600) /mnt/c/troubleshooting/RAT_NOR/project_folder/videos/clipped/03152021_NOB_IOT_8_clipped.mp4: 576x1024 1.8ms\n",
      "video 1/1 (frame 346/600) /mnt/c/troubleshooting/RAT_NOR/project_folder/videos/clipped/03152021_NOB_IOT_8_clipped.mp4: 576x1024 1.8ms\n",
      "video 1/1 (frame 347/600) /mnt/c/troubleshooting/RAT_NOR/project_folder/videos/clipped/03152021_NOB_IOT_8_clipped.mp4: 576x1024 1.8ms\n",
      "video 1/1 (frame 348/600) /mnt/c/troubleshooting/RAT_NOR/project_folder/videos/clipped/03152021_NOB_IOT_8_clipped.mp4: 576x1024 1.8ms\n",
      "video 1/1 (frame 349/600) /mnt/c/troubleshooting/RAT_NOR/project_folder/videos/clipped/03152021_NOB_IOT_8_clipped.mp4: 576x1024 1.8ms\n",
      "video 1/1 (frame 350/600) /mnt/c/troubleshooting/RAT_NOR/project_folder/videos/clipped/03152021_NOB_IOT_8_clipped.mp4: 576x1024 1.8ms\n",
      "video 1/1 (frame 351/600) /mnt/c/troubleshooting/RAT_NOR/project_folder/videos/clipped/03152021_NOB_IOT_8_clipped.mp4: 576x1024 1.8ms\n",
      "video 1/1 (frame 352/600) /mnt/c/troubleshooting/RAT_NOR/project_folder/videos/clipped/03152021_NOB_IOT_8_clipped.mp4: 576x1024 1.8ms\n",
      "video 1/1 (frame 353/600) /mnt/c/troubleshooting/RAT_NOR/project_folder/videos/clipped/03152021_NOB_IOT_8_clipped.mp4: 576x1024 1.8ms\n",
      "video 1/1 (frame 354/600) /mnt/c/troubleshooting/RAT_NOR/project_folder/videos/clipped/03152021_NOB_IOT_8_clipped.mp4: 576x1024 1.8ms\n",
      "video 1/1 (frame 355/600) /mnt/c/troubleshooting/RAT_NOR/project_folder/videos/clipped/03152021_NOB_IOT_8_clipped.mp4: 576x1024 1.8ms\n",
      "video 1/1 (frame 356/600) /mnt/c/troubleshooting/RAT_NOR/project_folder/videos/clipped/03152021_NOB_IOT_8_clipped.mp4: 576x1024 1.8ms\n",
      "video 1/1 (frame 357/600) /mnt/c/troubleshooting/RAT_NOR/project_folder/videos/clipped/03152021_NOB_IOT_8_clipped.mp4: 576x1024 1.8ms\n",
      "video 1/1 (frame 358/600) /mnt/c/troubleshooting/RAT_NOR/project_folder/videos/clipped/03152021_NOB_IOT_8_clipped.mp4: 576x1024 1.8ms\n",
      "video 1/1 (frame 359/600) /mnt/c/troubleshooting/RAT_NOR/project_folder/videos/clipped/03152021_NOB_IOT_8_clipped.mp4: 576x1024 1.8ms\n",
      "video 1/1 (frame 360/600) /mnt/c/troubleshooting/RAT_NOR/project_folder/videos/clipped/03152021_NOB_IOT_8_clipped.mp4: 576x1024 1.8ms\n",
      "video 1/1 (frame 361/600) /mnt/c/troubleshooting/RAT_NOR/project_folder/videos/clipped/03152021_NOB_IOT_8_clipped.mp4: 576x1024 1.8ms\n",
      "video 1/1 (frame 362/600) /mnt/c/troubleshooting/RAT_NOR/project_folder/videos/clipped/03152021_NOB_IOT_8_clipped.mp4: 576x1024 1.8ms\n",
      "video 1/1 (frame 363/600) /mnt/c/troubleshooting/RAT_NOR/project_folder/videos/clipped/03152021_NOB_IOT_8_clipped.mp4: 576x1024 1.8ms\n",
      "video 1/1 (frame 364/600) /mnt/c/troubleshooting/RAT_NOR/project_folder/videos/clipped/03152021_NOB_IOT_8_clipped.mp4: 576x1024 1.8ms\n",
      "video 1/1 (frame 365/600) /mnt/c/troubleshooting/RAT_NOR/project_folder/videos/clipped/03152021_NOB_IOT_8_clipped.mp4: 576x1024 1.8ms\n",
      "video 1/1 (frame 366/600) /mnt/c/troubleshooting/RAT_NOR/project_folder/videos/clipped/03152021_NOB_IOT_8_clipped.mp4: 576x1024 1.8ms\n",
      "video 1/1 (frame 367/600) /mnt/c/troubleshooting/RAT_NOR/project_folder/videos/clipped/03152021_NOB_IOT_8_clipped.mp4: 576x1024 1.8ms\n",
      "video 1/1 (frame 368/600) /mnt/c/troubleshooting/RAT_NOR/project_folder/videos/clipped/03152021_NOB_IOT_8_clipped.mp4: 576x1024 1.8ms\n",
      "video 1/1 (frame 369/600) /mnt/c/troubleshooting/RAT_NOR/project_folder/videos/clipped/03152021_NOB_IOT_8_clipped.mp4: 576x1024 1.8ms\n",
      "video 1/1 (frame 370/600) /mnt/c/troubleshooting/RAT_NOR/project_folder/videos/clipped/03152021_NOB_IOT_8_clipped.mp4: 576x1024 1.8ms\n",
      "video 1/1 (frame 371/600) /mnt/c/troubleshooting/RAT_NOR/project_folder/videos/clipped/03152021_NOB_IOT_8_clipped.mp4: 576x1024 1.8ms\n",
      "video 1/1 (frame 372/600) /mnt/c/troubleshooting/RAT_NOR/project_folder/videos/clipped/03152021_NOB_IOT_8_clipped.mp4: 576x1024 1.8ms\n",
      "video 1/1 (frame 373/600) /mnt/c/troubleshooting/RAT_NOR/project_folder/videos/clipped/03152021_NOB_IOT_8_clipped.mp4: 576x1024 1.8ms\n",
      "video 1/1 (frame 374/600) /mnt/c/troubleshooting/RAT_NOR/project_folder/videos/clipped/03152021_NOB_IOT_8_clipped.mp4: 576x1024 1.8ms\n",
      "video 1/1 (frame 375/600) /mnt/c/troubleshooting/RAT_NOR/project_folder/videos/clipped/03152021_NOB_IOT_8_clipped.mp4: 576x1024 1.8ms\n",
      "video 1/1 (frame 376/600) /mnt/c/troubleshooting/RAT_NOR/project_folder/videos/clipped/03152021_NOB_IOT_8_clipped.mp4: 576x1024 1.8ms\n",
      "video 1/1 (frame 377/600) /mnt/c/troubleshooting/RAT_NOR/project_folder/videos/clipped/03152021_NOB_IOT_8_clipped.mp4: 576x1024 1.8ms\n",
      "video 1/1 (frame 378/600) /mnt/c/troubleshooting/RAT_NOR/project_folder/videos/clipped/03152021_NOB_IOT_8_clipped.mp4: 576x1024 1.8ms\n",
      "video 1/1 (frame 379/600) /mnt/c/troubleshooting/RAT_NOR/project_folder/videos/clipped/03152021_NOB_IOT_8_clipped.mp4: 576x1024 1.8ms\n",
      "video 1/1 (frame 380/600) /mnt/c/troubleshooting/RAT_NOR/project_folder/videos/clipped/03152021_NOB_IOT_8_clipped.mp4: 576x1024 1.8ms\n",
      "video 1/1 (frame 381/600) /mnt/c/troubleshooting/RAT_NOR/project_folder/videos/clipped/03152021_NOB_IOT_8_clipped.mp4: 576x1024 1.8ms\n",
      "video 1/1 (frame 382/600) /mnt/c/troubleshooting/RAT_NOR/project_folder/videos/clipped/03152021_NOB_IOT_8_clipped.mp4: 576x1024 1.8ms\n",
      "video 1/1 (frame 383/600) /mnt/c/troubleshooting/RAT_NOR/project_folder/videos/clipped/03152021_NOB_IOT_8_clipped.mp4: 576x1024 1.8ms\n",
      "video 1/1 (frame 384/600) /mnt/c/troubleshooting/RAT_NOR/project_folder/videos/clipped/03152021_NOB_IOT_8_clipped.mp4: 576x1024 1.8ms\n",
      "video 1/1 (frame 385/600) /mnt/c/troubleshooting/RAT_NOR/project_folder/videos/clipped/03152021_NOB_IOT_8_clipped.mp4: 576x1024 1.7ms\n",
      "video 1/1 (frame 386/600) /mnt/c/troubleshooting/RAT_NOR/project_folder/videos/clipped/03152021_NOB_IOT_8_clipped.mp4: 576x1024 1.7ms\n",
      "video 1/1 (frame 387/600) /mnt/c/troubleshooting/RAT_NOR/project_folder/videos/clipped/03152021_NOB_IOT_8_clipped.mp4: 576x1024 1.7ms\n",
      "video 1/1 (frame 388/600) /mnt/c/troubleshooting/RAT_NOR/project_folder/videos/clipped/03152021_NOB_IOT_8_clipped.mp4: 576x1024 1.7ms\n",
      "video 1/1 (frame 389/600) /mnt/c/troubleshooting/RAT_NOR/project_folder/videos/clipped/03152021_NOB_IOT_8_clipped.mp4: 576x1024 1.7ms\n",
      "video 1/1 (frame 390/600) /mnt/c/troubleshooting/RAT_NOR/project_folder/videos/clipped/03152021_NOB_IOT_8_clipped.mp4: 576x1024 1.7ms\n",
      "video 1/1 (frame 391/600) /mnt/c/troubleshooting/RAT_NOR/project_folder/videos/clipped/03152021_NOB_IOT_8_clipped.mp4: 576x1024 1.7ms\n",
      "video 1/1 (frame 392/600) /mnt/c/troubleshooting/RAT_NOR/project_folder/videos/clipped/03152021_NOB_IOT_8_clipped.mp4: 576x1024 1.7ms\n",
      "video 1/1 (frame 393/600) /mnt/c/troubleshooting/RAT_NOR/project_folder/videos/clipped/03152021_NOB_IOT_8_clipped.mp4: 576x1024 1.7ms\n",
      "video 1/1 (frame 394/600) /mnt/c/troubleshooting/RAT_NOR/project_folder/videos/clipped/03152021_NOB_IOT_8_clipped.mp4: 576x1024 1.7ms\n",
      "video 1/1 (frame 395/600) /mnt/c/troubleshooting/RAT_NOR/project_folder/videos/clipped/03152021_NOB_IOT_8_clipped.mp4: 576x1024 1.7ms\n",
      "video 1/1 (frame 396/600) /mnt/c/troubleshooting/RAT_NOR/project_folder/videos/clipped/03152021_NOB_IOT_8_clipped.mp4: 576x1024 1.7ms\n",
      "video 1/1 (frame 397/600) /mnt/c/troubleshooting/RAT_NOR/project_folder/videos/clipped/03152021_NOB_IOT_8_clipped.mp4: 576x1024 1.7ms\n",
      "video 1/1 (frame 398/600) /mnt/c/troubleshooting/RAT_NOR/project_folder/videos/clipped/03152021_NOB_IOT_8_clipped.mp4: 576x1024 1.7ms\n",
      "video 1/1 (frame 399/600) /mnt/c/troubleshooting/RAT_NOR/project_folder/videos/clipped/03152021_NOB_IOT_8_clipped.mp4: 576x1024 1.7ms\n",
      "video 1/1 (frame 400/600) /mnt/c/troubleshooting/RAT_NOR/project_folder/videos/clipped/03152021_NOB_IOT_8_clipped.mp4: 576x1024 1.7ms\n",
      "video 1/1 (frame 401/600) /mnt/c/troubleshooting/RAT_NOR/project_folder/videos/clipped/03152021_NOB_IOT_8_clipped.mp4: 576x1024 1.7ms\n",
      "video 1/1 (frame 402/600) /mnt/c/troubleshooting/RAT_NOR/project_folder/videos/clipped/03152021_NOB_IOT_8_clipped.mp4: 576x1024 1.7ms\n",
      "video 1/1 (frame 403/600) /mnt/c/troubleshooting/RAT_NOR/project_folder/videos/clipped/03152021_NOB_IOT_8_clipped.mp4: 576x1024 1.7ms\n",
      "video 1/1 (frame 404/600) /mnt/c/troubleshooting/RAT_NOR/project_folder/videos/clipped/03152021_NOB_IOT_8_clipped.mp4: 576x1024 1.7ms\n",
      "video 1/1 (frame 405/600) /mnt/c/troubleshooting/RAT_NOR/project_folder/videos/clipped/03152021_NOB_IOT_8_clipped.mp4: 576x1024 1.7ms\n",
      "video 1/1 (frame 406/600) /mnt/c/troubleshooting/RAT_NOR/project_folder/videos/clipped/03152021_NOB_IOT_8_clipped.mp4: 576x1024 1.7ms\n",
      "video 1/1 (frame 407/600) /mnt/c/troubleshooting/RAT_NOR/project_folder/videos/clipped/03152021_NOB_IOT_8_clipped.mp4: 576x1024 1.7ms\n",
      "video 1/1 (frame 408/600) /mnt/c/troubleshooting/RAT_NOR/project_folder/videos/clipped/03152021_NOB_IOT_8_clipped.mp4: 576x1024 1.7ms\n",
      "video 1/1 (frame 409/600) /mnt/c/troubleshooting/RAT_NOR/project_folder/videos/clipped/03152021_NOB_IOT_8_clipped.mp4: 576x1024 1.7ms\n",
      "video 1/1 (frame 410/600) /mnt/c/troubleshooting/RAT_NOR/project_folder/videos/clipped/03152021_NOB_IOT_8_clipped.mp4: 576x1024 1.7ms\n",
      "video 1/1 (frame 411/600) /mnt/c/troubleshooting/RAT_NOR/project_folder/videos/clipped/03152021_NOB_IOT_8_clipped.mp4: 576x1024 1.7ms\n",
      "video 1/1 (frame 412/600) /mnt/c/troubleshooting/RAT_NOR/project_folder/videos/clipped/03152021_NOB_IOT_8_clipped.mp4: 576x1024 1.7ms\n",
      "video 1/1 (frame 413/600) /mnt/c/troubleshooting/RAT_NOR/project_folder/videos/clipped/03152021_NOB_IOT_8_clipped.mp4: 576x1024 1.7ms\n",
      "video 1/1 (frame 414/600) /mnt/c/troubleshooting/RAT_NOR/project_folder/videos/clipped/03152021_NOB_IOT_8_clipped.mp4: 576x1024 1.7ms\n",
      "video 1/1 (frame 415/600) /mnt/c/troubleshooting/RAT_NOR/project_folder/videos/clipped/03152021_NOB_IOT_8_clipped.mp4: 576x1024 1.7ms\n",
      "video 1/1 (frame 416/600) /mnt/c/troubleshooting/RAT_NOR/project_folder/videos/clipped/03152021_NOB_IOT_8_clipped.mp4: 576x1024 1.7ms\n",
      "video 1/1 (frame 417/600) /mnt/c/troubleshooting/RAT_NOR/project_folder/videos/clipped/03152021_NOB_IOT_8_clipped.mp4: 576x1024 1.8ms\n",
      "video 1/1 (frame 418/600) /mnt/c/troubleshooting/RAT_NOR/project_folder/videos/clipped/03152021_NOB_IOT_8_clipped.mp4: 576x1024 1.8ms\n",
      "video 1/1 (frame 419/600) /mnt/c/troubleshooting/RAT_NOR/project_folder/videos/clipped/03152021_NOB_IOT_8_clipped.mp4: 576x1024 1.8ms\n",
      "video 1/1 (frame 420/600) /mnt/c/troubleshooting/RAT_NOR/project_folder/videos/clipped/03152021_NOB_IOT_8_clipped.mp4: 576x1024 1.8ms\n",
      "video 1/1 (frame 421/600) /mnt/c/troubleshooting/RAT_NOR/project_folder/videos/clipped/03152021_NOB_IOT_8_clipped.mp4: 576x1024 1.8ms\n",
      "video 1/1 (frame 422/600) /mnt/c/troubleshooting/RAT_NOR/project_folder/videos/clipped/03152021_NOB_IOT_8_clipped.mp4: 576x1024 1.8ms\n",
      "video 1/1 (frame 423/600) /mnt/c/troubleshooting/RAT_NOR/project_folder/videos/clipped/03152021_NOB_IOT_8_clipped.mp4: 576x1024 1.8ms\n",
      "video 1/1 (frame 424/600) /mnt/c/troubleshooting/RAT_NOR/project_folder/videos/clipped/03152021_NOB_IOT_8_clipped.mp4: 576x1024 1.8ms\n",
      "video 1/1 (frame 425/600) /mnt/c/troubleshooting/RAT_NOR/project_folder/videos/clipped/03152021_NOB_IOT_8_clipped.mp4: 576x1024 1.8ms\n",
      "video 1/1 (frame 426/600) /mnt/c/troubleshooting/RAT_NOR/project_folder/videos/clipped/03152021_NOB_IOT_8_clipped.mp4: 576x1024 1.8ms\n",
      "video 1/1 (frame 427/600) /mnt/c/troubleshooting/RAT_NOR/project_folder/videos/clipped/03152021_NOB_IOT_8_clipped.mp4: 576x1024 1.8ms\n",
      "video 1/1 (frame 428/600) /mnt/c/troubleshooting/RAT_NOR/project_folder/videos/clipped/03152021_NOB_IOT_8_clipped.mp4: 576x1024 1.8ms\n",
      "video 1/1 (frame 429/600) /mnt/c/troubleshooting/RAT_NOR/project_folder/videos/clipped/03152021_NOB_IOT_8_clipped.mp4: 576x1024 1.8ms\n",
      "video 1/1 (frame 430/600) /mnt/c/troubleshooting/RAT_NOR/project_folder/videos/clipped/03152021_NOB_IOT_8_clipped.mp4: 576x1024 1.8ms\n",
      "video 1/1 (frame 431/600) /mnt/c/troubleshooting/RAT_NOR/project_folder/videos/clipped/03152021_NOB_IOT_8_clipped.mp4: 576x1024 1.8ms\n",
      "video 1/1 (frame 432/600) /mnt/c/troubleshooting/RAT_NOR/project_folder/videos/clipped/03152021_NOB_IOT_8_clipped.mp4: 576x1024 1.8ms\n",
      "video 1/1 (frame 433/600) /mnt/c/troubleshooting/RAT_NOR/project_folder/videos/clipped/03152021_NOB_IOT_8_clipped.mp4: 576x1024 1.8ms\n",
      "video 1/1 (frame 434/600) /mnt/c/troubleshooting/RAT_NOR/project_folder/videos/clipped/03152021_NOB_IOT_8_clipped.mp4: 576x1024 1.8ms\n",
      "video 1/1 (frame 435/600) /mnt/c/troubleshooting/RAT_NOR/project_folder/videos/clipped/03152021_NOB_IOT_8_clipped.mp4: 576x1024 1.8ms\n",
      "video 1/1 (frame 436/600) /mnt/c/troubleshooting/RAT_NOR/project_folder/videos/clipped/03152021_NOB_IOT_8_clipped.mp4: 576x1024 1.8ms\n",
      "video 1/1 (frame 437/600) /mnt/c/troubleshooting/RAT_NOR/project_folder/videos/clipped/03152021_NOB_IOT_8_clipped.mp4: 576x1024 1.8ms\n",
      "video 1/1 (frame 438/600) /mnt/c/troubleshooting/RAT_NOR/project_folder/videos/clipped/03152021_NOB_IOT_8_clipped.mp4: 576x1024 1.8ms\n",
      "video 1/1 (frame 439/600) /mnt/c/troubleshooting/RAT_NOR/project_folder/videos/clipped/03152021_NOB_IOT_8_clipped.mp4: 576x1024 1.8ms\n",
      "video 1/1 (frame 440/600) /mnt/c/troubleshooting/RAT_NOR/project_folder/videos/clipped/03152021_NOB_IOT_8_clipped.mp4: 576x1024 1.8ms\n",
      "video 1/1 (frame 441/600) /mnt/c/troubleshooting/RAT_NOR/project_folder/videos/clipped/03152021_NOB_IOT_8_clipped.mp4: 576x1024 1.8ms\n",
      "video 1/1 (frame 442/600) /mnt/c/troubleshooting/RAT_NOR/project_folder/videos/clipped/03152021_NOB_IOT_8_clipped.mp4: 576x1024 1.8ms\n",
      "video 1/1 (frame 443/600) /mnt/c/troubleshooting/RAT_NOR/project_folder/videos/clipped/03152021_NOB_IOT_8_clipped.mp4: 576x1024 1.8ms\n",
      "video 1/1 (frame 444/600) /mnt/c/troubleshooting/RAT_NOR/project_folder/videos/clipped/03152021_NOB_IOT_8_clipped.mp4: 576x1024 1.8ms\n",
      "video 1/1 (frame 445/600) /mnt/c/troubleshooting/RAT_NOR/project_folder/videos/clipped/03152021_NOB_IOT_8_clipped.mp4: 576x1024 1.8ms\n",
      "video 1/1 (frame 446/600) /mnt/c/troubleshooting/RAT_NOR/project_folder/videos/clipped/03152021_NOB_IOT_8_clipped.mp4: 576x1024 1.8ms\n",
      "video 1/1 (frame 447/600) /mnt/c/troubleshooting/RAT_NOR/project_folder/videos/clipped/03152021_NOB_IOT_8_clipped.mp4: 576x1024 1.8ms\n",
      "video 1/1 (frame 448/600) /mnt/c/troubleshooting/RAT_NOR/project_folder/videos/clipped/03152021_NOB_IOT_8_clipped.mp4: 576x1024 1.8ms\n",
      "video 1/1 (frame 449/600) /mnt/c/troubleshooting/RAT_NOR/project_folder/videos/clipped/03152021_NOB_IOT_8_clipped.mp4: 576x1024 1.7ms\n",
      "video 1/1 (frame 450/600) /mnt/c/troubleshooting/RAT_NOR/project_folder/videos/clipped/03152021_NOB_IOT_8_clipped.mp4: 576x1024 1.7ms\n",
      "video 1/1 (frame 451/600) /mnt/c/troubleshooting/RAT_NOR/project_folder/videos/clipped/03152021_NOB_IOT_8_clipped.mp4: 576x1024 1.7ms\n",
      "video 1/1 (frame 452/600) /mnt/c/troubleshooting/RAT_NOR/project_folder/videos/clipped/03152021_NOB_IOT_8_clipped.mp4: 576x1024 1.7ms\n",
      "video 1/1 (frame 453/600) /mnt/c/troubleshooting/RAT_NOR/project_folder/videos/clipped/03152021_NOB_IOT_8_clipped.mp4: 576x1024 1.7ms\n",
      "video 1/1 (frame 454/600) /mnt/c/troubleshooting/RAT_NOR/project_folder/videos/clipped/03152021_NOB_IOT_8_clipped.mp4: 576x1024 1.7ms\n",
      "video 1/1 (frame 455/600) /mnt/c/troubleshooting/RAT_NOR/project_folder/videos/clipped/03152021_NOB_IOT_8_clipped.mp4: 576x1024 1.7ms\n",
      "video 1/1 (frame 456/600) /mnt/c/troubleshooting/RAT_NOR/project_folder/videos/clipped/03152021_NOB_IOT_8_clipped.mp4: 576x1024 1.7ms\n",
      "video 1/1 (frame 457/600) /mnt/c/troubleshooting/RAT_NOR/project_folder/videos/clipped/03152021_NOB_IOT_8_clipped.mp4: 576x1024 1.7ms\n",
      "video 1/1 (frame 458/600) /mnt/c/troubleshooting/RAT_NOR/project_folder/videos/clipped/03152021_NOB_IOT_8_clipped.mp4: 576x1024 1.7ms\n",
      "video 1/1 (frame 459/600) /mnt/c/troubleshooting/RAT_NOR/project_folder/videos/clipped/03152021_NOB_IOT_8_clipped.mp4: 576x1024 1.7ms\n",
      "video 1/1 (frame 460/600) /mnt/c/troubleshooting/RAT_NOR/project_folder/videos/clipped/03152021_NOB_IOT_8_clipped.mp4: 576x1024 1.7ms\n",
      "video 1/1 (frame 461/600) /mnt/c/troubleshooting/RAT_NOR/project_folder/videos/clipped/03152021_NOB_IOT_8_clipped.mp4: 576x1024 1.7ms\n",
      "video 1/1 (frame 462/600) /mnt/c/troubleshooting/RAT_NOR/project_folder/videos/clipped/03152021_NOB_IOT_8_clipped.mp4: 576x1024 1.7ms\n",
      "video 1/1 (frame 463/600) /mnt/c/troubleshooting/RAT_NOR/project_folder/videos/clipped/03152021_NOB_IOT_8_clipped.mp4: 576x1024 1.7ms\n",
      "video 1/1 (frame 464/600) /mnt/c/troubleshooting/RAT_NOR/project_folder/videos/clipped/03152021_NOB_IOT_8_clipped.mp4: 576x1024 1.7ms\n",
      "video 1/1 (frame 465/600) /mnt/c/troubleshooting/RAT_NOR/project_folder/videos/clipped/03152021_NOB_IOT_8_clipped.mp4: 576x1024 1.7ms\n",
      "video 1/1 (frame 466/600) /mnt/c/troubleshooting/RAT_NOR/project_folder/videos/clipped/03152021_NOB_IOT_8_clipped.mp4: 576x1024 1.7ms\n",
      "video 1/1 (frame 467/600) /mnt/c/troubleshooting/RAT_NOR/project_folder/videos/clipped/03152021_NOB_IOT_8_clipped.mp4: 576x1024 1.7ms\n",
      "video 1/1 (frame 468/600) /mnt/c/troubleshooting/RAT_NOR/project_folder/videos/clipped/03152021_NOB_IOT_8_clipped.mp4: 576x1024 1.7ms\n",
      "video 1/1 (frame 469/600) /mnt/c/troubleshooting/RAT_NOR/project_folder/videos/clipped/03152021_NOB_IOT_8_clipped.mp4: 576x1024 1.7ms\n",
      "video 1/1 (frame 470/600) /mnt/c/troubleshooting/RAT_NOR/project_folder/videos/clipped/03152021_NOB_IOT_8_clipped.mp4: 576x1024 1.7ms\n",
      "video 1/1 (frame 471/600) /mnt/c/troubleshooting/RAT_NOR/project_folder/videos/clipped/03152021_NOB_IOT_8_clipped.mp4: 576x1024 1.7ms\n",
      "video 1/1 (frame 472/600) /mnt/c/troubleshooting/RAT_NOR/project_folder/videos/clipped/03152021_NOB_IOT_8_clipped.mp4: 576x1024 1.7ms\n",
      "video 1/1 (frame 473/600) /mnt/c/troubleshooting/RAT_NOR/project_folder/videos/clipped/03152021_NOB_IOT_8_clipped.mp4: 576x1024 1.7ms\n",
      "video 1/1 (frame 474/600) /mnt/c/troubleshooting/RAT_NOR/project_folder/videos/clipped/03152021_NOB_IOT_8_clipped.mp4: 576x1024 1.7ms\n",
      "video 1/1 (frame 475/600) /mnt/c/troubleshooting/RAT_NOR/project_folder/videos/clipped/03152021_NOB_IOT_8_clipped.mp4: 576x1024 1.7ms\n",
      "video 1/1 (frame 476/600) /mnt/c/troubleshooting/RAT_NOR/project_folder/videos/clipped/03152021_NOB_IOT_8_clipped.mp4: 576x1024 1.7ms\n",
      "video 1/1 (frame 477/600) /mnt/c/troubleshooting/RAT_NOR/project_folder/videos/clipped/03152021_NOB_IOT_8_clipped.mp4: 576x1024 1.7ms\n",
      "video 1/1 (frame 478/600) /mnt/c/troubleshooting/RAT_NOR/project_folder/videos/clipped/03152021_NOB_IOT_8_clipped.mp4: 576x1024 1.7ms\n",
      "video 1/1 (frame 479/600) /mnt/c/troubleshooting/RAT_NOR/project_folder/videos/clipped/03152021_NOB_IOT_8_clipped.mp4: 576x1024 1.7ms\n",
      "video 1/1 (frame 480/600) /mnt/c/troubleshooting/RAT_NOR/project_folder/videos/clipped/03152021_NOB_IOT_8_clipped.mp4: 576x1024 1.7ms\n",
      "video 1/1 (frame 481/600) /mnt/c/troubleshooting/RAT_NOR/project_folder/videos/clipped/03152021_NOB_IOT_8_clipped.mp4: 576x1024 1.8ms\n",
      "video 1/1 (frame 482/600) /mnt/c/troubleshooting/RAT_NOR/project_folder/videos/clipped/03152021_NOB_IOT_8_clipped.mp4: 576x1024 1.8ms\n",
      "video 1/1 (frame 483/600) /mnt/c/troubleshooting/RAT_NOR/project_folder/videos/clipped/03152021_NOB_IOT_8_clipped.mp4: 576x1024 1.8ms\n",
      "video 1/1 (frame 484/600) /mnt/c/troubleshooting/RAT_NOR/project_folder/videos/clipped/03152021_NOB_IOT_8_clipped.mp4: 576x1024 1.8ms\n",
      "video 1/1 (frame 485/600) /mnt/c/troubleshooting/RAT_NOR/project_folder/videos/clipped/03152021_NOB_IOT_8_clipped.mp4: 576x1024 1.8ms\n",
      "video 1/1 (frame 486/600) /mnt/c/troubleshooting/RAT_NOR/project_folder/videos/clipped/03152021_NOB_IOT_8_clipped.mp4: 576x1024 1.8ms\n",
      "video 1/1 (frame 487/600) /mnt/c/troubleshooting/RAT_NOR/project_folder/videos/clipped/03152021_NOB_IOT_8_clipped.mp4: 576x1024 1.8ms\n",
      "video 1/1 (frame 488/600) /mnt/c/troubleshooting/RAT_NOR/project_folder/videos/clipped/03152021_NOB_IOT_8_clipped.mp4: 576x1024 1.8ms\n",
      "video 1/1 (frame 489/600) /mnt/c/troubleshooting/RAT_NOR/project_folder/videos/clipped/03152021_NOB_IOT_8_clipped.mp4: 576x1024 1.8ms\n",
      "video 1/1 (frame 490/600) /mnt/c/troubleshooting/RAT_NOR/project_folder/videos/clipped/03152021_NOB_IOT_8_clipped.mp4: 576x1024 1.8ms\n",
      "video 1/1 (frame 491/600) /mnt/c/troubleshooting/RAT_NOR/project_folder/videos/clipped/03152021_NOB_IOT_8_clipped.mp4: 576x1024 1.8ms\n",
      "video 1/1 (frame 492/600) /mnt/c/troubleshooting/RAT_NOR/project_folder/videos/clipped/03152021_NOB_IOT_8_clipped.mp4: 576x1024 1.8ms\n",
      "video 1/1 (frame 493/600) /mnt/c/troubleshooting/RAT_NOR/project_folder/videos/clipped/03152021_NOB_IOT_8_clipped.mp4: 576x1024 1.8ms\n",
      "video 1/1 (frame 494/600) /mnt/c/troubleshooting/RAT_NOR/project_folder/videos/clipped/03152021_NOB_IOT_8_clipped.mp4: 576x1024 1.8ms\n",
      "video 1/1 (frame 495/600) /mnt/c/troubleshooting/RAT_NOR/project_folder/videos/clipped/03152021_NOB_IOT_8_clipped.mp4: 576x1024 1.8ms\n",
      "video 1/1 (frame 496/600) /mnt/c/troubleshooting/RAT_NOR/project_folder/videos/clipped/03152021_NOB_IOT_8_clipped.mp4: 576x1024 1.8ms\n",
      "video 1/1 (frame 497/600) /mnt/c/troubleshooting/RAT_NOR/project_folder/videos/clipped/03152021_NOB_IOT_8_clipped.mp4: 576x1024 1.7ms\n",
      "video 1/1 (frame 498/600) /mnt/c/troubleshooting/RAT_NOR/project_folder/videos/clipped/03152021_NOB_IOT_8_clipped.mp4: 576x1024 1.7ms\n",
      "video 1/1 (frame 499/600) /mnt/c/troubleshooting/RAT_NOR/project_folder/videos/clipped/03152021_NOB_IOT_8_clipped.mp4: 576x1024 1.7ms\n",
      "video 1/1 (frame 500/600) /mnt/c/troubleshooting/RAT_NOR/project_folder/videos/clipped/03152021_NOB_IOT_8_clipped.mp4: 576x1024 1.7ms\n",
      "video 1/1 (frame 501/600) /mnt/c/troubleshooting/RAT_NOR/project_folder/videos/clipped/03152021_NOB_IOT_8_clipped.mp4: 576x1024 1.7ms\n",
      "video 1/1 (frame 502/600) /mnt/c/troubleshooting/RAT_NOR/project_folder/videos/clipped/03152021_NOB_IOT_8_clipped.mp4: 576x1024 1.7ms\n",
      "video 1/1 (frame 503/600) /mnt/c/troubleshooting/RAT_NOR/project_folder/videos/clipped/03152021_NOB_IOT_8_clipped.mp4: 576x1024 1.7ms\n",
      "video 1/1 (frame 504/600) /mnt/c/troubleshooting/RAT_NOR/project_folder/videos/clipped/03152021_NOB_IOT_8_clipped.mp4: 576x1024 1.7ms\n",
      "video 1/1 (frame 505/600) /mnt/c/troubleshooting/RAT_NOR/project_folder/videos/clipped/03152021_NOB_IOT_8_clipped.mp4: 576x1024 1.7ms\n",
      "video 1/1 (frame 506/600) /mnt/c/troubleshooting/RAT_NOR/project_folder/videos/clipped/03152021_NOB_IOT_8_clipped.mp4: 576x1024 1.7ms\n",
      "video 1/1 (frame 507/600) /mnt/c/troubleshooting/RAT_NOR/project_folder/videos/clipped/03152021_NOB_IOT_8_clipped.mp4: 576x1024 1.7ms\n",
      "video 1/1 (frame 508/600) /mnt/c/troubleshooting/RAT_NOR/project_folder/videos/clipped/03152021_NOB_IOT_8_clipped.mp4: 576x1024 1.7ms\n",
      "video 1/1 (frame 509/600) /mnt/c/troubleshooting/RAT_NOR/project_folder/videos/clipped/03152021_NOB_IOT_8_clipped.mp4: 576x1024 1.7ms\n",
      "video 1/1 (frame 510/600) /mnt/c/troubleshooting/RAT_NOR/project_folder/videos/clipped/03152021_NOB_IOT_8_clipped.mp4: 576x1024 1.7ms\n",
      "video 1/1 (frame 511/600) /mnt/c/troubleshooting/RAT_NOR/project_folder/videos/clipped/03152021_NOB_IOT_8_clipped.mp4: 576x1024 1.7ms\n",
      "video 1/1 (frame 512/600) /mnt/c/troubleshooting/RAT_NOR/project_folder/videos/clipped/03152021_NOB_IOT_8_clipped.mp4: 576x1024 1.7ms\n",
      "video 1/1 (frame 513/600) /mnt/c/troubleshooting/RAT_NOR/project_folder/videos/clipped/03152021_NOB_IOT_8_clipped.mp4: 576x1024 1.7ms\n",
      "video 1/1 (frame 514/600) /mnt/c/troubleshooting/RAT_NOR/project_folder/videos/clipped/03152021_NOB_IOT_8_clipped.mp4: 576x1024 1.7ms\n",
      "video 1/1 (frame 515/600) /mnt/c/troubleshooting/RAT_NOR/project_folder/videos/clipped/03152021_NOB_IOT_8_clipped.mp4: 576x1024 1.7ms\n",
      "video 1/1 (frame 516/600) /mnt/c/troubleshooting/RAT_NOR/project_folder/videos/clipped/03152021_NOB_IOT_8_clipped.mp4: 576x1024 1.7ms\n",
      "video 1/1 (frame 517/600) /mnt/c/troubleshooting/RAT_NOR/project_folder/videos/clipped/03152021_NOB_IOT_8_clipped.mp4: 576x1024 1.7ms\n",
      "video 1/1 (frame 518/600) /mnt/c/troubleshooting/RAT_NOR/project_folder/videos/clipped/03152021_NOB_IOT_8_clipped.mp4: 576x1024 1.7ms\n",
      "video 1/1 (frame 519/600) /mnt/c/troubleshooting/RAT_NOR/project_folder/videos/clipped/03152021_NOB_IOT_8_clipped.mp4: 576x1024 1.7ms\n",
      "video 1/1 (frame 520/600) /mnt/c/troubleshooting/RAT_NOR/project_folder/videos/clipped/03152021_NOB_IOT_8_clipped.mp4: 576x1024 1.7ms\n",
      "video 1/1 (frame 521/600) /mnt/c/troubleshooting/RAT_NOR/project_folder/videos/clipped/03152021_NOB_IOT_8_clipped.mp4: 576x1024 1.7ms\n",
      "video 1/1 (frame 522/600) /mnt/c/troubleshooting/RAT_NOR/project_folder/videos/clipped/03152021_NOB_IOT_8_clipped.mp4: 576x1024 1.7ms\n",
      "video 1/1 (frame 523/600) /mnt/c/troubleshooting/RAT_NOR/project_folder/videos/clipped/03152021_NOB_IOT_8_clipped.mp4: 576x1024 1.7ms\n",
      "video 1/1 (frame 524/600) /mnt/c/troubleshooting/RAT_NOR/project_folder/videos/clipped/03152021_NOB_IOT_8_clipped.mp4: 576x1024 1.7ms\n",
      "video 1/1 (frame 525/600) /mnt/c/troubleshooting/RAT_NOR/project_folder/videos/clipped/03152021_NOB_IOT_8_clipped.mp4: 576x1024 1.7ms\n",
      "video 1/1 (frame 526/600) /mnt/c/troubleshooting/RAT_NOR/project_folder/videos/clipped/03152021_NOB_IOT_8_clipped.mp4: 576x1024 1.7ms\n",
      "video 1/1 (frame 527/600) /mnt/c/troubleshooting/RAT_NOR/project_folder/videos/clipped/03152021_NOB_IOT_8_clipped.mp4: 576x1024 1.7ms\n",
      "video 1/1 (frame 528/600) /mnt/c/troubleshooting/RAT_NOR/project_folder/videos/clipped/03152021_NOB_IOT_8_clipped.mp4: 576x1024 1.7ms\n",
      "video 1/1 (frame 529/600) /mnt/c/troubleshooting/RAT_NOR/project_folder/videos/clipped/03152021_NOB_IOT_8_clipped.mp4: 576x1024 1.7ms\n",
      "video 1/1 (frame 530/600) /mnt/c/troubleshooting/RAT_NOR/project_folder/videos/clipped/03152021_NOB_IOT_8_clipped.mp4: 576x1024 1.7ms\n",
      "video 1/1 (frame 531/600) /mnt/c/troubleshooting/RAT_NOR/project_folder/videos/clipped/03152021_NOB_IOT_8_clipped.mp4: 576x1024 1.7ms\n",
      "video 1/1 (frame 532/600) /mnt/c/troubleshooting/RAT_NOR/project_folder/videos/clipped/03152021_NOB_IOT_8_clipped.mp4: 576x1024 1.7ms\n",
      "video 1/1 (frame 533/600) /mnt/c/troubleshooting/RAT_NOR/project_folder/videos/clipped/03152021_NOB_IOT_8_clipped.mp4: 576x1024 1.7ms\n",
      "video 1/1 (frame 534/600) /mnt/c/troubleshooting/RAT_NOR/project_folder/videos/clipped/03152021_NOB_IOT_8_clipped.mp4: 576x1024 1.7ms\n",
      "video 1/1 (frame 535/600) /mnt/c/troubleshooting/RAT_NOR/project_folder/videos/clipped/03152021_NOB_IOT_8_clipped.mp4: 576x1024 1.7ms\n",
      "video 1/1 (frame 536/600) /mnt/c/troubleshooting/RAT_NOR/project_folder/videos/clipped/03152021_NOB_IOT_8_clipped.mp4: 576x1024 1.7ms\n",
      "video 1/1 (frame 537/600) /mnt/c/troubleshooting/RAT_NOR/project_folder/videos/clipped/03152021_NOB_IOT_8_clipped.mp4: 576x1024 1.7ms\n",
      "video 1/1 (frame 538/600) /mnt/c/troubleshooting/RAT_NOR/project_folder/videos/clipped/03152021_NOB_IOT_8_clipped.mp4: 576x1024 1.7ms\n",
      "video 1/1 (frame 539/600) /mnt/c/troubleshooting/RAT_NOR/project_folder/videos/clipped/03152021_NOB_IOT_8_clipped.mp4: 576x1024 1.7ms\n",
      "video 1/1 (frame 540/600) /mnt/c/troubleshooting/RAT_NOR/project_folder/videos/clipped/03152021_NOB_IOT_8_clipped.mp4: 576x1024 1.7ms\n",
      "video 1/1 (frame 541/600) /mnt/c/troubleshooting/RAT_NOR/project_folder/videos/clipped/03152021_NOB_IOT_8_clipped.mp4: 576x1024 1.7ms\n",
      "video 1/1 (frame 542/600) /mnt/c/troubleshooting/RAT_NOR/project_folder/videos/clipped/03152021_NOB_IOT_8_clipped.mp4: 576x1024 1.7ms\n",
      "video 1/1 (frame 543/600) /mnt/c/troubleshooting/RAT_NOR/project_folder/videos/clipped/03152021_NOB_IOT_8_clipped.mp4: 576x1024 1.7ms\n",
      "video 1/1 (frame 544/600) /mnt/c/troubleshooting/RAT_NOR/project_folder/videos/clipped/03152021_NOB_IOT_8_clipped.mp4: 576x1024 1.7ms\n",
      "video 1/1 (frame 545/600) /mnt/c/troubleshooting/RAT_NOR/project_folder/videos/clipped/03152021_NOB_IOT_8_clipped.mp4: 576x1024 2.1ms\n",
      "video 1/1 (frame 546/600) /mnt/c/troubleshooting/RAT_NOR/project_folder/videos/clipped/03152021_NOB_IOT_8_clipped.mp4: 576x1024 2.1ms\n",
      "video 1/1 (frame 547/600) /mnt/c/troubleshooting/RAT_NOR/project_folder/videos/clipped/03152021_NOB_IOT_8_clipped.mp4: 576x1024 2.1ms\n",
      "video 1/1 (frame 548/600) /mnt/c/troubleshooting/RAT_NOR/project_folder/videos/clipped/03152021_NOB_IOT_8_clipped.mp4: 576x1024 2.1ms\n",
      "video 1/1 (frame 549/600) /mnt/c/troubleshooting/RAT_NOR/project_folder/videos/clipped/03152021_NOB_IOT_8_clipped.mp4: 576x1024 2.1ms\n",
      "video 1/1 (frame 550/600) /mnt/c/troubleshooting/RAT_NOR/project_folder/videos/clipped/03152021_NOB_IOT_8_clipped.mp4: 576x1024 2.1ms\n",
      "video 1/1 (frame 551/600) /mnt/c/troubleshooting/RAT_NOR/project_folder/videos/clipped/03152021_NOB_IOT_8_clipped.mp4: 576x1024 2.1ms\n",
      "video 1/1 (frame 552/600) /mnt/c/troubleshooting/RAT_NOR/project_folder/videos/clipped/03152021_NOB_IOT_8_clipped.mp4: 576x1024 2.1ms\n",
      "video 1/1 (frame 553/600) /mnt/c/troubleshooting/RAT_NOR/project_folder/videos/clipped/03152021_NOB_IOT_8_clipped.mp4: 576x1024 2.1ms\n",
      "video 1/1 (frame 554/600) /mnt/c/troubleshooting/RAT_NOR/project_folder/videos/clipped/03152021_NOB_IOT_8_clipped.mp4: 576x1024 2.1ms\n",
      "video 1/1 (frame 555/600) /mnt/c/troubleshooting/RAT_NOR/project_folder/videos/clipped/03152021_NOB_IOT_8_clipped.mp4: 576x1024 2.1ms\n",
      "video 1/1 (frame 556/600) /mnt/c/troubleshooting/RAT_NOR/project_folder/videos/clipped/03152021_NOB_IOT_8_clipped.mp4: 576x1024 2.1ms\n",
      "video 1/1 (frame 557/600) /mnt/c/troubleshooting/RAT_NOR/project_folder/videos/clipped/03152021_NOB_IOT_8_clipped.mp4: 576x1024 2.1ms\n",
      "video 1/1 (frame 558/600) /mnt/c/troubleshooting/RAT_NOR/project_folder/videos/clipped/03152021_NOB_IOT_8_clipped.mp4: 576x1024 2.1ms\n",
      "video 1/1 (frame 559/600) /mnt/c/troubleshooting/RAT_NOR/project_folder/videos/clipped/03152021_NOB_IOT_8_clipped.mp4: 576x1024 2.1ms\n",
      "video 1/1 (frame 560/600) /mnt/c/troubleshooting/RAT_NOR/project_folder/videos/clipped/03152021_NOB_IOT_8_clipped.mp4: 576x1024 2.1ms\n",
      "video 1/1 (frame 561/600) /mnt/c/troubleshooting/RAT_NOR/project_folder/videos/clipped/03152021_NOB_IOT_8_clipped.mp4: 576x1024 2.0ms\n",
      "video 1/1 (frame 562/600) /mnt/c/troubleshooting/RAT_NOR/project_folder/videos/clipped/03152021_NOB_IOT_8_clipped.mp4: 576x1024 2.0ms\n",
      "video 1/1 (frame 563/600) /mnt/c/troubleshooting/RAT_NOR/project_folder/videos/clipped/03152021_NOB_IOT_8_clipped.mp4: 576x1024 2.0ms\n",
      "video 1/1 (frame 564/600) /mnt/c/troubleshooting/RAT_NOR/project_folder/videos/clipped/03152021_NOB_IOT_8_clipped.mp4: 576x1024 2.0ms\n",
      "video 1/1 (frame 565/600) /mnt/c/troubleshooting/RAT_NOR/project_folder/videos/clipped/03152021_NOB_IOT_8_clipped.mp4: 576x1024 2.0ms\n",
      "video 1/1 (frame 566/600) /mnt/c/troubleshooting/RAT_NOR/project_folder/videos/clipped/03152021_NOB_IOT_8_clipped.mp4: 576x1024 2.0ms\n",
      "video 1/1 (frame 567/600) /mnt/c/troubleshooting/RAT_NOR/project_folder/videos/clipped/03152021_NOB_IOT_8_clipped.mp4: 576x1024 2.0ms\n",
      "video 1/1 (frame 568/600) /mnt/c/troubleshooting/RAT_NOR/project_folder/videos/clipped/03152021_NOB_IOT_8_clipped.mp4: 576x1024 2.0ms\n",
      "video 1/1 (frame 569/600) /mnt/c/troubleshooting/RAT_NOR/project_folder/videos/clipped/03152021_NOB_IOT_8_clipped.mp4: 576x1024 2.0ms\n",
      "video 1/1 (frame 570/600) /mnt/c/troubleshooting/RAT_NOR/project_folder/videos/clipped/03152021_NOB_IOT_8_clipped.mp4: 576x1024 2.0ms\n",
      "video 1/1 (frame 571/600) /mnt/c/troubleshooting/RAT_NOR/project_folder/videos/clipped/03152021_NOB_IOT_8_clipped.mp4: 576x1024 2.0ms\n",
      "video 1/1 (frame 572/600) /mnt/c/troubleshooting/RAT_NOR/project_folder/videos/clipped/03152021_NOB_IOT_8_clipped.mp4: 576x1024 2.0ms\n",
      "video 1/1 (frame 573/600) /mnt/c/troubleshooting/RAT_NOR/project_folder/videos/clipped/03152021_NOB_IOT_8_clipped.mp4: 576x1024 2.0ms\n",
      "video 1/1 (frame 574/600) /mnt/c/troubleshooting/RAT_NOR/project_folder/videos/clipped/03152021_NOB_IOT_8_clipped.mp4: 576x1024 2.0ms\n",
      "video 1/1 (frame 575/600) /mnt/c/troubleshooting/RAT_NOR/project_folder/videos/clipped/03152021_NOB_IOT_8_clipped.mp4: 576x1024 2.0ms\n",
      "video 1/1 (frame 576/600) /mnt/c/troubleshooting/RAT_NOR/project_folder/videos/clipped/03152021_NOB_IOT_8_clipped.mp4: 576x1024 2.0ms\n",
      "video 1/1 (frame 577/600) /mnt/c/troubleshooting/RAT_NOR/project_folder/videos/clipped/03152021_NOB_IOT_8_clipped.mp4: 576x1024 2.0ms\n",
      "video 1/1 (frame 578/600) /mnt/c/troubleshooting/RAT_NOR/project_folder/videos/clipped/03152021_NOB_IOT_8_clipped.mp4: 576x1024 2.0ms\n",
      "video 1/1 (frame 579/600) /mnt/c/troubleshooting/RAT_NOR/project_folder/videos/clipped/03152021_NOB_IOT_8_clipped.mp4: 576x1024 2.0ms\n",
      "video 1/1 (frame 580/600) /mnt/c/troubleshooting/RAT_NOR/project_folder/videos/clipped/03152021_NOB_IOT_8_clipped.mp4: 576x1024 2.0ms\n",
      "video 1/1 (frame 581/600) /mnt/c/troubleshooting/RAT_NOR/project_folder/videos/clipped/03152021_NOB_IOT_8_clipped.mp4: 576x1024 2.0ms\n",
      "video 1/1 (frame 582/600) /mnt/c/troubleshooting/RAT_NOR/project_folder/videos/clipped/03152021_NOB_IOT_8_clipped.mp4: 576x1024 2.0ms\n",
      "video 1/1 (frame 583/600) /mnt/c/troubleshooting/RAT_NOR/project_folder/videos/clipped/03152021_NOB_IOT_8_clipped.mp4: 576x1024 2.0ms\n",
      "video 1/1 (frame 584/600) /mnt/c/troubleshooting/RAT_NOR/project_folder/videos/clipped/03152021_NOB_IOT_8_clipped.mp4: 576x1024 2.0ms\n",
      "video 1/1 (frame 585/600) /mnt/c/troubleshooting/RAT_NOR/project_folder/videos/clipped/03152021_NOB_IOT_8_clipped.mp4: 576x1024 2.0ms\n",
      "video 1/1 (frame 586/600) /mnt/c/troubleshooting/RAT_NOR/project_folder/videos/clipped/03152021_NOB_IOT_8_clipped.mp4: 576x1024 2.0ms\n",
      "video 1/1 (frame 587/600) /mnt/c/troubleshooting/RAT_NOR/project_folder/videos/clipped/03152021_NOB_IOT_8_clipped.mp4: 576x1024 2.0ms\n",
      "video 1/1 (frame 588/600) /mnt/c/troubleshooting/RAT_NOR/project_folder/videos/clipped/03152021_NOB_IOT_8_clipped.mp4: 576x1024 2.0ms\n",
      "video 1/1 (frame 589/600) /mnt/c/troubleshooting/RAT_NOR/project_folder/videos/clipped/03152021_NOB_IOT_8_clipped.mp4: 576x1024 2.0ms\n",
      "video 1/1 (frame 590/600) /mnt/c/troubleshooting/RAT_NOR/project_folder/videos/clipped/03152021_NOB_IOT_8_clipped.mp4: 576x1024 2.0ms\n",
      "video 1/1 (frame 591/600) /mnt/c/troubleshooting/RAT_NOR/project_folder/videos/clipped/03152021_NOB_IOT_8_clipped.mp4: 576x1024 2.0ms\n",
      "video 1/1 (frame 592/600) /mnt/c/troubleshooting/RAT_NOR/project_folder/videos/clipped/03152021_NOB_IOT_8_clipped.mp4: 576x1024 2.0ms\n",
      "video 1/1 (frame 593/600) /mnt/c/troubleshooting/RAT_NOR/project_folder/videos/clipped/03152021_NOB_IOT_8_clipped.mp4: 576x1024 5.6ms\n",
      "video 1/1 (frame 594/600) /mnt/c/troubleshooting/RAT_NOR/project_folder/videos/clipped/03152021_NOB_IOT_8_clipped.mp4: 576x1024 5.6ms\n",
      "video 1/1 (frame 595/600) /mnt/c/troubleshooting/RAT_NOR/project_folder/videos/clipped/03152021_NOB_IOT_8_clipped.mp4: 576x1024 5.6ms\n",
      "video 1/1 (frame 596/600) /mnt/c/troubleshooting/RAT_NOR/project_folder/videos/clipped/03152021_NOB_IOT_8_clipped.mp4: 576x1024 5.6ms\n",
      "video 1/1 (frame 597/600) /mnt/c/troubleshooting/RAT_NOR/project_folder/videos/clipped/03152021_NOB_IOT_8_clipped.mp4: 576x1024 5.6ms\n",
      "video 1/1 (frame 598/600) /mnt/c/troubleshooting/RAT_NOR/project_folder/videos/clipped/03152021_NOB_IOT_8_clipped.mp4: 576x1024 5.6ms\n",
      "video 1/1 (frame 599/600) /mnt/c/troubleshooting/RAT_NOR/project_folder/videos/clipped/03152021_NOB_IOT_8_clipped.mp4: 576x1024 5.6ms\n",
      "video 1/1 (frame 600/600) /mnt/c/troubleshooting/RAT_NOR/project_folder/videos/clipped/03152021_NOB_IOT_8_clipped.mp4: 576x1024 5.6ms\n",
      "Speed: 2.3ms preprocess, 2.1ms inference, 1.6ms postprocess per image at shape (16, 3, 576, 1024)\n",
      "SIMBA COMPLETE: YOLO results saved in /mnt/c/troubleshooting/yolo_results directory (elapsed time: 4.7554s) \tcomplete\n"
     ]
    }
   ],
   "source": [
    "#NEXT, WE USE THE TRAINED MODEL TO FIND THE ROIS IN A NEW VIDEO\n",
    "INFERENCE_RESULTS = \"/mnt/c/troubleshooting/yolo_results\" #DIRECTORY WHERE TO STORE THE RESULTS IN CSV FORMAT\n",
    "VIDEO_PATH = r'/mnt/c/troubleshooting/RAT_NOR/project_folder/videos/clipped/03152021_NOB_IOT_8_clipped.mp4' #PATH TO VIDEO TO ANALYZE\n",
    "BATCH = 16 # THE NUMBER OF OBSERVATIONS (IMAGES) TO ANALYZE IN EACH ITERATION\n",
    "GPU = False #IF True, THEN ANALYZE THE VIDEO FRAME ON THE GPU\n",
    "\n",
    "inference_yolo(weights_path=os.path.join(MODEL_SAVE_DIR, 'train', 'weights', 'best.pt'), video_path=VIDEO_PATH, verbose=True, save_dir=INFERENCE_RESULTS, gpu=GPU, batch_size=BATCH)"
   ]
  },
  {
   "cell_type": "code",
   "execution_count": 11,
   "id": "2efdccbe-857c-4b54-99ad-207d846b4bad",
   "metadata": {},
   "outputs": [
    {
     "data": {
      "text/html": [
       " <video width=\"600\" height=\"600\" controls> <source src=\"https://raw.githubusercontent.com/sgoldenlab/simba/master/docs/_static/img/YOLOVisualizer.webm\" type=\"video/mp4\"> </video>\n"
      ],
      "text/plain": [
       "<IPython.core.display.HTML object>"
      ]
     },
     "execution_count": 11,
     "metadata": {},
     "output_type": "execute_result"
    }
   ],
   "source": [
    "#EXPECTED RESULTS\n",
    "\n",
    "video_url = 'https://raw.githubusercontent.com/sgoldenlab/simba/master/docs/_static/img/YOLOVisualizer.webm'\n",
    "HTML(f''' <video width=\"600\" height=\"600\" controls> <source src=\"{video_url}\" type=\"video/mp4\"> </video>\n",
    "''')"
   ]
  },
  {
   "cell_type": "code",
   "execution_count": null,
   "id": "cfaeb471-276f-4451-8f17-b2170a11092a",
   "metadata": {},
   "outputs": [],
   "source": []
  }
 ],
 "metadata": {
  "kernelspec": {
   "display_name": "simba_310",
   "language": "python",
   "name": "simba_310"
  },
  "language_info": {
   "codemirror_mode": {
    "name": "ipython",
    "version": 3
   },
   "file_extension": ".py",
   "mimetype": "text/x-python",
   "name": "python",
   "nbconvert_exporter": "python",
   "pygments_lexer": "ipython3",
   "version": "3.10.15"
  }
 },
 "nbformat": 4,
 "nbformat_minor": 5
}
