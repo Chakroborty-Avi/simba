{
 "cells": [
  {
   "cell_type": "markdown",
   "id": "dea46a42",
   "metadata": {},
   "source": [
    "# Outlier correction"
   ]
  },
  {
   "cell_type": "markdown",
   "id": "e99d247f",
   "metadata": {},
   "source": [
    "We import pose-estimation data, and perform outlier correction on that pose-estimation data using heuristic rules. The application of those rules are described here:\n",
    "https://github.com/sgoldenlab/simba/blob/master/misc/Outlier_settings.pdf"
   ]
  },
  {
   "cell_type": "code",
   "execution_count": 1,
   "id": "cb913766",
   "metadata": {},
   "outputs": [],
   "source": [
    "from simba.outlier_tools.outlier_corrector_movement import OutlierCorrecterMovement\n",
    "from simba.outlier_tools.outlier_corrector_location import OutlierCorrecterLocation\n",
    "from simba.utils.cli.cli_tools import set_outlier_correction_criteria_cli\n",
    "from simba.pose_importers.dlc_importer_csv import import_dlc_csv_data"
   ]
  },
  {
   "cell_type": "code",
   "execution_count": 2,
   "id": "f7cc63fa",
   "metadata": {},
   "outputs": [],
   "source": [
    "# DEFINITIONS: HERE WE (i) DEFINE THE PATHS TO OUR DATA / SIMBA PROJECT, (ii) HOW WE SHOULD INTERPOLATE / SMOOTH OUR NEW\n",
    "# DATA, AND (III) THE ATTRIBUTES OF OUR NEW VIDEOS (FPS ETC.)\n",
    "\n",
    "## Define the path to our SimBA project config ini\n",
    "CONFIG_PATH = r\"C:\\troubleshooting\\two_black_animals_14bp\\project_folder\\project_config.ini\"\n",
    "\n",
    "## Define the path to the directory holding our new DLC CSV pose-estimation data\n",
    "DATA_DIR = r\"C:\\troubleshooting\\two_black_animals_14bp\\dlc_data\"\n",
    "\n",
    "## Define if / how you want to interpolate missing pose-estimation data,\n",
    "## and if/how you want to smooth the new pose estimation data: here we do neither.\n",
    "INTERPOLATION_SETTING = None # EXAMPLE OPTIONS: {'type': 'body-parts', 'method': 'nearest'}, {'type': 'animals', 'method': 'linear'}, {'type': 'animals', 'method': 'quadratic'}, {'type': 'body-parts', 'method': 'linear'}\n",
    "SMOOTHING_SETTING = None # EXAMPLE OPTIONS: {'time_window': 500, 'method': 'savitzky-golay'}, {'time_window': 500, 'method': 'gaussian'}\n",
    "\n",
    "## Define the fps and the pixels per millimeter of the incoming data: has to be the same for all new videos.\n",
    "## if you have varying fps / px per millimeter / resolutions, then use gui (2023/05)\n",
    "FPS = 15\n",
    "PX_PER_MM = 4.6\n",
    "RESOLUTION = (600, 400) # WIDTH X HEIGHT\n",
    "\n",
    "#Define the body-parts and critera we want to use for outlier correction. NOTE: You can also set this manually in the project_config.ini or thrugh\n",
    "# the SimBA GUI.\n",
    "AGGREGATION_METHOD = 'mean'\n",
    "BODY_PARTS = {'Animal_1': {'Movement': ['Nose_1', 'Tail_base_1'],\n",
    "                           'Location': ['Nose_1', 'Tail_base_1']},\n",
    "              'Animal_2': {'Movement': ['Nose_2', 'Tail_base_2'],\n",
    "                           'Location': ['Nose_2', 'Tail_base_2']}}\n",
    "MOVEMENT_CRITERION = 0.7\n",
    "LOCATION_CRITERION = 2.0"
   ]
  },
  {
   "cell_type": "code",
   "execution_count": 3,
   "id": "c3d8767e",
   "metadata": {},
   "outputs": [
    {
     "name": "stdout",
     "output_type": "stream",
     "text": [
      "Importing Test_1 to SimBA project...\n",
      "Pose-estimation data for video Test_1 imported to SimBA project (elapsed time: 0.0546s)...\n",
      "Importing Test_2 to SimBA project...\n",
      "Pose-estimation data for video Test_2 imported to SimBA project (elapsed time: 0.052s)...\n",
      "Importing Test_3 to SimBA project...\n",
      "Pose-estimation data for video Test_3 imported to SimBA project (elapsed time: 0.0463s)...\n",
      "Importing Test_4 to SimBA project...\n",
      "Pose-estimation data for video Test_4 imported to SimBA project (elapsed time: 0.0431s)...\n",
      "Importing Test_5 to SimBA project...\n",
      "Pose-estimation data for video Test_5 imported to SimBA project (elapsed time: 0.0482s)...\n",
      "Importing Test_6 to SimBA project...\n",
      "Pose-estimation data for video Test_6 imported to SimBA project (elapsed time: 0.0583s)...\n",
      "Importing Test_7 to SimBA project...\n",
      "Pose-estimation data for video Test_7 imported to SimBA project (elapsed time: 0.0503s)...\n",
      "Importing Test_8 to SimBA project...\n",
      "Pose-estimation data for video Test_8 imported to SimBA project (elapsed time: 0.05s)...\n",
      "Importing Test_9 to SimBA project...\n",
      "Pose-estimation data for video Test_9 imported to SimBA project (elapsed time: 0.058s)...\n",
      "SIMBA COMPLETE: Imported 9 pose estimation file(s) to directory (elapsed time: 0.4758s) \tcomplete\n"
     ]
    }
   ],
   "source": [
    "# WE RUN THE DATA IMPORTER FOR OUR DIRECTORY OF FILES\n",
    "## This imports your DLC files in the ``DATA_DIR`` according to the smoothing / interpolation settings defined above\n",
    "\n",
    "import_dlc_csv_data(config_path=CONFIG_PATH,\n",
    "                    interpolation_settings=INTERPOLATION_SETTING,\n",
    "                    smoothing_settings=SMOOTHING_SETTING,\n",
    "                    data_path=DATA_DIR)"
   ]
  },
  {
   "cell_type": "code",
   "execution_count": 5,
   "id": "38306f7e",
   "metadata": {},
   "outputs": [
    {
     "name": "stdout",
     "output_type": "stream",
     "text": [
      "SIMBA COMPLETE: Outlier parameters set (elapsed time: 0.003s) \tcomplete\n"
     ]
    }
   ],
   "source": [
    "#We set the outlier criteria in the project_config.ini NOTE: You can also set this manually in the project_config.ini or thrugh\n",
    "# the SimBA GUI. If this has already been done, there is **no need** to call `set_outlier_correction_criteria_cli`.\n",
    "set_outlier_correction_criteria_cli(config_path=CONFIG_PATH,\n",
    "                                    aggregation=AGGREGATION_METHOD,\n",
    "                                    body_parts=BODY_PARTS,\n",
    "                                    movement_criterion=MOVEMENT_CRITERION,\n",
    "                                    location_criterion=LOCATION_CRITERION)"
   ]
  },
  {
   "cell_type": "code",
   "execution_count": 6,
   "id": "b60f7051",
   "metadata": {},
   "outputs": [
    {
     "name": "stdout",
     "output_type": "stream",
     "text": [
      "Processing video Test_1. Video 1/9...\n",
      "Corrected movement outliers for file Test_1 (elapsed time: 0.435s)...\n",
      "Processing video Test_2. Video 2/9...\n",
      "Corrected movement outliers for file Test_2 (elapsed time: 0.1166s)...\n",
      "Processing video Test_3. Video 3/9...\n",
      "Corrected movement outliers for file Test_3 (elapsed time: 0.1158s)...\n",
      "Processing video Test_4. Video 4/9...\n",
      "Corrected movement outliers for file Test_4 (elapsed time: 0.114s)...\n",
      "Processing video Test_5. Video 5/9...\n",
      "Corrected movement outliers for file Test_5 (elapsed time: 0.1183s)...\n",
      "Processing video Test_6. Video 6/9...\n",
      "Corrected movement outliers for file Test_6 (elapsed time: 0.1124s)...\n",
      "Processing video Test_7. Video 7/9...\n",
      "Corrected movement outliers for file Test_7 (elapsed time: 0.1151s)...\n",
      "Processing video Test_8. Video 8/9...\n",
      "Corrected movement outliers for file Test_8 (elapsed time: 0.117s)...\n",
      "Processing video Test_9. Video 9/9...\n",
      "Corrected movement outliers for file Test_9 (elapsed time: 0.1152s)...\n",
      "SIMBA COMPLETE: Log for corrected \"movement outliers\" saved in C:\\troubleshooting\\two_black_animals_14bp\\project_folder\\logs (elapsed time: 1.3693s) \tcomplete\n",
      "Processing video Test_1. Video 1/9..\n",
      "Corrected location outliers for file Test_1 (elapsed time: 0.8654s)...\n",
      "Processing video Test_2. Video 2/9..\n",
      "Corrected location outliers for file Test_2 (elapsed time: 0.877s)...\n",
      "Processing video Test_3. Video 3/9..\n",
      "Corrected location outliers for file Test_3 (elapsed time: 0.8534s)...\n",
      "Processing video Test_4. Video 4/9..\n",
      "Corrected location outliers for file Test_4 (elapsed time: 0.8611s)...\n",
      "Processing video Test_5. Video 5/9..\n",
      "Corrected location outliers for file Test_5 (elapsed time: 0.8581s)...\n",
      "Processing video Test_6. Video 6/9..\n",
      "Corrected location outliers for file Test_6 (elapsed time: 0.8512s)...\n",
      "Processing video Test_7. Video 7/9..\n",
      "Corrected location outliers for file Test_7 (elapsed time: 0.8616s)...\n",
      "Processing video Test_8. Video 8/9..\n",
      "Corrected location outliers for file Test_8 (elapsed time: 0.8641s)...\n",
      "Processing video Test_9. Video 9/9..\n",
      "Corrected location outliers for file Test_9 (elapsed time: 0.8626s)...\n",
      "SIMBA COMPLETE: Log for corrected \"location outliers\" saved in project_folder/logs (elapsed time: 7.8084s) \tcomplete\n"
     ]
    }
   ],
   "source": [
    "# Finally, we run the outlier correction (NOTE: SEE CELL BELOW FOR ALTERNATIVE WAY OF RUNNING OUTLIER CORRECTION ACROSS MULTIPLE CORES)\n",
    "_ = OutlierCorrecterMovement(config_path=CONFIG_PATH).run()\n",
    "_ = OutlierCorrecterLocation(config_path=CONFIG_PATH).run()"
   ]
  },
  {
   "cell_type": "code",
   "execution_count": 7,
   "id": "47975a2a",
   "metadata": {},
   "outputs": [
    {
     "name": "stdout",
     "output_type": "stream",
     "text": [
      "Video Test_1 complete...\n",
      "Video Test_2 complete...\n",
      "Video Test_3 complete...\n",
      "Video Test_4 complete...\n",
      "Video Test_5 complete...\n",
      "Video Test_6 complete...\n",
      "Video Test_7 complete...\n",
      "Video Test_8 complete...\n",
      "Video Test_9 complete...\n",
      "SIMBA COMPLETE: Log for corrected \"movement outliers\" saved in C:\\troubleshooting\\two_black_animals_14bp\\project_folder\\logs (elapsed time: 4.2945s) \tcomplete\n",
      "Video Test_1 complete...\n",
      "Video Test_2 complete...\n",
      "Video Test_3 complete...\n",
      "Video Test_4 complete...\n",
      "Video Test_5 complete...\n",
      "Video Test_6 complete...\n",
      "Video Test_7 complete...\n",
      "Video Test_8 complete...\n",
      "Video Test_9 complete...\n",
      "SIMBA COMPLETE: Log for corrected \"location outliers\" saved in project_folder/logs (elapsed time: 4.0219s) \tcomplete\n"
     ]
    }
   ],
   "source": [
    "# OPTIONAL: If you find that the outlier correction - as run in the immediate above cell - is slow, we could run outlier \n",
    "# correction over multiple cores. If you choose this approach, make sure you are running the latest version of SimBA.\n",
    "# You can update SimBA by running `pip install simba-uw-tf-dev --upgrade`\n",
    "\n",
    "from simba.outlier_tools.outlier_corrector_location_mp import OutlierCorrecterLocationMultiprocess\n",
    "from simba.outlier_tools.outlier_corrector_movement_mp import OutlierCorrecterMovementMultiProcess\n",
    "\n",
    "CORE_COUNT = -1 #SPECIFY HOW MANY CPU CORES YOU WANT TO USE. PASS -1 TO USE ALL AVAILABLE CORES. E.g., PASS 8 TO USE 8 CPU CORES.\n",
    "\n",
    "\n",
    "_ = OutlierCorrecterMovementMultiProcess(config_path=CONFIG_PATH, core_cnt=CORE_COUNT).run()\n",
    "_ = OutlierCorrecterLocationMultiprocess(config_path=CONFIG_PATH, core_cnt=CORE_COUNT).run()"
   ]
  },
  {
   "cell_type": "code",
   "execution_count": null,
   "id": "90d5b8a9",
   "metadata": {},
   "outputs": [],
   "source": []
  }
 ],
 "metadata": {
  "kernelspec": {
   "display_name": "simba",
   "language": "python",
   "name": "simba"
  },
  "language_info": {
   "codemirror_mode": {
    "name": "ipython",
    "version": 3
   },
   "file_extension": ".py",
   "mimetype": "text/x-python",
   "name": "python",
   "nbconvert_exporter": "python",
   "pygments_lexer": "ipython3",
   "version": "3.6.13"
  }
 },
 "nbformat": 4,
 "nbformat_minor": 5
}
