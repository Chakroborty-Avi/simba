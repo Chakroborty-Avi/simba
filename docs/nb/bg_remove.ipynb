{
 "cells": [
  {
   "cell_type": "markdown",
   "id": "3544822c-58cc-43c2-a4f2-c04fccce9048",
   "metadata": {},
   "source": [
    "# Remove video background"
   ]
  },
  {
   "cell_type": "markdown",
   "id": "b281c0ac-b6a8-4cb9-8dc7-9cb1a04a48d7",
   "metadata": {},
   "source": [
    "In this notebook, we go through a few example methods to remove the background in a video. \n",
    "\n",
    "Note, although these methods are relatively quick (examples are shown for running it on a single CPU core, multiple CPU cores, a couple of methods for running it on the GPU), you'd want to stick these methods in a loop to iterate over all the videos you probably have to get the most of it."
   ]
  },
  {
   "cell_type": "code",
   "execution_count": 1,
   "id": "ca3463fe-9748-4314-b330-57db9dd99119",
   "metadata": {},
   "outputs": [],
   "source": [
    "from ipywidgets import Video\n",
    "from IPython.display import HTML, Image\n",
    "from simba.video_processors.video_processing import create_average_frm, video_bg_subtraction, video_bg_subtraction_mp"
   ]
  },
  {
   "cell_type": "code",
   "execution_count": 2,
   "id": "901f7a6a-4c73-4c6e-9a7f-83bee0ae358c",
   "metadata": {},
   "outputs": [
    {
     "data": {
      "text/html": [
       " <video width=\"600\" height=\"600\" controls> <source src=\"https://raw.githubusercontent.com/sgoldenlab/simba/master/docs/_static/img/open_field.webm\" type=\"video/webm\"> </video>\n"
      ],
      "text/plain": [
       "<IPython.core.display.HTML object>"
      ]
     },
     "execution_count": 2,
     "metadata": {},
     "output_type": "execute_result"
    }
   ],
   "source": [
    "# BEFORE WE START, LETS TAKE A LOOK AT THE ORIGINAL VIDEO WHICH WE WILL REMOVE THE BACKGROUND FROM\n",
    "\n",
    "video_url = 'https://raw.githubusercontent.com/sgoldenlab/simba/master/docs/_static/img/open_field.webm'\n",
    "HTML(f''' <video width=\"600\" height=\"600\" controls> <source src=\"{video_url}\" type=\"video/webm\"> </video>\n",
    "''')"
   ]
  },
  {
   "cell_type": "code",
   "execution_count": 3,
   "id": "20b969c7-2b7b-4189-96e9-b13e5d07bb8e",
   "metadata": {},
   "outputs": [],
   "source": [
    "# PATH TO VIDEO WE WANT TO REMOVE BACKGROUND FROM\n",
    "VIDEO_PATH = \"/mnt/c/Users/sroni/Downloads/bg_remove_nb/open_field.mp4\"\n",
    "\n",
    "#LOCATION WHERE TO SAVE THE VIDEO WITH THE BACKGROUND REMOVED \n",
    "SAVE_PATH = \"/mnt/c/Users/sroni/Downloads/bg_remove_nb/bg_removed_ex_1.mp4\"\n",
    "\n",
    "# VALUE BETWEEN 0 AND 255. HIGHER VALUES AND MORE PIXELS WILL BE CONSIDERED BACKGROUND\n",
    "THRESHOLD = 15\n",
    "\n",
    "# SET VERBOSE TO TRUE TO GET PRINT OUTS TO FOLLOW THE PROGRESS.\n",
    "VERBOSE=False"
   ]
  },
  {
   "cell_type": "code",
   "execution_count": 4,
   "id": "01e56ea3-518a-41e8-9dad-2d727092a0b2",
   "metadata": {},
   "outputs": [],
   "source": [
    "# IN THIS FIRST EXAMPLE, WE PERFORM A VERY SIMPLE BACKGROUND REMOVAL. \n",
    "# MEANING, NOTHING FANCY, WE JUST MAKE THE BACKGROUND WHITE WHILE THE FOREGROUND (THE ANIMAL) RETAINS THE ORIGINAL COLORS.\n",
    "\n",
    "video_bg_subtraction(video_path=VIDEO_PATH, save_path=SAVE_PATH, verbose=VERBOSE, threshold=THRESHOLD, bg_color=(255, 255, 255)) # WE RUN THE BACKGROUND SUBTRACTION"
   ]
  },
  {
   "cell_type": "code",
   "execution_count": 5,
   "id": "c1567544-a42e-4da2-9ffb-6a1e9d18b507",
   "metadata": {},
   "outputs": [
    {
     "data": {
      "text/html": [
       " <video width=\"600\" height=\"600\" controls> <source src=\"https://raw.githubusercontent.com/sgoldenlab/simba/master/docs/_static/img/bg_removed_ex_1_clipped.webm\" type=\"video/webm\"> </video>\n"
      ],
      "text/plain": [
       "<IPython.core.display.HTML object>"
      ]
     },
     "execution_count": 5,
     "metadata": {},
     "output_type": "execute_result"
    }
   ],
   "source": [
    "#EXPECTED RESULTS\n",
    "video_url = 'https://raw.githubusercontent.com/sgoldenlab/simba/master/docs/_static/img/bg_removed_ex_1_clipped.webm'\n",
    "HTML(f''' <video width=\"600\" height=\"600\" controls> <source src=\"{video_url}\" type=\"video/webm\"> </video>\n",
    "''')"
   ]
  },
  {
   "cell_type": "code",
   "execution_count": 6,
   "id": "c34054e0-cfd9-46e0-8a69-5fcd0883e1df",
   "metadata": {},
   "outputs": [],
   "source": [
    "# AS SEEN AS IN THE EXAMPLE, IT'S NOT GREAT, AND WE MAY WANT TO CONSIDER MORE PIXELS TO BELOW TO THE BACKGROUND.\n",
    "# WE UP THE THRESHOLD FOR WHAT SHOULD BE CONSIDERED BACKGROUND FROM 10 TO 40\n",
    "\n",
    "#LOCATION WHERE TO SAVE THE BACKGROUND REMOVED VIDEO\n",
    "SAVE_PATH = \"/mnt/c/Users/sroni/Downloads/bg_remove_nb/bg_removed_ex_2.mp4\"\n",
    "\n",
    "# VALUE BETWEEN 0 AND 255. HIGHER VALUES AND MORE PIXELS WILL BE CONSIDERED BACKGROUND\n",
    "THRESHOLD = 40\n",
    "\n",
    "# WE RUN THE BACKGROUND SUBTRACTION\n",
    "video_bg_subtraction(video_path=VIDEO_PATH, save_path=SAVE_PATH, verbose=False, threshold=THRESHOLD, bg_color=(255, 255, 255))"
   ]
  },
  {
   "cell_type": "code",
   "execution_count": 7,
   "id": "218ce24f-89f5-4f5c-82a5-4a2ff10b7422",
   "metadata": {},
   "outputs": [
    {
     "data": {
      "text/html": [
       " <video width=\"600\" height=\"600\" controls> <source src=\"https://raw.githubusercontent.com/sgoldenlab/simba/master/docs/_static/img/bg_removed_ex_2_clipped.webm\" type=\"video/mp4\"> </video>\n"
      ],
      "text/plain": [
       "<IPython.core.display.HTML object>"
      ]
     },
     "execution_count": 7,
     "metadata": {},
     "output_type": "execute_result"
    }
   ],
   "source": [
    "#EXPECTED RESULTS\n",
    "video_url = 'https://raw.githubusercontent.com/sgoldenlab/simba/master/docs/_static/img/bg_removed_ex_2_clipped.webm'\n",
    "HTML(f''' <video width=\"600\" height=\"600\" controls> <source src=\"{video_url}\" type=\"video/mp4\"> </video>\n",
    "''')"
   ]
  },
  {
   "cell_type": "code",
   "execution_count": 8,
   "id": "8cf483bc-328b-4b0e-8e1b-889149be196b",
   "metadata": {},
   "outputs": [],
   "source": [
    "# ALTERNATIVELY, WE REMOVE THE BACKGROUND, MAKING THE BACKGROUND COLOR RED, WHILE THE FOREGROUND BLUE.\n",
    "\n",
    "#LOCATION WHERE TO SAVE THE BACKGROUND REMOVED VIDEO\n",
    "SAVE_PATH = \"/mnt/c/Users/sroni/Downloads/bg_remove_nb/bg_removed_ex_3.mp4\"\n",
    "\n",
    "# WE RUN THE BACKGROUND SUBTRACTION\n",
    "video_bg_subtraction(video_path=VIDEO_PATH, save_path=SAVE_PATH, verbose=False, threshold=THRESHOLD, bg_color=(0, 0, 255), fg_color=(255, 0, 0))"
   ]
  },
  {
   "cell_type": "code",
   "execution_count": 9,
   "id": "fca23b69-c1b3-4958-a870-9fadc6bf9d60",
   "metadata": {},
   "outputs": [
    {
     "data": {
      "text/html": [
       " <video width=\"600\" height=\"600\" controls> <source src=\"https://raw.githubusercontent.com/sgoldenlab/simba/master/docs/_static/img/bg_removed_ex_3_clipped.webm\" type=\"video/mp4\"> </video>\n"
      ],
      "text/plain": [
       "<IPython.core.display.HTML object>"
      ]
     },
     "execution_count": 9,
     "metadata": {},
     "output_type": "execute_result"
    }
   ],
   "source": [
    "#EXPECTED RESULTS\n",
    "video_url = 'https://raw.githubusercontent.com/sgoldenlab/simba/master/docs/_static/img/bg_removed_ex_3_clipped.webm'\n",
    "HTML(f''' <video width=\"600\" height=\"600\" controls> <source src=\"{video_url}\" type=\"video/mp4\"> </video>\n",
    "''')"
   ]
  },
  {
   "cell_type": "code",
   "execution_count": 10,
   "id": "280393e0-945a-4ed1-bfdc-3e83de221830",
   "metadata": {},
   "outputs": [],
   "source": [
    "# ALTERNATIVELY, WE MAY HAVE A SECOND VIDEO OF THE BACKGROUND WHICH CAN BE USED TO COMPUTE THE AVERAGE BACKGROUND TO REMOVE THE BACKGROUND.\n",
    "# THIS WORKS BEST IF WE PLAN TO REMOVE THE BACKGROUND FROM VIDEOS WHERE THE ANIMALS ARE LARGELY IMMOBILE. \n",
    "\n",
    "#LOCATION WHERE TO SAVE THE BACKGROUND REMOVED VIDEO\n",
    "SAVE_PATH = SAVE_PATH = \"/mnt/c/Users/sroni/Downloads/bg_remove_nb/bg_removed_ex_4.mp4\"\n",
    "\n",
    "#PATH TO BACKGGROUND VIDEO\n",
    "BG_VIDEO_PATH = \"/mnt/c/Users/sroni/Downloads/bg_remove_nb/MY_BACKGROUND_VIDEO.mp4\"\n",
    "\n",
    "# WE RUN THE BACKGROUND SUBTRACTION\n",
    "video_bg_subtraction(video_path=VIDEO_PATH, bg_video_path=BG_VIDEO_PATH, save_path=SAVE_PATH, verbose=False, threshold=THRESHOLD, bg_color=(0, 0, 255), fg_color=(255, 0, 0))"
   ]
  },
  {
   "cell_type": "code",
   "execution_count": 11,
   "id": "45052a48-064c-4304-bbaa-04a5e8e9a327",
   "metadata": {},
   "outputs": [],
   "source": [
    "# ALTERNATIVELY, WE MAY WANT TO COMPUTE THE AVERAGE FRAME FOR BACKGROUND SUBTRACTION FROM THE FIRST 20 SECONDS OF THE VIDEO\n",
    "# THIS WORKS BEST IF THE RECORDING HAS AN EMPTY ARENA FOR THE THE FIRST 20 SECONDS. THEN WE CAN USE THOSE 20 SECONDS TO ACURATELY CAPTURE THE BACKGROUND. \n",
    "\n",
    "#LOCATION WHERE TO SAVE THE BACKGROUND REMOVED VIDEO\n",
    "SAVE_PATH = SAVE_PATH = \"/mnt/c/Users/sroni/Downloads/bg_remove_nb/bg_removed_ex_5.mp4\"\n",
    "\n",
    "# WE RUN THE BACKGROUND SUBTRACTION\n",
    "video_bg_subtraction(video_path=VIDEO_PATH, bg_start_time='00:00:00', bg_end_time='00:00:20', save_path=SAVE_PATH, verbose=False, threshold=THRESHOLD, bg_color=(0, 0, 255), fg_color=(255, 0, 0))"
   ]
  },
  {
   "cell_type": "code",
   "execution_count": 12,
   "id": "5068e679-f203-4338-9f3c-0d4235501914",
   "metadata": {},
   "outputs": [
    {
     "name": "stdout",
     "output_type": "stream",
     "text": [
      "Frame batch 1 completed...\n",
      "Frame batch 2 completed...\n",
      "Frame batch 3 completed...\n",
      "Frame batch 4 completed...\n",
      "Frame batch 5 completed...\n",
      "Frame batch 6 completed...\n",
      "Frame batch 7 completed...\n",
      "Frame batch 8 completed...\n",
      "Frame batch 9 completed...\n",
      "Frame batch 10 completed...\n",
      "Frame batch 11 completed...\n",
      "Frame batch 12 completed...\n",
      "Frame batch 13 completed...\n",
      "Frame batch 14 completed...\n",
      "Frame batch 15 completed...\n",
      "Frame batch 16 completed...\n",
      "Frame batch 17 completed...\n",
      "Frame batch 18 completed...\n",
      "Frame batch 19 completed...\n",
      "Frame batch 20 completed...\n",
      "Frame batch 21 completed...\n",
      "Frame batch 22 completed...\n",
      "Frame batch 23 completed...\n",
      "Frame batch 24 completed...\n",
      "Frame batch 25 completed...\n",
      "Frame batch 26 completed...\n",
      "Frame batch 27 completed...\n",
      "Frame batch 28 completed...\n",
      "Frame batch 29 completed...\n",
      "Frame batch 30 completed...\n",
      "Frame batch 31 completed...\n",
      "Joining open_field multiprocessed video...\n"
     ]
    },
    {
     "name": "stderr",
     "output_type": "stream",
     "text": [
      "Input #0, concat, from '/mnt/c/Users/sroni/Downloads/bg_remove_nb/temp_open_field_20241202094237/files.txt':\n",
      "  Duration: N/A, start: 0.000000, bitrate: 805 kb/s\n",
      "  Stream #0:0(und): Video: mpeg4 (Simple Profile) (mp4v / 0x7634706D), yuv420p, 480x432 [SAR 1:1 DAR 10:9], 805 kb/s, 30 fps, 30 tbr, 15360 tbn\n",
      "    Metadata:\n",
      "      handler_name    : VideoHandler\n",
      "      vendor_id       : [0][0][0][0]\n",
      "Stream mapping:\n",
      "  Stream #0:0 -> #0:0 (mpeg4 (native) -> h264 (libx264))\n",
      "Press [q] to stop, [?] for help\n",
      "[libx264 @ 0x562e1fabd600] using SAR=1/1\n",
      "[libx264 @ 0x562e1fabd600] using cpu capabilities: MMX2 SSE2Fast SSSE3 SSE4.2 AVX FMA3 BMI2 AVX2\n",
      "[libx264 @ 0x562e1fabd600] profile High, level 3.0, 4:2:0, 8-bit\n",
      "[libx264 @ 0x562e1fabd600] 264 - core 164 r3108 31e19f9 - H.264/MPEG-4 AVC codec - Copyleft 2003-2023 - http://www.videolan.org/x264.html - options: cabac=1 ref=3 deblock=1:0:0 analyse=0x3:0x113 me=hex subme=7 psy=1 psy_rd=1.00:0.00 mixed_ref=1 me_range=16 chroma_me=1 trellis=1 8x8dct=1 cqm=0 deadzone=21,11 fast_pskip=1 chroma_qp_offset=-2 threads=13 lookahead_threads=2 sliced_threads=0 nr=0 decimate=1 interlaced=0 bluray_compat=0 constrained_intra=0 bframes=3 b_pyramid=2 b_adapt=1 b_bias=0 direct=1 weightb=1 open_gop=0 weightp=2 keyint=250 keyint_min=25 scenecut=40 intra_refresh=0 rc_lookahead=40 rc=crf mbtree=1 crf=23.0 qcomp=0.60 qpmin=0 qpmax=69 qpstep=4 ip_ratio=1.40 aq=1:1.00\n",
      "Output #0, mp4, to '/mnt/c/Users/sroni/Downloads/bg_remove_nb/bg_removed_ex_5.mp4':\n",
      "  Metadata:\n",
      "    encoder         : Lavf60.16.100\n",
      "  Stream #0:0(und): Video: h264 (avc1 / 0x31637661), yuv420p(progressive), 480x432 [SAR 1:1 DAR 10:9], q=2-31, 30 fps, 15360 tbn\n",
      "    Metadata:\n",
      "      handler_name    : VideoHandler\n",
      "      vendor_id       : [0][0][0][0]\n",
      "      encoder         : Lavc60.31.102 libx264\n",
      "    Side data:\n",
      "      cpb: bitrate max/min/avg: 0/0/0 buffer size: 0 vbv_delay: N/A\n",
      "frame= 4236 fps=2815 q=29.0 size=    1792kB time=00:02:21.13 bitrate= 104.0kbits/s speed=93.8x    \r"
     ]
    },
    {
     "name": "stdout",
     "output_type": "stream",
     "text": [
      "SIMBA COMPLETE: Video concatenated (elapsed time: 2.2029s) \tcomplete\n",
      "SIMBA COMPLETE: Video saved at /mnt/c/Users/sroni/Downloads/bg_remove_nb/bg_removed_ex_5.mp4 (elapsed time: 6.5732s) \tcomplete\n"
     ]
    },
    {
     "name": "stderr",
     "output_type": "stream",
     "text": [
      "[out#0/mp4 @ 0x562e1fa9fbc0] video:2162kB audio:0kB subtitle:0kB other streams:0kB global headers:0kB muxing overhead: 2.688034%\n",
      "frame= 4980 fps=2832 q=-1.0 Lsize=    2220kB time=00:02:45.90 bitrate= 109.6kbits/s speed=94.3x    \n",
      "[libx264 @ 0x562e1fabd600] frame I:20    Avg QP: 8.02  size:  4486\n",
      "[libx264 @ 0x562e1fabd600] frame P:1419  Avg QP:20.67  size:   666\n",
      "[libx264 @ 0x562e1fabd600] frame B:3541  Avg QP:24.82  size:   333\n",
      "[libx264 @ 0x562e1fabd600] consecutive B-frames:  2.5%  5.3%  8.0% 84.2%\n",
      "[libx264 @ 0x562e1fabd600] mb I  I16..4: 92.1%  0.7%  7.1%\n",
      "[libx264 @ 0x562e1fabd600] mb P  I16..4:  0.2%  0.4%  0.3%  P16..4:  2.0%  0.8%  0.6%  0.0%  0.0%    skip:95.6%\n",
      "[libx264 @ 0x562e1fabd600] mb B  I16..4:  0.1%  0.1%  0.0%  B16..8:  2.3%  0.7%  0.4%  direct: 0.2%  skip:96.3%  L0:52.7% L1:42.5% BI: 4.9%\n",
      "[libx264 @ 0x562e1fabd600] 8x8 transform intra:23.8% inter:1.6%\n",
      "[libx264 @ 0x562e1fabd600] coded y,uvDC,uvAC intra: 8.8% 22.9% 20.6% inter: 0.7% 1.1% 1.0%\n",
      "[libx264 @ 0x562e1fabd600] i16 v,h,dc,p: 89%  6%  5%  0%\n",
      "[libx264 @ 0x562e1fabd600] i8 v,h,dc,ddl,ddr,vr,hd,vl,hu:  7%  7% 85%  0%  0%  0%  0%  0%  0%\n",
      "[libx264 @ 0x562e1fabd600] i4 v,h,dc,ddl,ddr,vr,hd,vl,hu: 21% 14% 50%  3%  2%  3%  2%  3%  2%\n",
      "[libx264 @ 0x562e1fabd600] i8c dc,h,v,p: 72% 12% 15%  1%\n",
      "[libx264 @ 0x562e1fabd600] Weighted P-Frames: Y:0.0% UV:0.0%\n",
      "[libx264 @ 0x562e1fabd600] ref P L0: 69.4%  3.9% 16.5% 10.2%\n",
      "[libx264 @ 0x562e1fabd600] ref B L0: 73.9% 21.3%  4.8%\n",
      "[libx264 @ 0x562e1fabd600] ref B L1: 93.3%  6.7%\n",
      "[libx264 @ 0x562e1fabd600] kb/s:106.66\n"
     ]
    }
   ],
   "source": [
    "# ALTERNATIVELY, WE CAN PERFORM BACKGROUND SUBTRACTION BUT USING MULTI-CORE PROCESSING (USING THE 31 CORES i HAVE AVAILABLE IN THE EXAMPLE BELOW).\n",
    "# CAN BE QUICKER IF THE VIDEO(S) ARE LONG, YOU HAVE MANY OF VIDEOS, AND/OR YOU HAVE PLENTY OF CPU CORES\n",
    "\n",
    "video_bg_subtraction_mp(video_path=VIDEO_PATH, save_path=SAVE_PATH, verbose=False, bg_color=(255, 255, 255), fg_color=(0, 0, 255), core_cnt=31)"
   ]
  },
  {
   "cell_type": "code",
   "execution_count": 21,
   "id": "d8e0c984-d560-4870-a667-992bf3689ec4",
   "metadata": {},
   "outputs": [],
   "source": [
    "# INSTEAD OF A SINGLE CPU CORE, OR MULTIPLE CPU CORES, WE USE THE GPU TO PERFORM BACKGROUND SUBTRACTION.\n",
    "# THIS CAN BE FASTER IF YOUR VIDEO(S) ARE LONG, YOU HAVE MANY OF VIDEOS,BUT NOT TOO MANY CPU CORES.\n",
    "\n",
    "#TO GET THIS TO WORK, WE FIRST MANUALLY HAVE TO COMPUTE THE \"AVERAGE\" FRAME IN THE VIDEO. \n",
    "#THIS AVERAGE FRAME CAN BE CREATED USING THE CPU...\n",
    "\n",
    "from simba.data_processors.cuda.image import bg_subtraction_cuda, bg_subtraction_cupy\n",
    "avg_frm = create_average_frm(video_path=VIDEO_PATH)"
   ]
  },
  {
   "cell_type": "code",
   "execution_count": 14,
   "id": "23040a3d-23ba-45f2-b777-006ca50b7c34",
   "metadata": {},
   "outputs": [
    {
     "data": {
      "text/html": [
       "<img src=\"https://raw.githubusercontent.com/sgoldenlab/simba/master/docs/_static/img/bg_avg_frm.webp\"/>"
      ],
      "text/plain": [
       "<IPython.core.display.Image object>"
      ]
     },
     "execution_count": 14,
     "metadata": {},
     "output_type": "execute_result"
    }
   ],
   "source": [
    "# LETS TAKE A LOOK AT THE BACKGROUND TO SEE WHAT WAS COMPUTED\n",
    "Image(url= 'https://raw.githubusercontent.com/sgoldenlab/simba/master/docs/_static/img/bg_avg_frm.webp')"
   ]
  },
  {
   "cell_type": "code",
   "execution_count": 15,
   "id": "39c75ad5-8d48-4e82-93de-548d66a15eef",
   "metadata": {},
   "outputs": [],
   "source": [
    "#... OR SHOULD YOU PREFER, WE CAN US THE GPU TO COMPUTE THE AVERAGE FRAME\n",
    "from simba.data_processors.cuda.image import create_average_frm_cuda, create_average_frm_cupy, create_average_frm_cupy\n",
    "\n",
    "# THE AVERAGE FRAME CAN BE COMPUTED ON THE GPU USING NUMBA CUDA...\n",
    "avg_frm = create_average_frm_cuda(video_path=VIDEO_PATH)"
   ]
  },
  {
   "cell_type": "code",
   "execution_count": 16,
   "id": "be499521-ca59-405b-bd42-01ec73c2ce20",
   "metadata": {},
   "outputs": [],
   "source": [
    "# ... OR, ALTERNATIVELY, WE CAN COMPUTE THE AVERAGE BACKGROUND USING THE GPU AND CUPY\n",
    "avg_frm = create_average_frm_cupy(video_path=VIDEO_PATH)"
   ]
  },
  {
   "cell_type": "code",
   "execution_count": 17,
   "id": "209f6047-dcd5-4b01-83fc-f7927e07c03a",
   "metadata": {},
   "outputs": [
    {
     "name": "stdout",
     "output_type": "stream",
     "text": [
      "Processing frame batch 1 / 10 (complete: 0.0%)\n"
     ]
    },
    {
     "name": "stderr",
     "output_type": "stream",
     "text": [
      "/home/simon/miniconda3/envs/simba_310/lib/python3.10/site-packages/numba/cuda/cudadrv/devicearray.py:886: NumbaPerformanceWarning: Host array used in CUDA kernel will incur copy overhead to/from device.\n",
      "  warn(NumbaPerformanceWarning(msg))\n"
     ]
    },
    {
     "name": "stdout",
     "output_type": "stream",
     "text": [
      "Processing frame batch 2 / 10 (complete: 10.0%)\n"
     ]
    },
    {
     "name": "stderr",
     "output_type": "stream",
     "text": [
      "/home/simon/miniconda3/envs/simba_310/lib/python3.10/site-packages/numba/cuda/cudadrv/devicearray.py:886: NumbaPerformanceWarning: Host array used in CUDA kernel will incur copy overhead to/from device.\n",
      "  warn(NumbaPerformanceWarning(msg))\n"
     ]
    },
    {
     "name": "stdout",
     "output_type": "stream",
     "text": [
      "Processing frame batch 3 / 10 (complete: 20.0%)\n"
     ]
    },
    {
     "name": "stderr",
     "output_type": "stream",
     "text": [
      "/home/simon/miniconda3/envs/simba_310/lib/python3.10/site-packages/numba/cuda/cudadrv/devicearray.py:886: NumbaPerformanceWarning: Host array used in CUDA kernel will incur copy overhead to/from device.\n",
      "  warn(NumbaPerformanceWarning(msg))\n"
     ]
    },
    {
     "name": "stdout",
     "output_type": "stream",
     "text": [
      "Processing frame batch 4 / 10 (complete: 30.0%)\n"
     ]
    },
    {
     "name": "stderr",
     "output_type": "stream",
     "text": [
      "/home/simon/miniconda3/envs/simba_310/lib/python3.10/site-packages/numba/cuda/cudadrv/devicearray.py:886: NumbaPerformanceWarning: Host array used in CUDA kernel will incur copy overhead to/from device.\n",
      "  warn(NumbaPerformanceWarning(msg))\n"
     ]
    },
    {
     "name": "stdout",
     "output_type": "stream",
     "text": [
      "Processing frame batch 5 / 10 (complete: 40.0%)\n"
     ]
    },
    {
     "name": "stderr",
     "output_type": "stream",
     "text": [
      "/home/simon/miniconda3/envs/simba_310/lib/python3.10/site-packages/numba/cuda/cudadrv/devicearray.py:886: NumbaPerformanceWarning: Host array used in CUDA kernel will incur copy overhead to/from device.\n",
      "  warn(NumbaPerformanceWarning(msg))\n"
     ]
    },
    {
     "name": "stdout",
     "output_type": "stream",
     "text": [
      "Processing frame batch 6 / 10 (complete: 50.0%)\n"
     ]
    },
    {
     "name": "stderr",
     "output_type": "stream",
     "text": [
      "/home/simon/miniconda3/envs/simba_310/lib/python3.10/site-packages/numba/cuda/cudadrv/devicearray.py:886: NumbaPerformanceWarning: Host array used in CUDA kernel will incur copy overhead to/from device.\n",
      "  warn(NumbaPerformanceWarning(msg))\n"
     ]
    },
    {
     "name": "stdout",
     "output_type": "stream",
     "text": [
      "Processing frame batch 7 / 10 (complete: 60.0%)\n"
     ]
    },
    {
     "name": "stderr",
     "output_type": "stream",
     "text": [
      "/home/simon/miniconda3/envs/simba_310/lib/python3.10/site-packages/numba/cuda/cudadrv/devicearray.py:886: NumbaPerformanceWarning: Host array used in CUDA kernel will incur copy overhead to/from device.\n",
      "  warn(NumbaPerformanceWarning(msg))\n"
     ]
    },
    {
     "name": "stdout",
     "output_type": "stream",
     "text": [
      "Processing frame batch 8 / 10 (complete: 70.0%)\n"
     ]
    },
    {
     "name": "stderr",
     "output_type": "stream",
     "text": [
      "/home/simon/miniconda3/envs/simba_310/lib/python3.10/site-packages/numba/cuda/cudadrv/devicearray.py:886: NumbaPerformanceWarning: Host array used in CUDA kernel will incur copy overhead to/from device.\n",
      "  warn(NumbaPerformanceWarning(msg))\n"
     ]
    },
    {
     "name": "stdout",
     "output_type": "stream",
     "text": [
      "Processing frame batch 9 / 10 (complete: 80.0%)\n"
     ]
    },
    {
     "name": "stderr",
     "output_type": "stream",
     "text": [
      "/home/simon/miniconda3/envs/simba_310/lib/python3.10/site-packages/numba/cuda/cudadrv/devicearray.py:886: NumbaPerformanceWarning: Host array used in CUDA kernel will incur copy overhead to/from device.\n",
      "  warn(NumbaPerformanceWarning(msg))\n"
     ]
    },
    {
     "name": "stdout",
     "output_type": "stream",
     "text": [
      "Processing frame batch 10 / 10 (complete: 90.0%)\n"
     ]
    },
    {
     "name": "stderr",
     "output_type": "stream",
     "text": [
      "/home/simon/miniconda3/envs/simba_310/lib/python3.10/site-packages/numba/cuda/cudadrv/devicearray.py:886: NumbaPerformanceWarning: Host array used in CUDA kernel will incur copy overhead to/from device.\n",
      "  warn(NumbaPerformanceWarning(msg))\n"
     ]
    },
    {
     "name": "stdout",
     "output_type": "stream",
     "text": [
      "SIMBA COMPLETE: Video saved at /mnt/c/Users/sroni/Downloads/bg_remove_nb/bg_removed_ex_6.mp4 (elapsed time: 25.0268s) \tcomplete\n"
     ]
    }
   ],
   "source": [
    "# ONCE WE GOT THE AVERAGE FRAME, WE REMOVE THE BACKGROUND FROM THE VIDEO USING THE AVERAGE FRAME ON THE GPU AND NUMBA CUDA\n",
    "SAVE_PATH = SAVE_PATH = \"/mnt/c/Users/sroni/Downloads/bg_remove_nb/bg_removed_ex_6.mp4\"\n",
    "\n",
    "BATCH_SIZE = 500 # HOW MANY IMAGES WE SEND TO THE GPU SEQUENTIALLY. INCREASE THIS VALUE IF YOUR GPU ALLOWS IT.\n",
    "\n",
    "#AGAIN, THIS OPERATION CAN BE PERFORMED USING NUMBA CUDA\n",
    "bg_subtraction_cuda(video_path=VIDEO_PATH, avg_frm=avg_frm, fg_clr=(255, 0, 255), bg_clr=(186, 142, 35), save_path=SAVE_PATH, threshold=THRESHOLD, batch_size=BATCH_SIZE)"
   ]
  },
  {
   "cell_type": "code",
   "execution_count": 18,
   "id": "a0f0d203-0e8b-4db2-961e-ee46686f13ce",
   "metadata": {},
   "outputs": [
    {
     "data": {
      "text/html": [
       " <video width=\"600\" height=\"600\" controls> <source src=\"https://raw.githubusercontent.com/sgoldenlab/simba/master/docs/_static/img/bg_removed_ex_6_clipped.webm\" type=\"video/mp4\"> </video>\n"
      ],
      "text/plain": [
       "<IPython.core.display.HTML object>"
      ]
     },
     "execution_count": 18,
     "metadata": {},
     "output_type": "execute_result"
    }
   ],
   "source": [
    "#EXPECTED RESULTS\n",
    "video_url = 'https://raw.githubusercontent.com/sgoldenlab/simba/master/docs/_static/img/bg_removed_ex_6_clipped.webm'\n",
    "HTML(f''' <video width=\"600\" height=\"600\" controls> <source src=\"{video_url}\" type=\"video/mp4\"> </video>\n",
    "''')"
   ]
  },
  {
   "cell_type": "code",
   "execution_count": 23,
   "id": "6490e8dd-e85e-4220-a9a8-34dcd8b8948f",
   "metadata": {},
   "outputs": [
    {
     "name": "stdout",
     "output_type": "stream",
     "text": [
      "Processing frame batch 1 / 10 (complete: 0.0%)\n",
      "Processing frame batch 2 / 10 (complete: 10.0%)\n",
      "Processing frame batch 3 / 10 (complete: 20.0%)\n",
      "Processing frame batch 4 / 10 (complete: 30.0%)\n",
      "Processing frame batch 5 / 10 (complete: 40.0%)\n",
      "Processing frame batch 6 / 10 (complete: 50.0%)\n",
      "Processing frame batch 7 / 10 (complete: 60.0%)\n",
      "Processing frame batch 8 / 10 (complete: 70.0%)\n",
      "Processing frame batch 9 / 10 (complete: 80.0%)\n",
      "Processing frame batch 10 / 10 (complete: 90.0%)\n",
      "SIMBA COMPLETE: Video saved at /mnt/c/Users/sroni/Downloads/bg_remove_nb/bg_removed_ex_7.mp4 (elapsed time: 11.3978s) \tcomplete\n"
     ]
    }
   ],
   "source": [
    "# OR, ALTERNATIVELY, WE CREATE THE BACKGROUND IMAGE USING THE GPU AND THE CUPY LIBRARY.\n",
    "SAVE_PATH = SAVE_PATH = \"/mnt/c/Users/sroni/Downloads/bg_remove_nb/bg_removed_ex_7.mp4\"\n",
    "bg_subtraction_cupy(video_path=VIDEO_PATH, avg_frm=avg_frm, fg_clr=(0, 0, 255), bg_clr=(139, 128, 0), save_path=SAVE_PATH)"
   ]
  },
  {
   "cell_type": "code",
   "execution_count": 24,
   "id": "bd422c1e-ed94-44d3-9343-e2f5d9b984bf",
   "metadata": {},
   "outputs": [
    {
     "data": {
      "text/html": [
       " <video width=\"600\" height=\"600\" controls> <source src=\"https://raw.githubusercontent.com/sgoldenlab/simba/master/docs/_static/img/bg_removed_ex_7_clipped.webm\" type=\"video/mp4\"> </video>\n"
      ],
      "text/plain": [
       "<IPython.core.display.HTML object>"
      ]
     },
     "execution_count": 24,
     "metadata": {},
     "output_type": "execute_result"
    }
   ],
   "source": [
    "#EXPECTED RESULTS\n",
    "video_url = 'https://raw.githubusercontent.com/sgoldenlab/simba/master/docs/_static/img/bg_removed_ex_7_clipped.webm'\n",
    "HTML(f''' <video width=\"600\" height=\"600\" controls> <source src=\"{video_url}\" type=\"video/mp4\"> </video>\n",
    "''')"
   ]
  },
  {
   "cell_type": "code",
   "execution_count": null,
   "id": "90e734d1-a359-4036-b88c-f1c650c45b46",
   "metadata": {},
   "outputs": [],
   "source": []
  }
 ],
 "metadata": {
  "kernelspec": {
   "display_name": "simba_310",
   "language": "python",
   "name": "simba_310"
  },
  "language_info": {
   "codemirror_mode": {
    "name": "ipython",
    "version": 3
   },
   "file_extension": ".py",
   "mimetype": "text/x-python",
   "name": "python",
   "nbconvert_exporter": "python",
   "pygments_lexer": "ipython3",
   "version": "3.10.15"
  }
 },
 "nbformat": 4,
 "nbformat_minor": 5
}
