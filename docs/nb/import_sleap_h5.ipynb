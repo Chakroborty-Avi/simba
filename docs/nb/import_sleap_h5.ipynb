{
 "cells": [
  {
   "cell_type": "markdown",
   "id": "15d9a8e9",
   "metadata": {},
   "source": [
    "#### Import SLEAP H5 files \n",
    "\n"
   ]
  },
  {
   "cell_type": "code",
   "execution_count": null,
   "id": "d05d067c",
   "metadata": {},
   "outputs": [],
   "source": [
    "Importing a directory of .SLP files into a SimBA project. The .SLP files has been created by joining several .SLP files.\n",
    "\n",
    "> NOTE I: Use simba-uw-tf-dev version >=1.70.5\n",
    "\n",
    "> NOTE II: The .SLP files has to have been joined in the same order. E.g., all .SLP files has to have been left joined on `Dam`. There should not be some files which has been left joined on `Nest`, and some on `Dam`. "
   ]
  },
  {
   "cell_type": "code",
   "execution_count": null,
   "id": "e92fbb4d",
   "metadata": {},
   "outputs": [],
   "source": [
    "import os\n",
    "from simba.mixins.config_reader import ConfigReader\n",
    "from simba.utils.read_write import find_files_of_filetypes_in_directory, write_df\n",
    "from simba.utils.data import slp_to_df_convert"
   ]
  },
  {
   "cell_type": "code",
   "execution_count": null,
   "id": "f8113369",
   "metadata": {},
   "outputs": [],
   "source": [
    "# DEFINE THE DIRECTORY CONTAINING YOUR SLEAP DATA IN H5 FORMAT AND THE PATH TO YOUR SIMBA PROJECT CONFIG\n",
    "DATA_DIR = '/Users/simon/Desktop/envs/troubleshooting/sleap_dam_roi/data'\n",
    "CONFIG_PATH = '/Users/simon/Desktop/envs/troubleshooting/sleap_dam_roi/project_folder/project_config.ini'"
   ]
  },
  {
   "cell_type": "code",
   "execution_count": null,
   "id": "2e74729b",
   "metadata": {},
   "outputs": [],
   "source": [
    "#SPECIFY SMOOTHING AND INTERPOLATION SETTINGS\n",
    "interpolation_method = 'Body-parts: Nearest' # Set to \"None\" if interpolation should be skipped\n",
    "smoothing_method = {'Method': 'Savitzky Golay', 'Parameters': {'Time_window': '200'}}"
   ]
  },
  {
   "cell_type": "code",
   "execution_count": null,
   "id": "be4b0bf9",
   "metadata": {},
   "outputs": [],
   "source": [
    "# READ IN THE SIMBA PROJECT CONFIG AND FIND THE H5 PATHS INSIDE THE DATA_DIR\n",
    "config = ConfigReader(config_path=CONFIG_PATH, read_video_info=False)\n",
    "data_files = find_files_of_filetypes_in_directory(directory=DATA_DIR, extensions=['.h5'], raise_error=True)"
   ]
  },
  {
   "cell_type": "markdown",
   "id": "caeb8999",
   "metadata": {},
   "source": [
    "FOR EVERY H5 FILE FOUND IN THE DATA_DIR, WE (i) CONVERT IT TO A DATAFRAME AND APPEND THE HEADERS AS DEFINED IN THE SIMBA PROJECT, AND (ii) SAVE THE DATAFRAME IN THE SIMBA PROJECT `project_folder/csv/input_csv` directory.\n",
    "\n",
    "> Note: We pass `joined_tracks=True` to ``slp_to_df_convert`` to specify that the .SLP files has been created by joining several .SLP files."
   ]
  },
  {
   "cell_type": "code",
   "execution_count": null,
   "id": "2709383d",
   "metadata": {},
   "outputs": [],
   "source": [
    "for file_path in data_files:\n",
    "    _, video_name, _ = get_fn_ext(filepath=file_path)\n",
    "    print(f'Importing {video_name}...')\n",
    "    df = slp_to_df_convert(file_path=file_path, headers=config.bp_col_names, joined_tracks=True)\n",
    "    save_path = os.path.join(config.input_csv_dir, f'{video_name}.csv')\n",
    "    write_df(df=df, file_type='csv', save_path=save_path, multi_idx_header=True)\n",
    "\n",
    "    #Run interpolation if `interpolation_method` is not None\n",
    "    if interpolation_method != 'None':\n",
    "        Interpolate(input_path=save_path,\n",
    "                    config_path=CONFIG_PATH,\n",
    "                    method=interpolation_method,\n",
    "                    initial_import_multi_index=True)\n",
    "\n",
    "    # Run smoothing if `smoothing_method['Method']` is not None\n",
    "    if smoothing_method['Method'] != 'None':\n",
    "        Smooth(config_path=CONFIG_PATH,\n",
    "               input_path=save_path,\n",
    "               time_window=int(smoothing_method['Parameters']['Time_window']),\n",
    "               smoothing_method=smoothing_method['Method'],\n",
    "               initial_import_multi_index=True)\n",
    "\n",
    "    print(f'Complete: {video_name}...')"
   ]
  }
 ],
 "metadata": {
  "kernelspec": {
   "display_name": "simba_dev",
   "language": "python",
   "name": "simba_dev"
  },
  "language_info": {
   "codemirror_mode": {
    "name": "ipython",
    "version": 3
   },
   "file_extension": ".py",
   "mimetype": "text/x-python",
   "name": "python",
   "nbconvert_exporter": "python",
   "pygments_lexer": "ipython3",
   "version": "3.6.13"
  }
 },
 "nbformat": 4,
 "nbformat_minor": 5
}
