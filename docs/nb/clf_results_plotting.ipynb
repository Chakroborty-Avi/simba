{
 "cells": [
  {
   "cell_type": "markdown",
   "id": "9045d3ab",
   "metadata": {},
   "source": [
    "# Classification results "
   ]
  },
  {
   "cell_type": "markdown",
   "id": "4f1e3628",
   "metadata": {},
   "source": [
    "Plot classification results overlays on videos. Results are stored in the `project_folder/frames/output/sklearn_results` directory of the SimBA project."
   ]
  },
  {
   "cell_type": "code",
   "execution_count": 1,
   "id": "68fa570c",
   "metadata": {},
   "outputs": [
    {
     "name": "stderr",
     "output_type": "stream",
     "text": [
      "/Users/simon/opt/anaconda3/envs/Python_3.6/lib/python3.6/site-packages/sklearn/utils/deprecation.py:144: FutureWarning: The sklearn.metrics.classification module is  deprecated in version 0.22 and will be removed in version 0.24. The corresponding classes / functions should instead be imported from sklearn.metrics. Anything that cannot be imported from sklearn.metrics is now part of the private API.\n",
      "  warnings.warn(message, FutureWarning)\n"
     ]
    }
   ],
   "source": [
    "from simba.plotting.plot_clf_results_mp import PlotSklearnResultsMultiProcess"
   ]
  },
  {
   "cell_type": "code",
   "execution_count": 2,
   "id": "3acbde00",
   "metadata": {},
   "outputs": [],
   "source": [
    "# DEFINITIONS\n",
    "CONFIG_PATH = '/Users/simon/Desktop/envs/troubleshooting/two_black_animals_14bp/project_folder/project_config.ini'\n",
    "VIDEO_SETTING = True # If True, mp4 videos\n",
    "FRAME_SETTING = False # If True, creates individual .png images.\n",
    "VIDEO_PATH = '/Users/simon/Desktop/envs/troubleshooting/two_black_animals_14bp/project_folder/videos/Together_1.avi' #If None, all videos represented in project_folder/csv/machine_results will be created\n",
    "SHOW_TIMERS = True #If False, then show no classification time aggregate overlays\n",
    "ROTATE = False #If true, rotates video 90 degrees.\n",
    "TEXT_ATTRIBUTES = False #If dict, then user-defined font, spacing and circle sizes etc. If False, then autocompute.\n",
    "CORES = 5"
   ]
  },
  {
   "cell_type": "code",
   "execution_count": 3,
   "id": "9e3f0b04",
   "metadata": {},
   "outputs": [
    {
     "name": "stdout",
     "output_type": "stream",
     "text": [
      "Processing 1 video...\n",
      "Image 348/1738, Video 1/1...\n",
      "Image 696/1738, Video 1/1...\n",
      "Image 1044/1738, Video 1/1...\n",
      "Image 1392/1738, Video 1/1...\n",
      "Image 1740/1738, Video 1/1...\n",
      "Joining Together_1 multiprocessed video...\n",
      "SIMBA COMPLETE: Video concatenated (elapsed time: 9.1994s) \tcomplete\n",
      "Video Together_1 complete (elapsed time: 24.8047s)...\n",
      "SIMBA COMPLETE: 1 videos saved in project_folder/frames/output/sklearn_results directory (elapsed time: 24.9345s) \tcomplete\n"
     ]
    }
   ],
   "source": [
    "plotter = PlotSklearnResultsMultiProcess(config_path=CONFIG_PATH,\n",
    "                                       video_setting=VIDEO_SETTING,\n",
    "                                       frame_setting=FRAME_SETTING,\n",
    "                                       video_file_path=VIDEO_PATH,\n",
    "                                       print_timers=SHOW_TIMERS,\n",
    "                                       rotate=ROTATE,\n",
    "                                       text_settings=TEXT_ATTRIBUTES,\n",
    "                                        cores=CORES)\n",
    "\n",
    "plotter.run()"
   ]
  },
  {
   "cell_type": "code",
   "execution_count": null,
   "id": "dc75f105",
   "metadata": {},
   "outputs": [],
   "source": []
  }
 ],
 "metadata": {
  "kernelspec": {
   "display_name": "Python [conda env:Python_3.6]",
   "language": "python",
   "name": "conda-env-Python_3.6-py"
  },
  "language_info": {
   "codemirror_mode": {
    "name": "ipython",
    "version": 3
   },
   "file_extension": ".py",
   "mimetype": "text/x-python",
   "name": "python",
   "nbconvert_exporter": "python",
   "pygments_lexer": "ipython3",
   "version": "3.6.13"
  }
 },
 "nbformat": 4,
 "nbformat_minor": 5
}
