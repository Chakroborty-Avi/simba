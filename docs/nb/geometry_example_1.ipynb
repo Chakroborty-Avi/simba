{
 "cells": [
  {
   "cell_type": "markdown",
   "id": "49b7fc38",
   "metadata": {},
   "source": [
    "# GEOMETRY MIXINS EXAMPLE I"
   ]
  },
  {
   "cell_type": "markdown",
   "id": "36ee4fa3",
   "metadata": {},
   "source": [
    "#### HERE WE DIVIDE THE EXPERIMENTAL ARENA INTO GEOMETRIES, AND COMPUTE AND VISUALIZE THE TIME THAT THE ANIMAL SPENDS IN THE DIFFERENT ARENA GEOMETRIES"
   ]
  },
  {
   "cell_type": "code",
   "execution_count": null,
   "id": "b43964d0",
   "metadata": {},
   "outputs": [],
   "source": [
    "import numpy as np\n",
    "import os\n",
    "import cv2\n",
    "from simba.mixins.geometry_mixin import GeometryMixin\n",
    "from simba.mixins.config_reader import ConfigReader\n",
    "from simba.utils.read_write import read_df, read_frm_of_video\n",
    "from simba.mixins.plotting_mixin import PlottingMixin\n",
    "import matplotlib.pyplot as plt\n",
    "import matplotlib \n",
    "dpi = matplotlib.rcParams['figure.dpi']"
   ]
  },
  {
   "cell_type": "code",
   "execution_count": null,
   "id": "e6094bf8",
   "metadata": {},
   "outputs": [],
   "source": [
    "# DEFINE PROJECT AND VIDEO NAME\n",
    "PROJECT_PATH = r'/Users/simon/Desktop/envs/troubleshooting/Rat_NOR/project_folder/project_config.ini'\n",
    "VIDEO_NAME = '2022-06-20_NOB_DOT_4'\n",
    "BP = 'Nose' # THE BODY-PART WE WILL USE TO INFER POSITION OF ANIMAL"
   ]
  },
  {
   "cell_type": "code",
   "execution_count": null,
   "id": "ca82b7b8",
   "metadata": {},
   "outputs": [],
   "source": [
    "# READ IN THE DATA, VIDEO SIZE, FPS, AND PIXEL CONVERSION FACTOR.\n",
    "config = ConfigReader(config_path=PROJECT_PATH, create_logger=False)\n",
    "video_info, px_per_mm, fps = config.read_video_info(video_name=VIDEO_NAME)\n",
    "width, height = int(video_info['Resolution_width'].values[0]), int(video_info['Resolution_height'].values[0])\n",
    "bp = [f'{BP}_x', f'{BP}_y']\n",
    "data_path = os.path.join(config.outlier_corrected_dir, VIDEO_NAME + f'.{config.file_type}')\n",
    "data = read_df(file_path=data_path, usecols=bp, file_type=config.file_type)"
   ]
  },
  {
   "cell_type": "code",
   "execution_count": null,
   "id": "6c07d2f5",
   "metadata": {},
   "outputs": [],
   "source": [
    "# WE CREATE A SQUARE GEOMETRY GRID WHICH IS 5 BY 5 LARGE TO COVER THE EXPERIMENTAL ARENA\n",
    "GRID_SIZE = (5, 5) # THE SIXE OF THE GRID WE WILL CREATE\n",
    "grid, aspect_ratio = GeometryMixin().bucket_img_into_grid_square(img_size=(width, height), bucket_grid_size=GRID_SIZE, px_per_mm=px_per_mm)"
   ]
  },
  {
   "cell_type": "code",
   "execution_count": null,
   "id": "7564ca4b",
   "metadata": {},
   "outputs": [],
   "source": [
    "# WE VISUALIZE THE GRID AS A SANITY CHECK \n",
    "video_path = r'/Users/simon/Desktop/envs/troubleshooting/Rat_NOR/project_folder/videos/2022-06-20_NOB_DOT_4.mp4'\n",
    "video_frm = read_frm_of_video(video_path=video_path, frame_index=0, opacity=30)\n",
    "img = GeometryMixin().view_shapes(shapes=list(grid.values()), bg_img=video_frm)\n",
    "height, width, depth = img.shape\n",
    "figsize = width / float(dpi), height / float(dpi)\n",
    "\n",
    "plt.figure(figsize=figsize)\n",
    "plt.axis('off')\n",
    "plt.imshow(img)\n",
    "plt.show()"
   ]
  },
  {
   "cell_type": "code",
   "execution_count": null,
   "id": "66eee6ae",
   "metadata": {},
   "outputs": [],
   "source": [
    "# ALTERNATIVE: IF YOU PREFER HEXAGONAL GRID, USE simba.mixins.geometry_mixins.GeometryMixin.bucket_img_into_grid_hexagon()\n",
    "hex_grid, aspect_ratio = GeometryMixin().bucket_img_into_grid_hexagon(img_size=(width, height), bucket_size_mm=20, px_per_mm=px_per_mm)\n",
    "video_frm = read_frm_of_video(video_path=video_path, frame_index=0, opacity=30)\n",
    "img = GeometryMixin().view_shapes(shapes=list(hex_grid.values()), bg_img=video_frm)\n",
    "\n",
    "plt.figure(figsize=figsize)\n",
    "plt.axis('off')\n",
    "plt.imshow(img)\n",
    "plt.show()"
   ]
  },
  {
   "cell_type": "code",
   "execution_count": null,
   "id": "1e108af7",
   "metadata": {},
   "outputs": [],
   "source": [
    "# ALTERNATIVE: IF YOU PREFER TRIANGULATES GRID, USE simba.mixins.geometry_mixins.GeometryMixin.delaunay_triangulate_keypoints()\n",
    "grid_points = GeometryMixin().bucket_img_into_grid_points(point_distance=100, px_per_mm=px_per_mm, img_size=(width, height), border_sites= False)\n",
    "grid_point_locations = np.full((len(list(grid_points.keys()), ), 2), np.nan)\n",
    "for cnt, (k, v) in enumerate(grid_points.items()): grid_point_locations[cnt] = np.array(v)\n",
    "delaunay_grid = GeometryMixin().delaunay_triangulate_keypoints(data=grid_point_locations)\n",
    "\n",
    "video_frm = read_frm_of_video(video_path=video_path, frame_index=0, opacity=10)\n",
    "img = GeometryMixin().view_shapes(shapes=delaunay_grid, bg_img=video_frm)\n",
    "\n",
    "plt.figure(figsize=figsize)\n",
    "plt.axis('off')\n",
    "plt.imshow(img)\n",
    "plt.show()"
   ]
  },
  {
   "cell_type": "code",
   "execution_count": null,
   "id": "bc64abd6",
   "metadata": {},
   "outputs": [],
   "source": [
    "# WE CALCULATE THE CUMULATIVE TIME THE ANIMAL SPENDS IN EACH GEOMETRY\n",
    "time_data = GeometryMixin().cumsum_coord_geometries(data=data.values, geometries=grid, fps=fps, verbose=False)"
   ]
  },
  {
   "cell_type": "code",
   "execution_count": null,
   "id": "9ff5eab2",
   "metadata": {},
   "outputs": [],
   "source": [
    "#THIS RETURNS A 3D ARRAY, WHERE THE LAST 2D ARRAY CORRESPONDS WITH THE CUMULATIVE TIME THE ANIMAL HAS SPENT IN\n",
    "#EACH GEOMETRY AT THE END OF THE VIDEO.\n",
    "\n",
    "#EACH 2D ARRAY REPRESENTS THE CUMULATIVE TIME THE ANIMAL HAS SPENT IN EACH GEOMETRY UP UNTIL AND INCLUDING THAT FRMAE,\n",
    "#AND THE ARRAY WILL BE LEN(VIDEO FRAMES) X VERTICAL SHAPES X HORIXONTAL SHAPES. \n",
    "time_data[-1]"
   ]
  },
  {
   "cell_type": "code",
   "execution_count": null,
   "id": "425df6f8",
   "metadata": {},
   "outputs": [],
   "source": [
    "#TO PLOT A HEATMAP REPRESENTING THE GRID LOCATIONS OF THE ANIMAL IN THE VIDEO, USE \n",
    "# simba.mixins.plotting_mixin.PlottingMixin.make_location_heatmap_plot()\n",
    "\n",
    "img = PlottingMixin().make_location_heatmap_plot(frm_data=time_data[-1],\n",
    "                                                 max_scale=np.max(time_data[-1]),\n",
    "                                                 palette='jet',\n",
    "                                                 shading='gouraud',\n",
    "                                                 img_size=(width, height),\n",
    "                                                 aspect_ratio=aspect_ratio)\n",
    "\n",
    "img = cv2.cvtColor(img, cv2.COLOR_BGR2RGB)\n",
    "\n",
    "height, width, depth = img.shape\n",
    "figsize = width / float(dpi), height / float(dpi)\n",
    "\n",
    "plt.figure(figsize=figsize)\n",
    "plt.axis('off')\n",
    "plt.imshow(img)\n",
    "plt.show()"
   ]
  },
  {
   "cell_type": "code",
   "execution_count": null,
   "id": "9021306f",
   "metadata": {},
   "outputs": [],
   "source": [
    "# ALTERNATIVE EXAMPLE USING FLAT AND MAGMA SETTINGS\n",
    "img = PlottingMixin().make_location_heatmap_plot(frm_data=time_data[-1],\n",
    "                                                 max_scale=np.max(time_data[-1]),\n",
    "                                                 palette='magma',\n",
    "                                                 shading='flat',\n",
    "                                                 img_size=(width, height),\n",
    "                                                 aspect_ratio=aspect_ratio)\n",
    "\n",
    "img = cv2.cvtColor(img, cv2.COLOR_BGR2RGB)\n",
    "\n",
    "height, width, depth = img.shape\n",
    "figsize = width / float(dpi), height / float(dpi)\n",
    "\n",
    "plt.figure(figsize=figsize)\n",
    "plt.axis('off')\n",
    "plt.imshow(img)\n",
    "plt.show()"
   ]
  },
  {
   "cell_type": "code",
   "execution_count": null,
   "id": "7b895458",
   "metadata": {},
   "outputs": [],
   "source": []
  },
  {
   "cell_type": "code",
   "execution_count": null,
   "id": "75c02e18",
   "metadata": {},
   "outputs": [],
   "source": []
  }
 ],
 "metadata": {
  "kernelspec": {
   "display_name": "Python [conda env:simba_dev] *",
   "language": "python",
   "name": "conda-env-simba_dev-py"
  },
  "language_info": {
   "codemirror_mode": {
    "name": "ipython",
    "version": 3
   },
   "file_extension": ".py",
   "mimetype": "text/x-python",
   "name": "python",
   "nbconvert_exporter": "python",
   "pygments_lexer": "ipython3",
   "version": "3.6.13"
  }
 },
 "nbformat": 4,
 "nbformat_minor": 5
}
