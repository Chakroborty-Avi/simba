{
 "cells": [
  {
   "cell_type": "markdown",
   "id": "f44e6829",
   "metadata": {},
   "source": [
    "# ROI feature visualization"
   ]
  },
  {
   "cell_type": "markdown",
   "id": "dff07b96",
   "metadata": {},
   "source": [
    "Visualize features that depend on the relationships between the location of the animals and user-defined\n",
    "ROIs. E.g., distances to centroids of ROIs, cumulative time spent in ROIs, if animals are directing towards ROIs\n",
    "etc."
   ]
  },
  {
   "cell_type": "code",
   "execution_count": 3,
   "id": "38830e25",
   "metadata": {},
   "outputs": [],
   "source": [
    "from simba.plotting.ROI_feature_visualizer_mp import ROIfeatureVisualizerMultiprocess"
   ]
  },
  {
   "cell_type": "code",
   "execution_count": 4,
   "id": "9432ce24",
   "metadata": {},
   "outputs": [],
   "source": [
    "#DEFINITIONS\n",
    "STYLE_ATTIBUTES = {'ROI_centers': True,                  # SHOW THE CENTROID OF THE ROIs AS A CIRCLE\n",
    "                   'ROI_ear_tags': True,                 # SHOW THE EAR TAGS OF THE ROIs as CIRCLES\n",
    "                   'Directionality': True,               # IF VIABLE, SHOW DIRECTIONALITY TOWARDS ROIs\n",
    "                   'Directionality_style': 'Funnel',     # LINE OR FUNNEL\n",
    "                   'Border_color': (0, 128, 0),          # COLOR OF THE SIDE-BAR\n",
    "                   'Pose_estimation': True}              # SHOW POSE-ESTIMATED LOCATIONS\n",
    "CONFIG_PATH = '/Users/simon/Desktop/envs/simba_dev/tests/test_data/mouse_open_field/project_folder/project_config.ini',\n",
    "VIDEO_NAME = 'Video1.mp4'\n",
    "CORES = 5"
   ]
  },
  {
   "cell_type": "code",
   "execution_count": 7,
   "id": "fdfd9cb7",
   "metadata": {},
   "outputs": [
    {
     "name": "stdout",
     "output_type": "stream",
     "text": [
      "Directionality calculations are VIABLE.\n",
      "Processing 1 videos for ROI features...\n",
      "Analysing ROI data for video Video1...\n",
      "Analysing ROI data for video Video1...\n",
      "Creating ROI feature images, multiprocessing (determined chunksize: 1, cores: 5)...\n",
      "Image 900/4500, Video Video1...\n",
      "Image 1800/4500, Video Video1...\n",
      "Image 2700/4500, Video Video1...\n",
      "Image 3600/4500, Video Video1...\n",
      "Image 4500/4500, Video Video1...\n",
      "Joining Video1 multiprocessed video...\n",
      "SIMBA COMPLETE: Video concatenated (elapsed time: 181.3886s) \tcomplete\n",
      "SIMBA COMPLETE: Video Video1 complete. Video saved in project_folder/frames/output/ROI_features. (elapsed time: 235.6267s) \tcomplete\n"
     ]
    }
   ],
   "source": [
    "roi_feature_visualizer = ROIfeatureVisualizerMultiprocess(config_path=CONFIG_PATH,\n",
    "                                                          video_name=VIDEO_NAME,\n",
    "                                                          style_attr=STYLE_ATTIBUTES,\n",
    "                                                          core_cnt=CORES)\n",
    "roi_feature_visualizer.run()"
   ]
  },
  {
   "cell_type": "code",
   "execution_count": null,
   "id": "3750cf31",
   "metadata": {},
   "outputs": [],
   "source": []
  }
 ],
 "metadata": {
  "kernelspec": {
   "display_name": "Python [conda env:simba_dev] *",
   "language": "python",
   "name": "conda-env-simba_dev-py"
  },
  "language_info": {
   "codemirror_mode": {
    "name": "ipython",
    "version": 3
   },
   "file_extension": ".py",
   "mimetype": "text/x-python",
   "name": "python",
   "nbconvert_exporter": "python",
   "pygments_lexer": "ipython3",
   "version": "3.6.13"
  }
 },
 "nbformat": 4,
 "nbformat_minor": 5
}
