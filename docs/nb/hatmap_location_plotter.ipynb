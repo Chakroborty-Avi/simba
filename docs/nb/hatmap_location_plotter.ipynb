{
 "cells": [
  {
   "cell_type": "markdown",
   "id": "7085e0bd",
   "metadata": {},
   "source": [
    "# Location heatmap plots"
   ]
  },
  {
   "cell_type": "markdown",
   "id": "b4979773",
   "metadata": {},
   "source": [
    "Create heatmaps representing the locations of animal body-part. Uses multiprocessing.\n",
    "[Example expected output](https://www.youtube.com/watch?v=O41x96kXUHE)"
   ]
  },
  {
   "cell_type": "code",
   "execution_count": 3,
   "id": "bf709363",
   "metadata": {},
   "outputs": [],
   "source": [
    "from simba.plotting.heat_mapper_location_mp import HeatMapperLocationMultiprocess"
   ]
  },
  {
   "cell_type": "code",
   "execution_count": 4,
   "id": "2c999c5e",
   "metadata": {},
   "outputs": [],
   "source": [
    "# DEFINITIONS\n",
    "\n",
    "CONFIG_PATH = '/Users/simon/Desktop/envs/troubleshooting/locomotion/project_folder/project_config.ini'\n",
    "FRAME_SETTING = False\n",
    "VIDEO_SETTING = True\n",
    "FINAL_FRAME_SETTING = True\n",
    "BODY_PART = 'Nose'\n",
    "CORES = 5\n",
    "STYLE_ATTRIBUTES = {'palette': 'jet', \n",
    "                    'shading': 'gouraud', \n",
    "                    'bin_size': 50, \n",
    "                    'max_scale': 'auto'}\n",
    "DATA_FILES = ['/Users/simon/Desktop/envs/troubleshooting/locomotion/project_folder/csv/outlier_corrected_movement_location/PD1406_2022-05-24_RVDG_GCaMP8s-Gi_Video_Day_22_Baseline.csv']"
   ]
  },
  {
   "cell_type": "code",
   "execution_count": 6,
   "id": "e5eb8322",
   "metadata": {},
   "outputs": [
    {
     "name": "stdout",
     "output_type": "stream",
     "text": [
      "Processing 1 video(s)...\n",
      "SIMBA COMPLETE: Final location heatmap image saved at at /Users/simon/Desktop/envs/troubleshooting/locomotion/project_folder/frames/output/heatmaps_locations/PD1406_2022-05-24_RVDG_GCaMP8s-Gi_Video_Day_22_Baseline_final_frm.png \tcomplete\n",
      "Image 8943/44713, Video 1/1...\n",
      "Image 17886/44713, Video 1/1...\n",
      "Image 26829/44713, Video 1/1...\n",
      "Image 35772/44713, Video 1/1...\n",
      "Image 44715/44713, Video 1/1...\n",
      "Joining PD1406_2022-05-24_RVDG_GCaMP8s-Gi_Video_Day_22_Baseline multiprocessed heatmap location video...\n",
      "SIMBA COMPLETE: Video concatenated (elapsed time: 99.711s) \tcomplete\n",
      "Heatmap video PD1406_2022-05-24_RVDG_GCaMP8s-Gi_Video_Day_22_Baseline complete (elapsed time: 1722.0803s) ...\n",
      "SIMBA COMPLETE: Heatmap location videos visualizations for 1 videos created in project_folder/frames/output/heatmaps_locations directory (elapsed time: 1722.0986s) \tcomplete\n"
     ]
    }
   ],
   "source": [
    "plotter = HeatMapperLocationMultiprocess(config_path=CONFIG_PATH,\n",
    "                                         style_attr = STYLE_ATTRIBUTES,\n",
    "                                         final_img_setting=FINAL_FRAME_SETTING,\n",
    "                                         video_setting=VIDEO_SETTING,\n",
    "                                         frame_setting=FRAME_SETTING,\n",
    "                                         bodypart=BODY_PART,\n",
    "                                         core_cnt=CORES,\n",
    "                                         files_found=DATA_FILES)\n",
    "plotter.run()"
   ]
  },
  {
   "cell_type": "code",
   "execution_count": null,
   "id": "a68cdccd",
   "metadata": {},
   "outputs": [],
   "source": []
  }
 ],
 "metadata": {
  "kernelspec": {
   "display_name": "Python [conda env:Python_3.6]",
   "language": "python",
   "name": "conda-env-Python_3.6-py"
  },
  "language_info": {
   "codemirror_mode": {
    "name": "ipython",
    "version": 3
   },
   "file_extension": ".py",
   "mimetype": "text/x-python",
   "name": "python",
   "nbconvert_exporter": "python",
   "pygments_lexer": "ipython3",
   "version": "3.6.13"
  }
 },
 "nbformat": 4,
 "nbformat_minor": 5
}
