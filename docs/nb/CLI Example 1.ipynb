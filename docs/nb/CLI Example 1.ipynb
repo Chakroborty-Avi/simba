{
 "cells": [
  {
   "cell_type": "markdown",
   "id": "5dc6c510",
   "metadata": {},
   "source": [
    "### Example 1: Import / Analyze"
   ]
  },
  {
   "cell_type": "code",
   "execution_count": null,
   "id": "0c40bc1f",
   "metadata": {},
   "outputs": [],
   "source": [
    "import simba\n",
    "from simba.pose_importers.dlc_importer_csv import import_multiple_dlc_tracking_csv_file\n",
    "from simba.outlier_tools.skip_outlier_correction import OutlierCorrectionSkipper\n",
    "from simba.utils.cli.cli_tools import feature_extraction_runner, set_video_parameters\n",
    "from simba.model.inference_batch import InferenceBatch\n",
    "from simba.data_processors.agg_clf_calculator import AggregateClfCalculator\n",
    "from simba.data_processors.movement_calculator import MovementCalculator"
   ]
  },
  {
   "cell_type": "code",
   "execution_count": 2,
   "id": "88fa2c03",
   "metadata": {},
   "outputs": [],
   "source": [
    "# DEFINITIONS: HERE WE (i) DEFINE THE PATHS TO OUR DATA / SIMBA PROJECT, (ii) HOW WE SHOULD INTERPOLATE / SMOOTH OUR NEW \n",
    "# DATA, AND (III) THE ATTRIBUTES OF OUR NEW VIDEOS (FPS ETC.)\n",
    "\n",
    "## Define the path to our SimBA project config ini\n",
    "CONFIG_PATH = '/Users/simon/Desktop/envs/troubleshooting/notebook_example/project_folder/project_config.ini'\n",
    "\n",
    "## Define the path to the directory holding our new DLC CSV pose-estimation data \n",
    "DATA_DIR = '/Users/simon/Desktop/envs/troubleshooting/notebook_example/data'\n",
    "\n",
    "## Define if / how you want to interpolate missing pose-estimation data,\n",
    "## and if/how you want to smooth the new pose estimation data: here we do neither.\n",
    "INTERPOLATION_SETTING = 'None' # OPTIONS: 'None', Animal(s): Nearest', 'Animal(s): Linear', 'Animal(s): Quadratic','Body-parts: Nearest', 'Body-parts: Linear', 'Body-parts: Quadratic'\n",
    "SMOOTHING_SETTING = None # OPTIONS: 'Gaussian', 'Savitzky Golay'\n",
    "SMOOTHING_TIME = None # TIME IN MILLISECOND\n",
    "\n",
    "## Define the fps and the pixels per millimeter of the incoming data: has to be the same for all new videos.\n",
    "## if you have varying fps / px per millimeter / resolutions, then use gui (2023/05)\n",
    "FPS = 15\n",
    "PX_PER_MM = 4.6\n",
    "RESOLUTION = (600, 400) # WIDTH X HEIGHT"
   ]
  },
  {
   "cell_type": "code",
   "execution_count": 4,
   "id": "dac170ab",
   "metadata": {},
   "outputs": [
    {
     "name": "stdout",
     "output_type": "stream",
     "text": [
      "Importing Aqu_FFJ_Cre_721 to SimBA project...\n",
      "Pose-estimation data for video Aqu_FFJ_Cre_721 imported to SimBA project (elapsed time: 0.229s)...\n",
      "Importing Aqu_FFJ_Cre_723 to SimBA project...\n",
      "Pose-estimation data for video Aqu_FFJ_Cre_723 imported to SimBA project (elapsed time: 0.1929s)...\n",
      "Importing Aqu_FFJ_Cre_722 to SimBA project...\n",
      "Pose-estimation data for video Aqu_FFJ_Cre_722 imported to SimBA project (elapsed time: 0.1863s)...\n",
      "SIMBA COMPLETE: Imported 3 pose estimation file(s) (elapsed time: 0.6142s) \tcomplete\n"
     ]
    }
   ],
   "source": [
    "# WE RUN THE DATA IMPORTER FOR OUR DIRECTORY OF FILES\n",
    "## This imports your DLC files in the ``DATA_DIR`` according to the smoothing / interpolation settings defined above\n",
    "import_multiple_dlc_tracking_csv_file(config_path=CONFIG_PATH,\n",
    "                                        interpolation_setting=INTERPOLATION_SETTING,\n",
    "                                        smoothing_setting=SMOOTHING_SETTING,\n",
    "                                        smoothing_time=SMOOTHING_TIME,\n",
    "                                        data_dir=DATA_DIR)"
   ]
  },
  {
   "cell_type": "code",
   "execution_count": 5,
   "id": "db8ae1a4",
   "metadata": {},
   "outputs": [
    {
     "name": "stdout",
     "output_type": "stream",
     "text": [
      "Processing 3 file(s)...\n",
      "Skipped outlier correction for video Aqu_FFJ_Cre_721 (elapsed time 0.2819s)...\n",
      "Skipped outlier correction for video Aqu_FFJ_Cre_723 (elapsed time 0.1648s)...\n",
      "Skipped outlier correction for video Aqu_FFJ_Cre_722 (elapsed time 0.1685s)...\n",
      "SIMBA COMPLETE: Skipped outlier correction for 3 files (elapsed time: 0.6463s) \tcomplete\n"
     ]
    }
   ],
   "source": [
    "# RUN OUTLIER CORRECTION. HERE, WE SPECIFY THAT WE WANT TO SKIP OUTLIER CORRECTION.  \n",
    "OutlierCorrectionSkipper(config_path=CONFIG_PATH).run()"
   ]
  },
  {
   "cell_type": "code",
   "execution_count": 6,
   "id": "d2735a59",
   "metadata": {},
   "outputs": [
    {
     "name": "stdout",
     "output_type": "stream",
     "text": [
      "SIMBA COMPLETE: Video parameters set (elapsed time: 0.0123s) \tcomplete\n"
     ]
    }
   ],
   "source": [
    "# SET THE VIDEO PARAMETERS FOR THE NEW VIDEOS. \n",
    "## This command inserts your new videos in the ``project_folder/logs/video_info.csv`` according to your video attributes specified above.\n",
    "set_video_parameters(config_path=CONFIG_PATH, px_per_mm=PX_PER_MM, fps=FPS, resolution=RESOLUTION)"
   ]
  },
  {
   "cell_type": "code",
   "execution_count": 7,
   "id": "20e272a8",
   "metadata": {},
   "outputs": [
    {
     "name": "stdout",
     "output_type": "stream",
     "text": [
      "Pose-estimation body part setting for feature extraction: 1 animals 1 body-parts\n",
      "Extracting features from 3 file(s)...\n",
      "Processing Aqu_FFJ_Cre_721 (5401 frames)...\n",
      "Calculating hull variables...\n",
      "Calculating rolling windows: medians, medians, and sums...\n",
      "Calculating angles...\n",
      "Calculating deviations...\n",
      "Calculating percentile ranks...\n",
      "Calculating path tortuosities...\n",
      "Calculating pose probability scores...\n",
      "Feature extraction complete for Aqu_FFJ_Cre_721 (1/3 (elapsed time: 3.0827s)...\n",
      "Processing Aqu_FFJ_Cre_723 (5401 frames)...\n",
      "Calculating hull variables...\n",
      "Calculating rolling windows: medians, medians, and sums...\n",
      "Calculating angles...\n",
      "Calculating deviations...\n",
      "Calculating percentile ranks...\n",
      "Calculating path tortuosities...\n",
      "Calculating pose probability scores...\n",
      "Feature extraction complete for Aqu_FFJ_Cre_723 (2/3 (elapsed time: 1.7199s)...\n",
      "Processing Aqu_FFJ_Cre_722 (5401 frames)...\n",
      "Calculating hull variables...\n",
      "Calculating rolling windows: medians, medians, and sums...\n",
      "Calculating angles...\n",
      "Calculating deviations...\n",
      "Calculating percentile ranks...\n",
      "Calculating path tortuosities...\n",
      "Calculating pose probability scores...\n",
      "Feature extraction complete for Aqu_FFJ_Cre_722 (3/3 (elapsed time: 1.6774s)...\n",
      "SIMBA COMPLETE: All features extracted. Results stored in project_folder/csv/features_extracted directory (elapsed time: 6.4975s) \tcomplete\n"
     ]
    }
   ],
   "source": [
    "# COMPUTE FEATURES\n",
    "# Here we run feature extraction for all the files found in the ``project_folder/csv/outlier_corrected_movement_location`` directory.\n",
    "feature_extraction_runner(config_path=CONFIG_PATH)"
   ]
  },
  {
   "cell_type": "code",
   "execution_count": 8,
   "id": "54a34739",
   "metadata": {},
   "outputs": [
    {
     "name": "stdout",
     "output_type": "stream",
     "text": [
      "Analyzing 3 file(s) with 3 classifier(s)\n",
      "Analyzing video Aqu_FFJ_Cre_721...\n"
     ]
    },
    {
     "name": "stderr",
     "output_type": "stream",
     "text": [
      "[Parallel(n_jobs=8)]: Using backend ThreadingBackend with 8 concurrent workers.\n",
      "[Parallel(n_jobs=8)]: Done  34 tasks      | elapsed:    0.0s\n",
      "[Parallel(n_jobs=8)]: Done 184 tasks      | elapsed:    0.1s\n",
      "[Parallel(n_jobs=8)]: Done 434 tasks      | elapsed:    0.1s\n",
      "[Parallel(n_jobs=8)]: Done 784 tasks      | elapsed:    0.2s\n",
      "[Parallel(n_jobs=8)]: Done 1234 tasks      | elapsed:    0.3s\n",
      "[Parallel(n_jobs=8)]: Done 1784 tasks      | elapsed:    0.5s\n",
      "[Parallel(n_jobs=8)]: Done 2000 out of 2000 | elapsed:    0.5s finished\n",
      "[Parallel(n_jobs=8)]: Using backend ThreadingBackend with 8 concurrent workers.\n",
      "[Parallel(n_jobs=8)]: Done  34 tasks      | elapsed:    0.0s\n",
      "[Parallel(n_jobs=8)]: Done 184 tasks      | elapsed:    0.0s\n",
      "[Parallel(n_jobs=8)]: Done 434 tasks      | elapsed:    0.1s\n",
      "[Parallel(n_jobs=8)]: Done 784 tasks      | elapsed:    0.2s\n",
      "[Parallel(n_jobs=8)]: Done 1234 tasks      | elapsed:    0.3s\n",
      "[Parallel(n_jobs=8)]: Done 1784 tasks      | elapsed:    0.5s\n",
      "[Parallel(n_jobs=8)]: Done 2000 out of 2000 | elapsed:    0.5s finished\n",
      "[Parallel(n_jobs=8)]: Using backend ThreadingBackend with 8 concurrent workers.\n",
      "[Parallel(n_jobs=8)]: Done  34 tasks      | elapsed:    0.0s\n",
      "[Parallel(n_jobs=8)]: Done 184 tasks      | elapsed:    0.0s\n",
      "[Parallel(n_jobs=8)]: Done 434 tasks      | elapsed:    0.1s\n",
      "[Parallel(n_jobs=8)]: Done 784 tasks      | elapsed:    0.2s\n",
      "[Parallel(n_jobs=8)]: Done 1234 tasks      | elapsed:    0.3s\n",
      "[Parallel(n_jobs=8)]: Done 1784 tasks      | elapsed:    0.4s\n",
      "[Parallel(n_jobs=8)]: Done 2000 out of 2000 | elapsed:    0.5s finished\n"
     ]
    },
    {
     "name": "stdout",
     "output_type": "stream",
     "text": [
      "Predictions created for Aqu_FFJ_Cre_721 ...\n",
      "Analyzing video Aqu_FFJ_Cre_723...\n"
     ]
    },
    {
     "name": "stderr",
     "output_type": "stream",
     "text": [
      "[Parallel(n_jobs=8)]: Using backend ThreadingBackend with 8 concurrent workers.\n",
      "[Parallel(n_jobs=8)]: Done  34 tasks      | elapsed:    0.0s\n",
      "[Parallel(n_jobs=8)]: Done 184 tasks      | elapsed:    0.1s\n",
      "[Parallel(n_jobs=8)]: Done 434 tasks      | elapsed:    0.1s\n",
      "[Parallel(n_jobs=8)]: Done 784 tasks      | elapsed:    0.2s\n",
      "[Parallel(n_jobs=8)]: Done 1234 tasks      | elapsed:    0.3s\n",
      "[Parallel(n_jobs=8)]: Done 1784 tasks      | elapsed:    0.4s\n",
      "[Parallel(n_jobs=8)]: Done 2000 out of 2000 | elapsed:    0.5s finished\n",
      "[Parallel(n_jobs=8)]: Using backend ThreadingBackend with 8 concurrent workers.\n",
      "[Parallel(n_jobs=8)]: Done  34 tasks      | elapsed:    0.0s\n",
      "[Parallel(n_jobs=8)]: Done 184 tasks      | elapsed:    0.1s\n",
      "[Parallel(n_jobs=8)]: Done 434 tasks      | elapsed:    0.2s\n",
      "[Parallel(n_jobs=8)]: Done 784 tasks      | elapsed:    0.3s\n",
      "[Parallel(n_jobs=8)]: Done 1234 tasks      | elapsed:    0.5s\n",
      "[Parallel(n_jobs=8)]: Done 1784 tasks      | elapsed:    0.6s\n",
      "[Parallel(n_jobs=8)]: Done 2000 out of 2000 | elapsed:    0.7s finished\n",
      "[Parallel(n_jobs=8)]: Using backend ThreadingBackend with 8 concurrent workers.\n",
      "[Parallel(n_jobs=8)]: Done  34 tasks      | elapsed:    0.0s\n",
      "[Parallel(n_jobs=8)]: Done 184 tasks      | elapsed:    0.0s\n",
      "[Parallel(n_jobs=8)]: Done 434 tasks      | elapsed:    0.1s\n",
      "[Parallel(n_jobs=8)]: Done 784 tasks      | elapsed:    0.2s\n",
      "[Parallel(n_jobs=8)]: Done 1234 tasks      | elapsed:    0.3s\n",
      "[Parallel(n_jobs=8)]: Done 1784 tasks      | elapsed:    0.4s\n",
      "[Parallel(n_jobs=8)]: Done 2000 out of 2000 | elapsed:    0.5s finished\n"
     ]
    },
    {
     "name": "stdout",
     "output_type": "stream",
     "text": [
      "Predictions created for Aqu_FFJ_Cre_723 ...\n",
      "Analyzing video Aqu_FFJ_Cre_722...\n"
     ]
    },
    {
     "name": "stderr",
     "output_type": "stream",
     "text": [
      "[Parallel(n_jobs=8)]: Using backend ThreadingBackend with 8 concurrent workers.\n",
      "[Parallel(n_jobs=8)]: Done  34 tasks      | elapsed:    0.0s\n",
      "[Parallel(n_jobs=8)]: Done 184 tasks      | elapsed:    0.1s\n",
      "[Parallel(n_jobs=8)]: Done 434 tasks      | elapsed:    0.1s\n",
      "[Parallel(n_jobs=8)]: Done 784 tasks      | elapsed:    0.2s\n",
      "[Parallel(n_jobs=8)]: Done 1234 tasks      | elapsed:    0.3s\n",
      "[Parallel(n_jobs=8)]: Done 1784 tasks      | elapsed:    0.5s\n",
      "[Parallel(n_jobs=8)]: Done 2000 out of 2000 | elapsed:    0.5s finished\n",
      "[Parallel(n_jobs=8)]: Using backend ThreadingBackend with 8 concurrent workers.\n",
      "[Parallel(n_jobs=8)]: Done  34 tasks      | elapsed:    0.0s\n",
      "[Parallel(n_jobs=8)]: Done 184 tasks      | elapsed:    0.0s\n",
      "[Parallel(n_jobs=8)]: Done 434 tasks      | elapsed:    0.1s\n",
      "[Parallel(n_jobs=8)]: Done 784 tasks      | elapsed:    0.2s\n",
      "[Parallel(n_jobs=8)]: Done 1234 tasks      | elapsed:    0.3s\n",
      "[Parallel(n_jobs=8)]: Done 1784 tasks      | elapsed:    0.4s\n",
      "[Parallel(n_jobs=8)]: Done 2000 out of 2000 | elapsed:    0.5s finished\n",
      "[Parallel(n_jobs=8)]: Using backend ThreadingBackend with 8 concurrent workers.\n",
      "[Parallel(n_jobs=8)]: Done  34 tasks      | elapsed:    0.0s\n",
      "[Parallel(n_jobs=8)]: Done 184 tasks      | elapsed:    0.0s\n",
      "[Parallel(n_jobs=8)]: Done 434 tasks      | elapsed:    0.1s\n",
      "[Parallel(n_jobs=8)]: Done 784 tasks      | elapsed:    0.2s\n",
      "[Parallel(n_jobs=8)]: Done 1234 tasks      | elapsed:    0.3s\n",
      "[Parallel(n_jobs=8)]: Done 1784 tasks      | elapsed:    0.4s\n",
      "[Parallel(n_jobs=8)]: Done 2000 out of 2000 | elapsed:    0.5s finished\n"
     ]
    },
    {
     "name": "stdout",
     "output_type": "stream",
     "text": [
      "Predictions created for Aqu_FFJ_Cre_722 ...\n",
      "SIMBA COMPLETE: Machine predictions complete. Files saved in project_folder/csv/machine_results directory (elapsed time: 10.7079s) \tcomplete\n"
     ]
    }
   ],
   "source": [
    "# RUN THE CLASSIFIERS\n",
    "# > NOTE: the minimum bout length, classifier paths, and classification threshold are specified in your project_config.ini.\n",
    "# if you want to change these parameters, then change them in the project_config.ini prior to running the batch inference command\n",
    "InferenceBatch(config_path=CONFIG_PATH).run()"
   ]
  },
  {
   "cell_type": "code",
   "execution_count": 10,
   "id": "946325f4",
   "metadata": {},
   "outputs": [
    {
     "name": "stdout",
     "output_type": "stream",
     "text": [
      "Analyzing 3 file(s) for 3 classifiers...\n",
      "Analyzing video Aqu_FFJ_Cre_721...\n",
      "Analyzing video Aqu_FFJ_Cre_723...\n",
      "Analyzing video Aqu_FFJ_Cre_722...\n",
      "SIMBA COMPLETE: Data log saved at /Users/simon/Desktop/envs/troubleshooting/notebook_example/project_folder/logs/data_summary_20230512090812.csv (elapsed time: 0.4394s) \tcomplete\n"
     ]
    }
   ],
   "source": [
    "# CLASSIFIER DESCRIPTIVE STATISTICS\n",
    "\n",
    "## Specify which aggregate statistics and which classifiers\n",
    "DATA_MEASURES = ['Bout count',\n",
    "                  'Total event duration (s)',\n",
    "                  'Mean event bout duration (s)',\n",
    "                  'Median event bout duration (s)',\n",
    "                  'First event occurrence (s)',\n",
    "                  'Mean event bout interval duration (s)',\n",
    "                  'Median event bout interval duration (s)']\n",
    "CLASSIFIERS = ['freeze', 'groom', 'escape']\n",
    "\n",
    "## RUN THE CLASSIFIER AGGREGATE STATISTIC CALCULATOR AND SAVE THE RESULTS TO DISK\n",
    "agg_clf_results = AggregateClfCalculator(config_path=CONFIG_PATH, data_measures=DATA_MEASURES, classifiers=CLASSIFIERS)\n",
    "agg_clf_results.run()\n",
    "agg_clf_results.save()"
   ]
  },
  {
   "cell_type": "code",
   "execution_count": 13,
   "id": "ab835a08",
   "metadata": {},
   "outputs": [
    {
     "name": "stdout",
     "output_type": "stream",
     "text": [
      "Processing 3 video(s)...\n",
      "Analysing Aqu_FFJ_Cre_721...\n",
      "Analysing Aqu_FFJ_Cre_723...\n",
      "Analysing Aqu_FFJ_Cre_722...\n",
      "SIMBA COMPLETE: Movement log saved in /Users/simon/Desktop/envs/troubleshooting/notebook_example/project_folder/logs/Movement_log_20230512091556.csv (elapsed time: 2.2081s) \tcomplete\n"
     ]
    }
   ],
   "source": [
    "# MOVEMENT DESCRIPTIVE STATISTICS\n",
    "\n",
    "## SPECIFY WHICH BODY-PARTS AND WHICH POSE-ESTIMATION CONFIDENCE THRESHOLD\n",
    "MOVEMENT_BODY_PARTS = ['Animal_1 CENTER OF GRAVITY', 'Animal_1 CENTER OF GRAVITY']\n",
    "MOVEMENT_THRESHOLD = 0.00\n",
    "\n",
    "## RUN THE MOVEMENT CALCULATOR AND SAVE THE RESULTS TO DISK\n",
    "movement_results = MovementCalculator(config_path=CONFIG_PATH, body_parts=MOVEMENT_BODY_PARTS, threshold=MOVEMENT_THRESHOLD)\n",
    "movement_results.run()\n",
    "movement_results.save()"
   ]
  },
  {
   "cell_type": "code",
   "execution_count": null,
   "id": "3e94cfb3",
   "metadata": {},
   "outputs": [],
   "source": []
  }
 ],
 "metadata": {
  "kernelspec": {
   "display_name": "Python_3.6",
   "language": "python",
   "name": "python_3.6"
  },
  "language_info": {
   "codemirror_mode": {
    "name": "ipython",
    "version": 3
   },
   "file_extension": ".py",
   "mimetype": "text/x-python",
   "name": "python",
   "nbconvert_exporter": "python",
   "pygments_lexer": "ipython3",
   "version": "3.6.13"
  }
 },
 "nbformat": 4,
 "nbformat_minor": 5
}
