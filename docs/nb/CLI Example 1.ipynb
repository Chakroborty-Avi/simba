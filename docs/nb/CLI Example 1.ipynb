{
 "cells": [
  {
   "cell_type": "markdown",
   "id": "0c6d738a",
   "metadata": {},
   "source": [
    "# Import data and perform classifications (Example 1)"
   ]
  },
  {
   "cell_type": "markdown",
   "id": "707b7c12",
   "metadata": {},
   "source": [
    "In this notebook we:\n",
    "* (1) Import pose-estimation data to a SimBA project (with optional data cleaning smoothing / interpolation), and\n",
    "* (2) Calculate features from our pose-estimation data, and\n",
    "* (3) Run classification on our data, and finally\n",
    "* (4) Compute some optional aggregate movement statistics from our pose-estimation data.\n",
    "\n",
    "> Note: Check the comments below for user-settings and additional information. And reach out to us on [Gitter](https://app.gitter.im/#/room/#SimBA-Resource_community:gitter.im) or [GitHub](https://github.com/sgoldenlab) if you hit any blockers and we will work to resolve it."
   ]
  },
  {
   "cell_type": "code",
   "execution_count": 1,
   "id": "dd66c2cf",
   "metadata": {},
   "outputs": [
    {
     "name": "stderr",
     "output_type": "stream",
     "text": [
      "/Users/simon/opt/anaconda3/envs/Python_3.6/lib/python3.6/site-packages/sklearn/utils/deprecation.py:144: FutureWarning: The sklearn.metrics.classification module is  deprecated in version 0.22 and will be removed in version 0.24. The corresponding classes / functions should instead be imported from sklearn.metrics. Anything that cannot be imported from sklearn.metrics is now part of the private API.\n",
      "  warnings.warn(message, FutureWarning)\n"
     ]
    }
   ],
   "source": [
    "import simba # version >= 1.59.3\n",
    "from simba.pose_importers.dlc_importer_csv import import_multiple_dlc_tracking_csv_file\n",
    "from simba.outlier_tools.skip_outlier_correction import OutlierCorrectionSkipper\n",
    "from simba.utils.cli.cli_tools import feature_extraction_runner, set_video_parameters\n",
    "from simba.model.inference_batch import InferenceBatch\n",
    "from simba.data_processors.agg_clf_calculator import AggregateClfCalculator\n",
    "from simba.data_processors.movement_calculator import MovementCalculator"
   ]
  },
  {
   "cell_type": "code",
   "execution_count": 14,
   "id": "7bdd4db2",
   "metadata": {},
   "outputs": [
    {
     "name": "stdout",
     "output_type": "stream",
     "text": [
      "Name: Simba-UW-tf-dev\r\n",
      "Version: 1.94.9\r\n",
      "Summary: Toolkit for computer classification of behaviors in experimental animals\r\n",
      "Home-page: https://github.com/sgoldenlab/simba\r\n",
      "Author: Simon Nilsson, Jia Jie Choong, Sophia Hwang\r\n",
      "Author-email: sronilsson@gmail.com\r\n",
      "License: GNU Lesser General Public License v3 (LGPLv3)\r\n",
      "Location: /Users/simon/opt/anaconda3/envs/simba/lib/python3.6/site-packages\r\n",
      "Requires: pandas, dash-core-components, scikit-image, scipy, matplotlib, eli5, kaleido, numpy, dash-html-components, pyyaml, xlrd, shapely, numba, dash, shap, cefpython3, seaborn, ffmpeg-python, opencv-python, joblib, imutils, dash-colorscales, tqdm, xgboost, plotly, psutil, dash-color-picker, tabulate, numexpr, trafaret, imbalanced-learn, Pillow, yellowbrick, scikit-learn, dtreeviz, pyarrow, imgaug, graphviz, geos, h5py, tables, statsmodels\r\n",
      "Required-by: \r\n"
     ]
    }
   ],
   "source": [
    "!pip show simba-uw-tf-dev"
   ]
  },
  {
   "cell_type": "code",
   "execution_count": 15,
   "id": "f7b312f0",
   "metadata": {},
   "outputs": [],
   "source": [
    "# DEFINITIONS: HERE WE (i) DEFINE THE PATHS TO OUR DATA / SIMBA PROJECT, (ii) HOW WE SHOULD INTERPOLATE / SMOOTH OUR NEW \n",
    "# DATA, AND (III) THE ATTRIBUTES OF OUR NEW VIDEOS (FPS ETC.)\n",
    "\n",
    "## Define the path to our SimBA project config ini\n",
    "CONFIG_PATH = '/Users/simon/Desktop/envs/simba/troubleshooting/levi/project_folder/project_config.ini'\n",
    "\n",
    "## Define the path to the directory holding our new DLC CSV pose-estimation data \n",
    "DATA_DIR = '/Users/simon/Desktop/envs/simba/troubleshooting/levi/import_data'\n",
    "\n",
    "## Define if / how you want to interpolate missing pose-estimation data,\n",
    "## and if/how you want to smooth the new pose estimation data: here we do neither.\n",
    "INTERPOLATION_SETTING = 'Body-parts: Nearest' # OPTIONS: 'None', Animal(s): Nearest', 'Animal(s): Linear', 'Animal(s): Quadratic','Body-parts: Nearest', 'Body-parts: Linear', 'Body-parts: Quadratic'\n",
    "SMOOTHING_SETTING = None # OPTIONS: 'Gaussian', 'Savitzky Golay'\n",
    "SMOOTHING_TIME = None # TIME IN MILLISECOND\n",
    "\n",
    "## Define the fps and the pixels per millimeter of the incoming data: has to be the same for all new videos.\n",
    "## if you have varying fps / px per millimeter / resolutions, then use gui (2023/05)\n",
    "FPS = 15\n",
    "PX_PER_MM = 4.6\n",
    "RESOLUTION = (600, 400) # WIDTH X HEIGHT"
   ]
  },
  {
   "cell_type": "code",
   "execution_count": 17,
   "id": "2c07436e",
   "metadata": {},
   "outputs": [
    {
     "name": "stdout",
     "output_type": "stream",
     "text": [
      "Importing 6676 to SimBA project...\n",
      "Pose-estimation data for video 6676 imported to SimBA project (elapsed time: 1.0319s)...\n",
      "Video 6676 interpolated (elapsed time 1.7966) ...\n",
      "SIMBA COMPLETE: 1 data file(s) interpolated) (elapsed time: 1.8036s) \tcomplete\n",
      "SIMBA COMPLETE: Imported 1 pose estimation file(s) (elapsed time: 2.8514s) \tcomplete\n"
     ]
    }
   ],
   "source": [
    "# WE RUN THE DATA IMPORTER FOR OUR DIRECTORY OF FILES\n",
    "## This imports your DLC files in the ``DATA_DIR`` according to the smoothing / interpolation settings defined above\n",
    "import_multiple_dlc_tracking_csv_file(config_path=CONFIG_PATH,\n",
    "                                     interpolation_setting=INTERPOLATION_SETTING,\n",
    "                                     smoothing_setting=SMOOTHING_SETTING,\n",
    "                                     smoothing_time=SMOOTHING_TIME,\n",
    "                                     data_dir=DATA_DIR)"
   ]
  },
  {
   "cell_type": "code",
   "execution_count": 5,
   "id": "1d920d99",
   "metadata": {},
   "outputs": [
    {
     "name": "stdout",
     "output_type": "stream",
     "text": [
      "Processing 3 file(s)...\n",
      "Skipped outlier correction for video Aqu_FFJ_Cre_721 (elapsed time 0.1739s)...\n",
      "Skipped outlier correction for video Aqu_FFJ_Cre_723 (elapsed time 0.1518s)...\n",
      "Skipped outlier correction for video Aqu_FFJ_Cre_722 (elapsed time 0.1434s)...\n",
      "SIMBA COMPLETE: Skipped outlier correction for 3 files (elapsed time: 0.4862s) \tcomplete\n"
     ]
    }
   ],
   "source": [
    "# RUN OUTLIER CORRECTION. HERE, WE SPECIFY THAT WE WANT TO SKIP OUTLIER CORRECTION.  \n",
    "OutlierCorrectionSkipper(config_path=CONFIG_PATH).run()"
   ]
  },
  {
   "cell_type": "code",
   "execution_count": 6,
   "id": "24374f11",
   "metadata": {},
   "outputs": [
    {
     "name": "stdout",
     "output_type": "stream",
     "text": [
      "SIMBA COMPLETE: Video parameters set (elapsed time: 0.0146s) \tcomplete\n"
     ]
    }
   ],
   "source": [
    "# SET THE VIDEO PARAMETERS FOR THE NEW VIDEOS. \n",
    "## This command inserts your new videos in the ``project_folder/logs/video_info.csv`` according to your video attributes specified above.\n",
    "set_video_parameters(config_path=CONFIG_PATH, px_per_mm=PX_PER_MM, fps=FPS, resolution=RESOLUTION)"
   ]
  },
  {
   "cell_type": "code",
   "execution_count": 7,
   "id": "c1a3ccd1",
   "metadata": {},
   "outputs": [
    {
     "name": "stdout",
     "output_type": "stream",
     "text": [
      "Pose-estimation body part setting for feature extraction: 1 animals 1 body-parts\n",
      "Extracting features from 3 file(s)...\n",
      "Processing Aqu_FFJ_Cre_721 (5401 frames)...\n",
      "Calculating hull variables...\n",
      "Calculating rolling windows: medians, medians, and sums...\n",
      "Calculating angles...\n",
      "Calculating deviations...\n",
      "Calculating percentile ranks...\n",
      "Calculating path tortuosities...\n",
      "Calculating pose probability scores...\n",
      "Feature extraction complete for Aqu_FFJ_Cre_721 (1/3 (elapsed time: 2.5067s)...\n",
      "Processing Aqu_FFJ_Cre_723 (5401 frames)...\n",
      "Calculating hull variables...\n",
      "Calculating rolling windows: medians, medians, and sums...\n",
      "Calculating angles...\n",
      "Calculating deviations...\n",
      "Calculating percentile ranks...\n",
      "Calculating path tortuosities...\n",
      "Calculating pose probability scores...\n",
      "Feature extraction complete for Aqu_FFJ_Cre_723 (2/3 (elapsed time: 1.5574s)...\n",
      "Processing Aqu_FFJ_Cre_722 (5401 frames)...\n",
      "Calculating hull variables...\n",
      "Calculating rolling windows: medians, medians, and sums...\n",
      "Calculating angles...\n",
      "Calculating deviations...\n",
      "Calculating percentile ranks...\n",
      "Calculating path tortuosities...\n",
      "Calculating pose probability scores...\n",
      "Feature extraction complete for Aqu_FFJ_Cre_722 (3/3 (elapsed time: 1.4799s)...\n",
      "SIMBA COMPLETE: All features extracted. Results stored in project_folder/csv/features_extracted directory (elapsed time: 5.5583s) \tcomplete\n"
     ]
    }
   ],
   "source": [
    "# COMPUTE FEATURES\n",
    "# Here we run feature extraction for all the files found in the ``project_folder/csv/outlier_corrected_movement_location`` directory.\n",
    "feature_extraction_runner(config_path=CONFIG_PATH)"
   ]
  },
  {
   "cell_type": "code",
   "execution_count": 8,
   "id": "512b36f8",
   "metadata": {},
   "outputs": [
    {
     "name": "stdout",
     "output_type": "stream",
     "text": [
      "Analyzing 3 file(s) with 3 classifier(s)\n",
      "Analyzing video Aqu_FFJ_Cre_721...\n"
     ]
    },
    {
     "name": "stderr",
     "output_type": "stream",
     "text": [
      "[Parallel(n_jobs=8)]: Using backend ThreadingBackend with 8 concurrent workers.\n",
      "[Parallel(n_jobs=8)]: Done  34 tasks      | elapsed:    0.0s\n",
      "[Parallel(n_jobs=8)]: Done 184 tasks      | elapsed:    0.1s\n",
      "[Parallel(n_jobs=8)]: Done 434 tasks      | elapsed:    0.1s\n",
      "[Parallel(n_jobs=8)]: Done 784 tasks      | elapsed:    0.2s\n",
      "[Parallel(n_jobs=8)]: Done 1234 tasks      | elapsed:    0.3s\n",
      "[Parallel(n_jobs=8)]: Done 1784 tasks      | elapsed:    0.4s\n",
      "[Parallel(n_jobs=8)]: Done 2000 out of 2000 | elapsed:    0.5s finished\n",
      "[Parallel(n_jobs=8)]: Using backend ThreadingBackend with 8 concurrent workers.\n",
      "[Parallel(n_jobs=8)]: Done  34 tasks      | elapsed:    0.0s\n",
      "[Parallel(n_jobs=8)]: Done 184 tasks      | elapsed:    0.1s\n",
      "[Parallel(n_jobs=8)]: Done 434 tasks      | elapsed:    0.1s\n",
      "[Parallel(n_jobs=8)]: Done 784 tasks      | elapsed:    0.2s\n",
      "[Parallel(n_jobs=8)]: Done 1234 tasks      | elapsed:    0.3s\n",
      "[Parallel(n_jobs=8)]: Done 1784 tasks      | elapsed:    0.4s\n",
      "[Parallel(n_jobs=8)]: Done 2000 out of 2000 | elapsed:    0.4s finished\n",
      "[Parallel(n_jobs=8)]: Using backend ThreadingBackend with 8 concurrent workers.\n",
      "[Parallel(n_jobs=8)]: Done  34 tasks      | elapsed:    0.0s\n",
      "[Parallel(n_jobs=8)]: Done 184 tasks      | elapsed:    0.0s\n",
      "[Parallel(n_jobs=8)]: Done 434 tasks      | elapsed:    0.1s\n",
      "[Parallel(n_jobs=8)]: Done 784 tasks      | elapsed:    0.2s\n",
      "[Parallel(n_jobs=8)]: Done 1234 tasks      | elapsed:    0.2s\n",
      "[Parallel(n_jobs=8)]: Done 1784 tasks      | elapsed:    0.4s\n",
      "[Parallel(n_jobs=8)]: Done 2000 out of 2000 | elapsed:    0.4s finished\n"
     ]
    },
    {
     "name": "stdout",
     "output_type": "stream",
     "text": [
      "Predictions created for Aqu_FFJ_Cre_721 ...\n",
      "Analyzing video Aqu_FFJ_Cre_723...\n"
     ]
    },
    {
     "name": "stderr",
     "output_type": "stream",
     "text": [
      "[Parallel(n_jobs=8)]: Using backend ThreadingBackend with 8 concurrent workers.\n",
      "[Parallel(n_jobs=8)]: Done  34 tasks      | elapsed:    0.0s\n",
      "[Parallel(n_jobs=8)]: Done 184 tasks      | elapsed:    0.0s\n",
      "[Parallel(n_jobs=8)]: Done 434 tasks      | elapsed:    0.1s\n",
      "[Parallel(n_jobs=8)]: Done 784 tasks      | elapsed:    0.2s\n",
      "[Parallel(n_jobs=8)]: Done 1234 tasks      | elapsed:    0.3s\n",
      "[Parallel(n_jobs=8)]: Done 1784 tasks      | elapsed:    0.4s\n",
      "[Parallel(n_jobs=8)]: Done 2000 out of 2000 | elapsed:    0.5s finished\n",
      "[Parallel(n_jobs=8)]: Using backend ThreadingBackend with 8 concurrent workers.\n",
      "[Parallel(n_jobs=8)]: Done  34 tasks      | elapsed:    0.0s\n",
      "[Parallel(n_jobs=8)]: Done 184 tasks      | elapsed:    0.0s\n",
      "[Parallel(n_jobs=8)]: Done 434 tasks      | elapsed:    0.1s\n",
      "[Parallel(n_jobs=8)]: Done 784 tasks      | elapsed:    0.2s\n",
      "[Parallel(n_jobs=8)]: Done 1234 tasks      | elapsed:    0.3s\n",
      "[Parallel(n_jobs=8)]: Done 1784 tasks      | elapsed:    0.4s\n",
      "[Parallel(n_jobs=8)]: Done 2000 out of 2000 | elapsed:    0.5s finished\n",
      "[Parallel(n_jobs=8)]: Using backend ThreadingBackend with 8 concurrent workers.\n",
      "[Parallel(n_jobs=8)]: Done  34 tasks      | elapsed:    0.0s\n",
      "[Parallel(n_jobs=8)]: Done 184 tasks      | elapsed:    0.0s\n",
      "[Parallel(n_jobs=8)]: Done 434 tasks      | elapsed:    0.1s\n",
      "[Parallel(n_jobs=8)]: Done 784 tasks      | elapsed:    0.2s\n",
      "[Parallel(n_jobs=8)]: Done 1234 tasks      | elapsed:    0.3s\n",
      "[Parallel(n_jobs=8)]: Done 1784 tasks      | elapsed:    0.4s\n",
      "[Parallel(n_jobs=8)]: Done 2000 out of 2000 | elapsed:    0.5s finished\n"
     ]
    },
    {
     "name": "stdout",
     "output_type": "stream",
     "text": [
      "Predictions created for Aqu_FFJ_Cre_723 ...\n",
      "Analyzing video Aqu_FFJ_Cre_722...\n"
     ]
    },
    {
     "name": "stderr",
     "output_type": "stream",
     "text": [
      "[Parallel(n_jobs=8)]: Using backend ThreadingBackend with 8 concurrent workers.\n",
      "[Parallel(n_jobs=8)]: Done  34 tasks      | elapsed:    0.0s\n",
      "[Parallel(n_jobs=8)]: Done 184 tasks      | elapsed:    0.0s\n",
      "[Parallel(n_jobs=8)]: Done 434 tasks      | elapsed:    0.1s\n",
      "[Parallel(n_jobs=8)]: Done 784 tasks      | elapsed:    0.2s\n",
      "[Parallel(n_jobs=8)]: Done 1234 tasks      | elapsed:    0.3s\n",
      "[Parallel(n_jobs=8)]: Done 1784 tasks      | elapsed:    0.4s\n",
      "[Parallel(n_jobs=8)]: Done 2000 out of 2000 | elapsed:    0.4s finished\n",
      "[Parallel(n_jobs=8)]: Using backend ThreadingBackend with 8 concurrent workers.\n",
      "[Parallel(n_jobs=8)]: Done  34 tasks      | elapsed:    0.0s\n",
      "[Parallel(n_jobs=8)]: Done 184 tasks      | elapsed:    0.0s\n",
      "[Parallel(n_jobs=8)]: Done 434 tasks      | elapsed:    0.1s\n",
      "[Parallel(n_jobs=8)]: Done 784 tasks      | elapsed:    0.2s\n",
      "[Parallel(n_jobs=8)]: Done 1234 tasks      | elapsed:    0.3s\n",
      "[Parallel(n_jobs=8)]: Done 1784 tasks      | elapsed:    0.4s\n",
      "[Parallel(n_jobs=8)]: Done 2000 out of 2000 | elapsed:    0.4s finished\n",
      "[Parallel(n_jobs=8)]: Using backend ThreadingBackend with 8 concurrent workers.\n",
      "[Parallel(n_jobs=8)]: Done  34 tasks      | elapsed:    0.0s\n",
      "[Parallel(n_jobs=8)]: Done 184 tasks      | elapsed:    0.0s\n",
      "[Parallel(n_jobs=8)]: Done 434 tasks      | elapsed:    0.1s\n",
      "[Parallel(n_jobs=8)]: Done 784 tasks      | elapsed:    0.2s\n",
      "[Parallel(n_jobs=8)]: Done 1234 tasks      | elapsed:    0.3s\n",
      "[Parallel(n_jobs=8)]: Done 1784 tasks      | elapsed:    0.4s\n",
      "[Parallel(n_jobs=8)]: Done 2000 out of 2000 | elapsed:    0.4s finished\n"
     ]
    },
    {
     "name": "stdout",
     "output_type": "stream",
     "text": [
      "Predictions created for Aqu_FFJ_Cre_722 ...\n",
      "SIMBA COMPLETE: Machine predictions complete. Files saved in project_folder/csv/machine_results directory (elapsed time: 8.3499s) \tcomplete\n"
     ]
    }
   ],
   "source": [
    "# RUN THE CLASSIFIERS\n",
    "# > NOTE: the minimum bout length, classifier paths, and classification threshold are specified in your project_config.ini.\n",
    "# if you want to change these parameters, then change them in the project_config.ini prior to running the batch inference command\n",
    "InferenceBatch(config_path=CONFIG_PATH).run()"
   ]
  },
  {
   "cell_type": "code",
   "execution_count": 9,
   "id": "8dafd333",
   "metadata": {},
   "outputs": [
    {
     "name": "stdout",
     "output_type": "stream",
     "text": [
      "Analyzing 3 file(s) for 3 classifiers...\n",
      "Analyzing video Aqu_FFJ_Cre_721...\n",
      "Analyzing video Aqu_FFJ_Cre_723...\n",
      "Analyzing video Aqu_FFJ_Cre_722...\n",
      "SIMBA COMPLETE: Data log saved at /Users/simon/Desktop/envs/troubleshooting/notebook_example/project_folder/logs/data_summary_20230512135845.csv (elapsed time: 0.4487s) \tcomplete\n"
     ]
    }
   ],
   "source": [
    "# CLASSIFIER DESCRIPTIVE STATISTICS\n",
    "\n",
    "## Specify which aggregate statistics and which classifiers\n",
    "DATA_MEASURES = ['Bout count',\n",
    "                  'Total event duration (s)',\n",
    "                  'Mean event bout duration (s)',\n",
    "                  'Median event bout duration (s)',\n",
    "                  'First event occurrence (s)',\n",
    "                  'Mean event bout interval duration (s)',\n",
    "                  'Median event bout interval duration (s)']\n",
    "CLASSIFIERS = ['freeze', 'groom', 'escape']\n",
    "\n",
    "## RUN THE CLASSIFIER AGGREGATE STATISTIC CALCULATOR AND SAVE THE RESULTS TO DISK\n",
    "agg_clf_results = AggregateClfCalculator(config_path=CONFIG_PATH, data_measures=DATA_MEASURES, classifiers=CLASSIFIERS)\n",
    "agg_clf_results.run()\n",
    "agg_clf_results.save()"
   ]
  },
  {
   "cell_type": "code",
   "execution_count": 10,
   "id": "54f9f740",
   "metadata": {},
   "outputs": [
    {
     "name": "stdout",
     "output_type": "stream",
     "text": [
      "Processing 3 video(s)...\n",
      "Analysing Aqu_FFJ_Cre_721...\n",
      "Analysing Aqu_FFJ_Cre_723...\n",
      "Analysing Aqu_FFJ_Cre_722...\n",
      "SIMBA COMPLETE: Movement log saved in /Users/simon/Desktop/envs/troubleshooting/notebook_example/project_folder/logs/Movement_log_20230512135848.csv (elapsed time: 2.2075s) \tcomplete\n"
     ]
    }
   ],
   "source": [
    "# MOVEMENT DESCRIPTIVE STATISTICS\n",
    "\n",
    "## SPECIFY WHICH BODY-PARTS AND WHICH POSE-ESTIMATION CONFIDENCE THRESHOLD\n",
    "MOVEMENT_BODY_PARTS = ['Animal_1 CENTER OF GRAVITY', 'Animal_1 CENTER OF GRAVITY']\n",
    "MOVEMENT_THRESHOLD = 0.00\n",
    "\n",
    "## RUN THE MOVEMENT CALCULATOR AND SAVE THE RESULTS TO DISK\n",
    "movement_results = MovementCalculator(config_path=CONFIG_PATH, body_parts=MOVEMENT_BODY_PARTS, threshold=MOVEMENT_THRESHOLD)\n",
    "movement_results.run()\n",
    "movement_results.save()"
   ]
  },
  {
   "cell_type": "code",
   "execution_count": null,
   "id": "ae1d53f4",
   "metadata": {},
   "outputs": [],
   "source": []
  }
 ],
 "metadata": {
  "kernelspec": {
   "display_name": "simba",
   "language": "python",
   "name": "simba"
  },
  "language_info": {
   "codemirror_mode": {
    "name": "ipython",
    "version": 3
   },
   "file_extension": ".py",
   "mimetype": "text/x-python",
   "name": "python",
   "nbconvert_exporter": "python",
   "pygments_lexer": "ipython3",
   "version": "3.6.13"
  }
 },
 "nbformat": 4,
 "nbformat_minor": 5
}
