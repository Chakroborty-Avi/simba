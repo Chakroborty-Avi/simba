{
 "cells": [
  {
   "cell_type": "code",
   "execution_count": 7,
   "id": "b6542b89",
   "metadata": {},
   "outputs": [],
   "source": [
    "import os\n",
    "from simba.mixins.config_reader import ConfigReader\n",
    "from simba.mixins.geometry_mixin import GeometryMixin\n",
    "from simba.mixins.image_mixin import ImageMixin\n",
    "from simba.plotting.geometry_plotter import GeometryPlotter\n",
    "from simba.utils.read_write import (get_video_meta_data, read_df)\n",
    "from IPython.display import Video"
   ]
  },
  {
   "cell_type": "code",
   "execution_count": 2,
   "id": "b9e81bd4",
   "metadata": {},
   "outputs": [],
   "source": [
    "#DEFINE PROJECT PATH, ANIMAL NAMES AND VIDEO NAME\n",
    "CONFIG_PATH = \"/Users/simon/Desktop/envs/simba/troubleshooting/RI/project_folder/project_config.ini\"\n",
    "VIDEO_NAME = \"RI_01_165_clipped\"\n",
    "WHITE = \"Animal_1\"\n",
    "BLACK = \"Animal_2\""
   ]
  },
  {
   "cell_type": "code",
   "execution_count": 3,
   "id": "2598bad8",
   "metadata": {},
   "outputs": [],
   "source": [
    "# READ IN DATA BASED ON THE ABOVE SPECIFICATIONS\n",
    "config = ConfigReader(config_path=CONFIG_PATH, create_logger=False)\n",
    "data_path = os.path.join(config.outlier_corrected_dir, f\"{VIDEO_NAME}.{config.file_type}\")\n",
    "video_path = os.path.join(config.video_dir, f\"{VIDEO_NAME}.mp4\")\n",
    "get_video_meta_data(video_path)\n",
    "df = read_df(file_path=data_path, file_type=config.file_type)\n",
    "resolution, pixels_per_mm, fps = config.read_video_info(video_name=VIDEO_NAME)"
   ]
  },
  {
   "cell_type": "code",
   "execution_count": 4,
   "id": "924d9f91",
   "metadata": {},
   "outputs": [],
   "source": [
    "#EXTRACT THE WHITE AND BLACK ANIMAL POSE-ESTIMATION FROM THE DATA\n",
    "white_animal_bp_names, black_animal_bp_names = (config.animal_bp_dict[WHITE], config.animal_bp_dict[BLACK])\n",
    "white_animal_cols, black_animal_cols = [], []\n",
    "for x, y in zip(white_animal_bp_names[\"X_bps\"], white_animal_bp_names[\"Y_bps\"]): white_animal_cols.extend((x, y))\n",
    "for x, y in zip(black_animal_bp_names[\"X_bps\"], black_animal_bp_names[\"Y_bps\"]): black_animal_cols.extend((x, y))\n",
    "white_animal_df, black_animal_df = df[white_animal_cols].astype(int), df[black_animal_cols].astype(int)\n",
    "white_animal_df_arr = white_animal_df.values.reshape(len(white_animal_df), -1, 2)\n",
    "black_animal_df_arr = black_animal_df.values.reshape(len(black_animal_df), -1, 2)"
   ]
  },
  {
   "cell_type": "code",
   "execution_count": 5,
   "id": "b1c77c9b",
   "metadata": {},
   "outputs": [
    {
     "name": "stdout",
     "output_type": "stream",
     "text": [
      "SIMBA COMPLETE: Polygons complete. (elapsed time: 0.1495s) \tcomplete\n",
      "SIMBA COMPLETE: Polygons complete. (elapsed time: 0.1904s) \tcomplete\n",
      "SIMBA COMPLETE: Rotated rectangles complete. (elapsed time: 0.153s) \tcomplete\n",
      "SIMBA COMPLETE: Rotated rectangles complete. (elapsed time: 0.1474s) \tcomplete\n"
     ]
    }
   ],
   "source": [
    "# EXTRACT THE ANIMAL SHAPES, AND FORCE THEM INTO RECTANGLES\n",
    "white_animal_polygons = GeometryMixin().multiframe_bodyparts_to_polygon( data=white_animal_df_arr, pixels_per_mm=pixels_per_mm, parallel_offset=40, verbose=False, core_cnt=-1)\n",
    "black_animal_polygons = GeometryMixin().multiframe_bodyparts_to_polygon( data=black_animal_df_arr, pixels_per_mm=pixels_per_mm, parallel_offset=40, verbose=False, core_cnt=-1)\n",
    "white_animal_polygons = GeometryMixin().multiframe_minimum_rotated_rectangle(shapes=white_animal_polygons, verbose=False, core_cnt=-1)\n",
    "black_animal_polygons = GeometryMixin().multiframe_minimum_rotated_rectangle(shapes=black_animal_polygons, verbose=False, core_cnt=-1)\n"
   ]
  },
  {
   "cell_type": "code",
   "execution_count": 6,
   "id": "d86651ce",
   "metadata": {},
   "outputs": [
    {
     "name": "stdout",
     "output_type": "stream",
     "text": [
      "SIMBA COMPLETE: Geometry image slicing complete. (elapsed time: 1.4094s) \tcomplete\n"
     ]
    },
    {
     "name": "stderr",
     "output_type": "stream",
     "text": [
      "/Users/simon/opt/anaconda3/envs/simba_dev/lib/python3.6/site-packages/IPython/core/interactiveshell.py:3343: FutureWarning: arrays to stack must be passed as a \"sequence\" type such as list or tuple. Support for non-sequence iterables such as generators is deprecated as of NumPy 1.16 and will raise an error in the future.\n",
      "  exec(code_obj, self.user_global_ns, self.user_ns)\n"
     ]
    }
   ],
   "source": [
    "# IF WE WANT, THEN WE CAN VISUALIZE THE ANIMAL GEOMETRIES AS SLICED FROM THE VIDEO\n",
    "imgs = ImageMixin().slice_shapes_in_imgs(imgs=video_path, shapes=white_animal_polygons, verbose=False)\n",
    "ImageMixin.img_stack_to_video(imgs=imgs, \n",
    "                              save_path=\"/Users/simon/Desktop/envs/simba/troubleshooting/RI/project_folder/frames/output/stack/test.mp4\", \n",
    "                              fps=fps,\n",
    "                              verbose=False)"
   ]
  },
  {
   "cell_type": "code",
   "execution_count": null,
   "id": "27292622",
   "metadata": {},
   "outputs": [],
   "source": [
    "#TO VIEW THE VIDEO (NOT SURE HOW WELL THIS WORKS IN SPHINX/READTHEDOCS)\n",
    "Video(video_link)"
   ]
  }
 ],
 "metadata": {
  "kernelspec": {
   "display_name": "simba_dev",
   "language": "python",
   "name": "simba_dev"
  },
  "language_info": {
   "codemirror_mode": {
    "name": "ipython",
    "version": 3
   },
   "file_extension": ".py",
   "mimetype": "text/x-python",
   "name": "python",
   "nbconvert_exporter": "python",
   "pygments_lexer": "ipython3",
   "version": "3.6.13"
  }
 },
 "nbformat": 4,
 "nbformat_minor": 5
}
