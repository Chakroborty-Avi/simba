{
 "cells": [
  {
   "cell_type": "code",
   "execution_count": 3,
   "id": "5ca7d432",
   "metadata": {},
   "outputs": [],
   "source": [
    "from simba.mixins.config_reader import ConfigReader\n",
    "from simba.mixins.geometry_mixin import GeometryMixin\n",
    "from simba.mixins.image_mixin import ImageMixin\n",
    "from simba.plotting.geometry_plotter import GeometryPlotter\n",
    "from simba.utils.read_write import (get_video_meta_data, read_df)"
   ]
  },
  {
   "cell_type": "code",
   "execution_count": null,
   "id": "8ed9df5b",
   "metadata": {},
   "outputs": [],
   "source": [
    "\n",
    "CONFIG_PATH = \"/Users/simon/Desktop/envs/simba/troubleshooting/RI/project_folder/project_config.ini\"\n",
    "VIDEO_NAME = \"RI_01_165_clipped\"\n",
    "WHITE = \"Animal_1\"\n",
    "BLACK = \"Animal_2\""
   ]
  }
 ],
 "metadata": {
  "kernelspec": {
   "display_name": "simba_dev",
   "language": "python",
   "name": "simba_dev"
  },
  "language_info": {
   "codemirror_mode": {
    "name": "ipython",
    "version": 3
   },
   "file_extension": ".py",
   "mimetype": "text/x-python",
   "name": "python",
   "nbconvert_exporter": "python",
   "pygments_lexer": "ipython3",
   "version": "3.6.13"
  }
 },
 "nbformat": 4,
 "nbformat_minor": 5
}
